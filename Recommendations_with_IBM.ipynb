{
 "cells": [
  {
   "cell_type": "markdown",
   "metadata": {},
   "source": [
    "# Recommendation System Project: IBM Community\n",
    "\n",
    "In this notebook, you will be putting your recommendation skills to use on real data from the IBM Watson Studio platform. \n",
    "\n",
    "\n",
    "You may either submit your notebook through the workspace here, or you may work from your local machine and submit through the next page.  Either way assure that your code passes the project [RUBRIC](https://review.udacity.com/#!/rubrics/3325/view).  **Please save regularly.**\n",
    "\n",
    "By following the table of contents, you will build out a number of different methods for making recommendations that can be used for different situations. \n",
    "\n",
    "\n",
    "## Table of Contents\n",
    "\n",
    "I. [Exploratory Data Analysis](#Exploratory-Data-Analysis)<br>\n",
    "II. [Rank Based Recommendations](#Rank)<br>\n",
    "III. [User-User Based Collaborative Filtering](#User-User)<br>\n",
    "IV. [Content Based Recommendations](#Content-Recs)<br>\n",
    "V. [Matrix Factorization](#Matrix-Fact)<br>\n",
    "VI. [Extras & Concluding](#conclusions)\n",
    "\n",
    "At the end of the notebook, you will find directions for how to submit your work.  Let's get started by importing the necessary libraries and reading in the data."
   ]
  },
  {
   "cell_type": "code",
   "execution_count": 1,
   "metadata": {},
   "outputs": [
    {
     "data": {
      "text/html": [
       "<div>\n",
       "<style scoped>\n",
       "    .dataframe tbody tr th:only-of-type {\n",
       "        vertical-align: middle;\n",
       "    }\n",
       "\n",
       "    .dataframe tbody tr th {\n",
       "        vertical-align: top;\n",
       "    }\n",
       "\n",
       "    .dataframe thead th {\n",
       "        text-align: right;\n",
       "    }\n",
       "</style>\n",
       "<table border=\"1\" class=\"dataframe\">\n",
       "  <thead>\n",
       "    <tr style=\"text-align: right;\">\n",
       "      <th></th>\n",
       "      <th>Unnamed: 0</th>\n",
       "      <th>article_id</th>\n",
       "      <th>title</th>\n",
       "      <th>email</th>\n",
       "    </tr>\n",
       "  </thead>\n",
       "  <tbody>\n",
       "    <tr>\n",
       "      <th>0</th>\n",
       "      <td>0</td>\n",
       "      <td>1430</td>\n",
       "      <td>using pixiedust for fast, flexible, and easier...</td>\n",
       "      <td>ef5f11f77ba020cd36e1105a00ab868bbdbf7fe7</td>\n",
       "    </tr>\n",
       "    <tr>\n",
       "      <th>1</th>\n",
       "      <td>1</td>\n",
       "      <td>1314</td>\n",
       "      <td>healthcare python streaming application demo</td>\n",
       "      <td>083cbdfa93c8444beaa4c5f5e0f5f9198e4f9e0b</td>\n",
       "    </tr>\n",
       "    <tr>\n",
       "      <th>2</th>\n",
       "      <td>2</td>\n",
       "      <td>1429</td>\n",
       "      <td>use deep learning for image classification</td>\n",
       "      <td>b96a4f2e92d8572034b1e9b28f9ac673765cd074</td>\n",
       "    </tr>\n",
       "    <tr>\n",
       "      <th>3</th>\n",
       "      <td>3</td>\n",
       "      <td>1338</td>\n",
       "      <td>ml optimization using cognitive assistant</td>\n",
       "      <td>06485706b34a5c9bf2a0ecdac41daf7e7654ceb7</td>\n",
       "    </tr>\n",
       "    <tr>\n",
       "      <th>4</th>\n",
       "      <td>4</td>\n",
       "      <td>1276</td>\n",
       "      <td>deploy your python model as a restful api</td>\n",
       "      <td>f01220c46fc92c6e6b161b1849de11faacd7ccb2</td>\n",
       "    </tr>\n",
       "  </tbody>\n",
       "</table>\n",
       "</div>"
      ],
      "text/plain": [
       "   Unnamed: 0  article_id                                              title  \\\n",
       "0           0        1430  using pixiedust for fast, flexible, and easier...   \n",
       "1           1        1314       healthcare python streaming application demo   \n",
       "2           2        1429         use deep learning for image classification   \n",
       "3           3        1338          ml optimization using cognitive assistant   \n",
       "4           4        1276          deploy your python model as a restful api   \n",
       "\n",
       "                                      email  \n",
       "0  ef5f11f77ba020cd36e1105a00ab868bbdbf7fe7  \n",
       "1  083cbdfa93c8444beaa4c5f5e0f5f9198e4f9e0b  \n",
       "2  b96a4f2e92d8572034b1e9b28f9ac673765cd074  \n",
       "3  06485706b34a5c9bf2a0ecdac41daf7e7654ceb7  \n",
       "4  f01220c46fc92c6e6b161b1849de11faacd7ccb2  "
      ]
     },
     "execution_count": 1,
     "metadata": {},
     "output_type": "execute_result"
    }
   ],
   "source": [
    "import pandas as pd\n",
    "import numpy as np\n",
    "import matplotlib.pyplot as plt\n",
    "import project_tests as t\n",
    "\n",
    "\n",
    "df = pd.read_csv(\n",
    "    'data/user-item-interactions.csv', \n",
    "    dtype={'article_id': int, 'title': str, 'email': str}\n",
    ")\n",
    "# Show df to get an idea of the data\n",
    "df.head()"
   ]
  },
  {
   "cell_type": "markdown",
   "metadata": {},
   "source": [
    "### <a class=\"anchor\" id=\"Exploratory-Data-Analysis\">Part I : Exploratory Data Analysis</a>\n",
    "\n",
    "Use the dictionary and cells below to provide some insight into the descriptive statistics of the data.\n",
    "\n",
    "`1.` Are there any missing values? If so, provide a count of missing values. If there are missing values in `email`, assign it the same id value `\"unknown_user\"`."
   ]
  },
  {
   "cell_type": "code",
   "execution_count": 2,
   "metadata": {},
   "outputs": [
    {
     "name": "stdout",
     "output_type": "stream",
     "text": [
      "<class 'pandas.core.frame.DataFrame'>\n",
      "RangeIndex: 45993 entries, 0 to 45992\n",
      "Data columns (total 4 columns):\n",
      " #   Column      Non-Null Count  Dtype \n",
      "---  ------      --------------  ----- \n",
      " 0   Unnamed: 0  45993 non-null  int64 \n",
      " 1   article_id  45993 non-null  int64 \n",
      " 2   title       45993 non-null  object\n",
      " 3   email       45976 non-null  object\n",
      "dtypes: int64(2), object(2)\n",
      "memory usage: 1.4+ MB\n"
     ]
    }
   ],
   "source": [
    "# Some interactions do not have a user associated with it, assume the same user.\n",
    "df.info()"
   ]
  },
  {
   "cell_type": "code",
   "execution_count": 3,
   "metadata": {},
   "outputs": [
    {
     "name": "stdout",
     "output_type": "stream",
     "text": [
      "Number of Null email values is: 17\n"
     ]
    }
   ],
   "source": [
    "print(f\"Number of Null email values is: {df['email'].isnull().sum()}\")"
   ]
  },
  {
   "cell_type": "code",
   "execution_count": null,
   "metadata": {},
   "outputs": [],
   "source": [
    "df[df.email.isna()]"
   ]
  },
  {
   "cell_type": "code",
   "execution_count": 5,
   "metadata": {},
   "outputs": [],
   "source": [
    "# Fill email NaNs with \"unknown_user\"\n",
    "df['email'] = df['email'].fillna('unknown_user')"
   ]
  },
  {
   "cell_type": "code",
   "execution_count": 6,
   "metadata": {},
   "outputs": [
    {
     "data": {
      "text/html": [
       "<div>\n",
       "<style scoped>\n",
       "    .dataframe tbody tr th:only-of-type {\n",
       "        vertical-align: middle;\n",
       "    }\n",
       "\n",
       "    .dataframe tbody tr th {\n",
       "        vertical-align: top;\n",
       "    }\n",
       "\n",
       "    .dataframe thead th {\n",
       "        text-align: right;\n",
       "    }\n",
       "</style>\n",
       "<table border=\"1\" class=\"dataframe\">\n",
       "  <thead>\n",
       "    <tr style=\"text-align: right;\">\n",
       "      <th></th>\n",
       "      <th>Unnamed: 0</th>\n",
       "      <th>article_id</th>\n",
       "      <th>title</th>\n",
       "      <th>email</th>\n",
       "    </tr>\n",
       "  </thead>\n",
       "  <tbody>\n",
       "  </tbody>\n",
       "</table>\n",
       "</div>"
      ],
      "text/plain": [
       "Empty DataFrame\n",
       "Columns: [Unnamed: 0, article_id, title, email]\n",
       "Index: []"
      ]
     },
     "execution_count": 6,
     "metadata": {},
     "output_type": "execute_result"
    }
   ],
   "source": [
    "# Check if no more NaNs \n",
    "df[df.email.isna()]"
   ]
  },
  {
   "cell_type": "markdown",
   "metadata": {},
   "source": [
    "`2.` What is the distribution of how many articles a user interacts with in the dataset?  Provide a visual and descriptive statistics to assist with giving a look at the number of times each user interacts with an article."
   ]
  },
  {
   "cell_type": "code",
   "execution_count": 7,
   "metadata": {},
   "outputs": [
    {
     "name": "stdout",
     "output_type": "stream",
     "text": [
      "Descriptive statistics for the number of articles each user interacted with:\n",
      "count    5149.000000\n",
      "mean        6.541464\n",
      "std         9.990112\n",
      "min         1.000000\n",
      "25%         1.000000\n",
      "50%         3.000000\n",
      "75%         7.000000\n",
      "max       135.000000\n",
      "Name: article_id, dtype: float64\n"
     ]
    }
   ],
   "source": [
    "# What are the descriptive statistics of the number of articles a user interacts with?\n",
    "# Group by 'email' and count the number of articles each user interacted with\n",
    "user_article_counts = df.groupby('email')['article_id'].nunique()\n",
    "\n",
    "# Descriptive statistics: count, mean, std, min, 25%, 50%, 75%, max\n",
    "user_article_stats = user_article_counts.describe()\n",
    "\n",
    "# Print descriptive statistics\n",
    "print(\"Descriptive statistics for the number of articles each user interacted with:\")\n",
    "print(user_article_stats)"
   ]
  },
  {
   "cell_type": "code",
   "execution_count": 10,
   "metadata": {},
   "outputs": [
    {
     "data": {
      "image/png": "[encoded data removed]",
      "text/plain": [
       "<Figure size 1000x600 with 1 Axes>"
      ]
     },
     "metadata": {},
     "output_type": "display_data"
    }
   ],
   "source": [
    "# Create a plot of the number of articles read by each user\n",
    "\n",
    "# Count how many users interacted with a given number of articles\n",
    "article_interaction_counts = user_article_counts.value_counts().sort_index()\n",
    "\n",
    "# Plotting the distribution of users by the number of articles they've read\n",
    "plt.figure(figsize=(10, 6))\n",
    "article_interaction_counts.plot(kind='bar', color='skyblue')\n",
    "\n",
    "# Add labels and title\n",
    "plt.xlabel('Number of Articles Read')\n",
    "plt.ylabel('Number of Users')\n",
    "plt.title('Number of Users Reading Articles')\n",
    "\n",
    "plt.show()\n"
   ]
  },
  {
   "cell_type": "code",
   "execution_count": 19,
   "metadata": {},
   "outputs": [
    {
     "data": {
      "image/png": "[encoded data removed]",
      "text/plain": [
       "<Figure size 1200x600 with 1 Axes>"
      ]
     },
     "metadata": {},
     "output_type": "display_data"
    }
   ],
   "source": [
    "# Group the dataset by 'article_id' and count how many times each article was interacted with\n",
    "article_view_counts = df.groupby('article_id')['user_id'].count()\n",
    "\n",
    "# Create a plot of the number of times each article was read\n",
    "plt.figure(figsize=(12, 6))\n",
    "article_view_counts.sort_values(ascending=False).head(20).plot(kind='bar', color='skyblue')\n",
    "\n",
    "# Add labels and title\n",
    "plt.xlabel('Article ID')\n",
    "plt.ylabel('Number of Users')\n",
    "plt.title('Top 20 Articles by Number of Interactions')\n",
    "\n",
    "# Show the plot\n",
    "plt.show()\n"
   ]
  },
  {
   "cell_type": "code",
   "execution_count": 12,
   "metadata": {},
   "outputs": [
    {
     "name": "stdout",
     "output_type": "stream",
     "text": [
      "Median number of articles interacted with: 3.0\n",
      "Maximum number of articles interacted with by any user: 135\n"
     ]
    }
   ],
   "source": [
    "# Median and maximum values\n",
    "median_val = user_article_counts.median()  # 50% of individuals interact with this number of articles or fewer\n",
    "max_views_by_user = user_article_counts.max()  # The maximum number of user-article interactions by any 1 user\n",
    "\n",
    "# Print the results\n",
    "print(f\"Median number of articles interacted with: {median_val}\")\n",
    "print(f\"Maximum number of articles interacted with by any user: {max_views_by_user}\")\n"
   ]
  },
  {
   "cell_type": "markdown",
   "metadata": {},
   "source": [
    "`3.` Use the cells below to find:\n",
    "\n",
    "**a.** The number of unique articles that have an interaction with a user.  \n",
    "**b.** The number of unique articles in the dataset (whether they have any interactions or not).<br>\n",
    "**c.** The number of unique users in the dataset. (excluding null values) <br>\n",
    "**d.** The number of user-article interactions in the dataset."
   ]
  },
  {
   "cell_type": "code",
   "execution_count": 13,
   "metadata": {},
   "outputs": [
    {
     "name": "stdout",
     "output_type": "stream",
     "text": [
      "Unique articles with at least one interaction: 714\n",
      "Total number of articles on the IBM platform: 714\n",
      "Unique users: 5149\n",
      "Total number of user-article interactions: 45993\n"
     ]
    }
   ],
   "source": [
    "# The number of unique articles that have at least one interaction\n",
    "unique_articles = df['article_id'].nunique()\n",
    "\n",
    "# The number of unique articles on the IBM platform (based on available dataset)\n",
    "total_articles = df['article_id'].nunique()\n",
    "\n",
    "# The number of unique users\n",
    "unique_users = df['email'].nunique()\n",
    "\n",
    "# The number of user-article interactions (total rows in the dataset)\n",
    "user_article_interactions = df.shape[0]\n",
    "\n",
    "# Print the results\n",
    "print(f\"Unique articles with at least one interaction: {unique_articles}\")\n",
    "print(f\"Total number of articles on the IBM platform: {total_articles}\")\n",
    "print(f\"Unique users: {unique_users}\")\n",
    "print(f\"Total number of user-article interactions: {user_article_interactions}\")\n"
   ]
  },
  {
   "cell_type": "markdown",
   "metadata": {},
   "source": [
    "`4.` Use the cells below to find the most viewed **article_id**, as well as how often it was viewed.  After talking to the company leaders, the `email_mapper` function was deemed a reasonable way to map users to ids.  There were a small number of null values, and it was found that all of these null values likely belonged to a single user (which is how they are stored using the function below)."
   ]
  },
  {
   "cell_type": "code",
   "execution_count": 14,
   "metadata": {},
   "outputs": [
    {
     "name": "stdout",
     "output_type": "stream",
     "text": [
      "Most viewed article ID: 1429\n",
      "Maximum views for the most viewed article: 937\n"
     ]
    }
   ],
   "source": [
    "# Group the dataset by 'article_id' and count the number of interactions (views) for each article\n",
    "article_view_counts = df.groupby('article_id')['email'].count()\n",
    "\n",
    "# Find the article with the maximum number of views\n",
    "most_viewed_article_id = article_view_counts.idxmax()  # Get the article ID with the most views\n",
    "max_views = article_view_counts.max()  # Get the number of views for the most viewed article\n",
    "\n",
    "# Print the results\n",
    "print(f\"Most viewed article ID: {most_viewed_article_id}\")\n",
    "print(f\"Maximum views for the most viewed article: {max_views}\")\n"
   ]
  },
  {
   "cell_type": "code",
   "execution_count": 15,
   "metadata": {},
   "outputs": [
    {
     "data": {
      "text/html": [
       "<div>\n",
       "<style scoped>\n",
       "    .dataframe tbody tr th:only-of-type {\n",
       "        vertical-align: middle;\n",
       "    }\n",
       "\n",
       "    .dataframe tbody tr th {\n",
       "        vertical-align: top;\n",
       "    }\n",
       "\n",
       "    .dataframe thead th {\n",
       "        text-align: right;\n",
       "    }\n",
       "</style>\n",
       "<table border=\"1\" class=\"dataframe\">\n",
       "  <thead>\n",
       "    <tr style=\"text-align: right;\">\n",
       "      <th></th>\n",
       "      <th>Unnamed: 0</th>\n",
       "      <th>article_id</th>\n",
       "      <th>title</th>\n",
       "      <th>user_id</th>\n",
       "    </tr>\n",
       "  </thead>\n",
       "  <tbody>\n",
       "    <tr>\n",
       "      <th>0</th>\n",
       "      <td>0</td>\n",
       "      <td>1430</td>\n",
       "      <td>using pixiedust for fast, flexible, and easier...</td>\n",
       "      <td>1</td>\n",
       "    </tr>\n",
       "    <tr>\n",
       "      <th>1</th>\n",
       "      <td>1</td>\n",
       "      <td>1314</td>\n",
       "      <td>healthcare python streaming application demo</td>\n",
       "      <td>2</td>\n",
       "    </tr>\n",
       "    <tr>\n",
       "      <th>2</th>\n",
       "      <td>2</td>\n",
       "      <td>1429</td>\n",
       "      <td>use deep learning for image classification</td>\n",
       "      <td>3</td>\n",
       "    </tr>\n",
       "    <tr>\n",
       "      <th>3</th>\n",
       "      <td>3</td>\n",
       "      <td>1338</td>\n",
       "      <td>ml optimization using cognitive assistant</td>\n",
       "      <td>4</td>\n",
       "    </tr>\n",
       "    <tr>\n",
       "      <th>4</th>\n",
       "      <td>4</td>\n",
       "      <td>1276</td>\n",
       "      <td>deploy your python model as a restful api</td>\n",
       "      <td>5</td>\n",
       "    </tr>\n",
       "  </tbody>\n",
       "</table>\n",
       "</div>"
      ],
      "text/plain": [
       "   Unnamed: 0  article_id                                              title  \\\n",
       "0           0        1430  using pixiedust for fast, flexible, and easier...   \n",
       "1           1        1314       healthcare python streaming application demo   \n",
       "2           2        1429         use deep learning for image classification   \n",
       "3           3        1338          ml optimization using cognitive assistant   \n",
       "4           4        1276          deploy your python model as a restful api   \n",
       "\n",
       "   user_id  \n",
       "0        1  \n",
       "1        2  \n",
       "2        3  \n",
       "3        4  \n",
       "4        5  "
      ]
     },
     "execution_count": 15,
     "metadata": {},
     "output_type": "execute_result"
    }
   ],
   "source": [
    "## No need to change the code here - this will be helpful for later parts of the notebook\n",
    "# Run this cell to map the user email to a user_id column and remove the email column\n",
    "\n",
    "def email_mapper(df=df):\n",
    "    coded_dict = {\n",
    "        email: num \n",
    "        for num, email in enumerate(df['email'].unique(), start=1)\n",
    "    }\n",
    "    return [coded_dict[val] for val in df['email']]\n",
    "\n",
    "df['user_id'] = email_mapper(df)\n",
    "del df['email']\n",
    "\n",
    "# show header\n",
    "df.head()"
   ]
  },
  {
   "cell_type": "code",
   "execution_count": 20,
   "metadata": {},
   "outputs": [
    {
     "name": "stdout",
     "output_type": "stream",
     "text": [
      "Oops! It looks like the value associated with: `The maximum number of user-article interactions by any 1 user is ______.` wasn't right. Try again.  It might just be the datatype.  All of the values should be ints except the article_id should be a string.  Let each row be considered a separate user-article interaction.  If a user interacts with an article 3 times, these are considered 3 separate interactions.\n",
      "\n",
      "  Notice you may also find the number of unique users as 5149 if you count the null user.  However, this is hard to catch without mapping first!\n"
     ]
    }
   ],
   "source": [
    "## If you stored all your results in the variable names above, \n",
    "## you shouldn't need to change anything in this cell\n",
    "\n",
    "sol_1_dict = {\n",
    "    '`50% of individuals have _____ or fewer interactions.`': median_val,\n",
    "    '`The total number of user-article interactions in the dataset is ______.`': user_article_interactions,\n",
    "    '`The maximum number of user-article interactions by any 1 user is ______.`': max_views_by_user,\n",
    "    '`The most viewed article in the dataset was viewed _____ times.`': max_views,\n",
    "    '`The article_id of the most viewed article is ______.`': most_viewed_article_id,\n",
    "    '`The number of unique articles that have at least 1 rating ______.`': unique_articles,\n",
    "    '`The number of unique users in the dataset is ______`': unique_users,\n",
    "    '`The number of unique articles on the IBM platform`': total_articles\n",
    "}\n",
    "\n",
    "# Test your dictionary against the solution\n",
    "t.sol_1_test(sol_1_dict)"
   ]
  },
  {
   "cell_type": "markdown",
   "metadata": {},
   "source": [
    "### <a class=\"anchor\" id=\"Rank\">Part II: Rank-Based Recommendations</a>\n",
    "\n",
    "In this project, we don't actually have ratings for whether a user liked an article or not.  We only know that a user has interacted with an article. In these cases, the popularity of an article can really only be based on how often an article was interacted with.\n",
    "\n",
    "`1.` Fill in the function below to return the **n** top articles ordered with most interactions as the top. Test your function using the tests below."
   ]
  },
  {
   "cell_type": "code",
   "execution_count": 25,
   "metadata": {},
   "outputs": [],
   "source": [
    "def get_top_articles(n, df=df):\n",
    "    \"\"\"\n",
    "    INPUT:\n",
    "    n - (int) the number of top articles to return\n",
    "    df - (pandas dataframe) df as defined at the top of the notebook \n",
    "    \n",
    "    OUTPUT:\n",
    "    top_articles - (list) A list of the top 'n' article titles \n",
    "    \n",
    "    \"\"\"\n",
    "    # Count the number of interactions for each article\n",
    "    article_view_counts = df.groupby('article_id')['user_id'].count()\n",
    "    \n",
    "    # Get the top n article IDs with the most interactions\n",
    "    top_article_ids = article_view_counts.sort_values(ascending=False).head(n).index\n",
    "    \n",
    "    # Get the corresponding titles for these top articles\n",
    "    top_articles = df[df['article_id'].isin(top_article_ids)]['title'].unique().tolist()\n",
    "    \n",
    "    return top_articles\n",
    "\n",
    "\n",
    "def get_top_article_ids(n, df=df):\n",
    "    \"\"\"\n",
    "    INPUT:\n",
    "    n - (int) the number of top articles to return\n",
    "    df - (pandas dataframe) df as defined at the top of the notebook \n",
    "    \n",
    "    OUTPUT:\n",
    "    top_article_ids - (list) A list of the top 'n' article IDs \n",
    "    \n",
    "    \"\"\"\n",
    "    # Count the number of interactions for each article\n",
    "    article_view_counts = df.groupby('article_id')['user_id'].count()\n",
    "    \n",
    "    # Get the top n article IDs with the most interactions\n",
    "    top_article_ids = article_view_counts.sort_values(ascending=False).head(n).index.tolist()\n",
    "    \n",
    "    return top_article_ids\n"
   ]
  },
  {
   "cell_type": "code",
   "execution_count": 26,
   "metadata": {},
   "outputs": [
    {
     "name": "stdout",
     "output_type": "stream",
     "text": [
      "['healthcare python streaming application demo', 'use deep learning for image classification', 'apache spark lab, part 1: basic concepts', 'predicting churn with the spss random tree algorithm', 'analyze energy consumption in buildings', 'visualize car data with brunel', 'use xgboost, scikit-learn & ibm watson machine learning apis', 'gosales transactions for logistic regression model', 'insights from new york car accident reports', 'finding optimal locations of new store using decision optimization']\n",
      "[1429, 1330, 1431, 1427, 1364, 1314, 1293, 1170, 1162, 1304]\n"
     ]
    }
   ],
   "source": [
    "print(get_top_articles(10))\n",
    "print(get_top_article_ids(10))"
   ]
  },
  {
   "cell_type": "code",
   "execution_count": 27,
   "metadata": {},
   "outputs": [
    {
     "name": "stdout",
     "output_type": "stream",
     "text": [
      "Your top_5 looks like the solution list! Nice job.\n",
      "Your top_10 looks like the solution list! Nice job.\n",
      "Your top_20 looks like the solution list! Nice job.\n"
     ]
    }
   ],
   "source": [
    "# Test your function by returning the top 5, 10, and 20 articles\n",
    "top_5 = get_top_articles(5)\n",
    "top_10 = get_top_articles(10)\n",
    "top_20 = get_top_articles(20)\n",
    "\n",
    "# Test each of your three lists from above\n",
    "t.sol_2_test(get_top_articles)"
   ]
  },
  {
   "cell_type": "markdown",
   "metadata": {},
   "source": [
    "### <a class=\"anchor\" id=\"User-User\">Part III: User-User Based Collaborative Filtering</a>\n",
    "\n",
    "\n",
    "`1.` Use the function below to reformat the **df** dataframe to be shaped with users as the rows and articles as the columns.  \n",
    "\n",
    "* Each **user** should only appear in each **row** once.\n",
    "\n",
    "\n",
    "* Each **article** should only show up in one **column**.  \n",
    "\n",
    "\n",
    "* **If a user has interacted with an article, then place a 1 where the user-row meets for that article-column**.  It does not matter how many times a user has interacted with the article, all entries where a user has interacted with an article should be a 1.  \n",
    "\n",
    "\n",
    "* **If a user has not interacted with an item, then place a zero where the user-row meets for that article-column**. \n",
    "\n",
    "Use the tests to make sure the basic structure of your matrix matches what is expected by the solution."
   ]
  },
  {
   "cell_type": "code",
   "execution_count": 31,
   "metadata": {},
   "outputs": [],
   "source": [
    "def create_user_item_matrix(df, fill_value=0):\n",
    "    \"\"\"\n",
    "    INPUT:\n",
    "    df - pandas dataframe with article_id, title, user_id columns\n",
    "    \n",
    "    OUTPUT:\n",
    "    user_item - user-item matrix with 1's where user interacted with article, 0 otherwise\n",
    "    \n",
    "    Description:\n",
    "    Return a matrix with user ids as rows and article ids on the columns with 1 values where a user interacted with \n",
    "    an article and a 0 otherwise.\n",
    "    \"\"\"\n",
    "    # Create the user-item interaction matrix by pivoting the dataframe\n",
    "    user_item = df.pivot_table(index='user_id', columns='article_id', aggfunc='size', fill_value=0)\n",
    "    \n",
    "    return user_item\n",
    "\n",
    "# Example usage\n",
    "#user_item = create_user_item_matrix(df)\n"
   ]
  },
  {
   "cell_type": "code",
   "execution_count": 32,
   "metadata": {},
   "outputs": [
    {
     "ename": "AssertionError",
     "evalue": "Oops!  The number of articles seen by user 1 doesn't look right.",
     "output_type": "error",
     "traceback": [
      "\u001b[0;31m---------------------------------------------------------------------------\u001b[0m",
      "\u001b[0;31mAssertionError\u001b[0m                            Traceback (most recent call last)",
      "Cell \u001b[0;32mIn[32], line 4\u001b[0m\n\u001b[1;32m      2\u001b[0m \u001b[38;5;28;01massert\u001b[39;00m user_item\u001b[38;5;241m.\u001b[39mshape[\u001b[38;5;241m0\u001b[39m] \u001b[38;5;241m==\u001b[39m \u001b[38;5;241m5149\u001b[39m, \u001b[38;5;124m\"\u001b[39m\u001b[38;5;124mOops!  The number of users in the user-article matrix doesn\u001b[39m\u001b[38;5;124m'\u001b[39m\u001b[38;5;124mt look right.\u001b[39m\u001b[38;5;124m\"\u001b[39m\n\u001b[1;32m      3\u001b[0m \u001b[38;5;28;01massert\u001b[39;00m user_item\u001b[38;5;241m.\u001b[39mshape[\u001b[38;5;241m1\u001b[39m] \u001b[38;5;241m==\u001b[39m \u001b[38;5;241m714\u001b[39m, \u001b[38;5;124m\"\u001b[39m\u001b[38;5;124mOops!  The number of articles in the user-article matrix doesn\u001b[39m\u001b[38;5;124m'\u001b[39m\u001b[38;5;124mt look right.\u001b[39m\u001b[38;5;124m\"\u001b[39m\n\u001b[0;32m----> 4\u001b[0m \u001b[38;5;28;01massert\u001b[39;00m user_item\u001b[38;5;241m.\u001b[39msum(axis\u001b[38;5;241m=\u001b[39m\u001b[38;5;241m1\u001b[39m)[\u001b[38;5;241m1\u001b[39m] \u001b[38;5;241m==\u001b[39m \u001b[38;5;241m36\u001b[39m, \u001b[38;5;124m\"\u001b[39m\u001b[38;5;124mOops!  The number of articles seen by user 1 doesn\u001b[39m\u001b[38;5;124m'\u001b[39m\u001b[38;5;124mt look right.\u001b[39m\u001b[38;5;124m\"\u001b[39m\n\u001b[1;32m      5\u001b[0m \u001b[38;5;28mprint\u001b[39m(\u001b[38;5;124m\"\u001b[39m\u001b[38;5;124mYou have passed our quick tests!  Please proceed!\u001b[39m\u001b[38;5;124m\"\u001b[39m)\n",
      "\u001b[0;31mAssertionError\u001b[0m: Oops!  The number of articles seen by user 1 doesn't look right."
     ]
    }
   ],
   "source": [
    "## Tests: You should just need to run this cell.  Don't change the code.\n",
    "assert user_item.shape[0] == 5149, \"Oops!  The number of users in the user-article matrix doesn't look right.\"\n",
    "assert user_item.shape[1] == 714, \"Oops!  The number of articles in the user-article matrix doesn't look right.\"\n",
    "assert user_item.sum(axis=1)[1] == 36, \"Oops!  The number of articles seen by user 1 doesn't look right.\"\n",
    "print(\"You have passed our quick tests!  Please proceed!\")"
   ]
  },
  {
   "cell_type": "markdown",
   "metadata": {},
   "source": [
    "`2.` Complete the function below which should take a user_id and provide an ordered list of the most similar users to that user (from most similar to least similar).  The returned result should not contain the provided user_id, as we know that each user is similar to him/herself. Because the results for each user here are binary, it (perhaps) makes sense to compute similarity as the dot product of two users. \n",
    "\n",
    "Use the tests to test your function."
   ]
  },
  {
   "cell_type": "code",
   "execution_count": 33,
   "metadata": {},
   "outputs": [],
   "source": [
    "# Lets use the cosine_similarity function from sklearn\n",
    "from sklearn.metrics.pairwise import cosine_similarity"
   ]
  },
  {
   "cell_type": "code",
   "execution_count": 34,
   "metadata": {},
   "outputs": [],
   "source": [
    "def find_similar_users(user_id, user_item=user_item, include_similarity=False):\n",
    "    \"\"\"\n",
    "    INPUT:\n",
    "    user_id - (int) a user_id\n",
    "    user_item - (pandas dataframe) matrix of users by articles: \n",
    "                1's when a user has interacted with an article, 0 otherwise\n",
    "    include_similarity - (bool) whether to include the similarity in the output\n",
    "    \n",
    "    OUTPUT:\n",
    "    similar_users - (list) an ordered list where the closest users (largest dot product users)\n",
    "                    are listed first\n",
    "    \n",
    "    Description:\n",
    "    Computes the similarity of every pair of users based on the dot product\n",
    "    Returns an ordered list of user ids. If include_similarity is True, returns a list of lists\n",
    "    where the first element is the user id and the second the similarity.\n",
    "    \n",
    "    \"\"\"\n",
    "    \n",
    "    # Get the user interaction vector for the input user\n",
    "    user_vector = user_item.loc[user_id]\n",
    "    \n",
    "    # Compute dot product between the input user and all other users\n",
    "    similarity_scores = user_item.dot(user_vector)\n",
    "    \n",
    "    # Exclude the user's own ID\n",
    "    similarity_scores = similarity_scores.drop(user_id)\n",
    "    \n",
    "    # Sort the users by similarity score in descending order\n",
    "    most_similar_users = similarity_scores.sort_values(ascending=False).index.tolist()\n",
    "    \n",
    "    if include_similarity:\n",
    "        # Create a list of tuples (user_id, similarity score)\n",
    "        similar_users_with_scores = [[user, similarity_scores[user]] for user in most_similar_users]\n",
    "        return similar_users_with_scores\n",
    "    \n",
    "    return most_similar_users\n"
   ]
  },
  {
   "cell_type": "code",
   "execution_count": 35,
   "metadata": {},
   "outputs": [
    {
     "name": "stdout",
     "output_type": "stream",
     "text": [
      "The 10 most similar users to user 1 are: [3782, 23, 223, 3358, 242, 3910, 3933, 87, 3818, 4134]\n",
      "The 5 most similar users to user 3933 are: [23, 3782, 223, 3358, 242]\n",
      "The 3 most similar users to user 46 are: [3782, 23, 273]\n"
     ]
    }
   ],
   "source": [
    "# Do a spot check of your function\n",
    "print(\"The 10 most similar users to user 1 are: {}\".format(find_similar_users(1)[:10]))\n",
    "print(\"The 5 most similar users to user 3933 are: {}\".format(find_similar_users(3933)[:5]))\n",
    "print(\"The 3 most similar users to user 46 are: {}\".format(find_similar_users(46)[:3]))"
   ]
  },
  {
   "cell_type": "markdown",
   "metadata": {},
   "source": [
    "`3.` Now that you have a function that provides the most similar users to each user, you will want to use these users to find articles you can recommend.  Complete the functions below to return the articles you would recommend to each user. "
   ]
  },
  {
   "cell_type": "code",
   "execution_count": 44,
   "metadata": {},
   "outputs": [],
   "source": [
    "def get_article_names(article_ids, df=df):\n",
    "    \"\"\"\n",
    "    INPUT:\n",
    "    article_ids - (list) a list of article ids\n",
    "    df - (pandas dataframe) df as defined at the top of the notebook\n",
    "    \n",
    "    OUTPUT:\n",
    "    article_names - (list) a list of article names associated with the list of article ids \n",
    "                    (this is identified by the title column in df)\n",
    "    \"\"\"\n",
    "    # Retrieve the titles for the given article_ids\n",
    "    article_names = df[df['article_id'].isin(article_ids)]['title'].tolist()\n",
    "    \n",
    "    return article_names  # Return the article names associated with list of article ids\n",
    "\n",
    "def get_ranked_article_unique_counts(article_ids, user_item=user_item):\n",
    "    \"\"\"\n",
    "    INPUT:\n",
    "    article_ids - (list) a list of article ids\n",
    "    user_item - (pandas dataframe) matrix of users by articles: \n",
    "                1's when a user has interacted with an article, 0 otherwise \n",
    "    \n",
    "    OUTPUT:\n",
    "    article_counts - (list) a list of tuples with article_id and number of \n",
    "                     unique users that have interacted with the article, sorted\n",
    "                     by the number of unique users in descending order\n",
    "    \n",
    "    Description:\n",
    "    Provides a list of the article_ids and the number of unique users that have\n",
    "    interacted with the article using the user_item matrix, sorted by the number\n",
    "    of unique users in descending order\n",
    "    \"\"\"\n",
    "    # Count how many users interacted with each article\n",
    "    article_counts = user_item[article_ids].sum(axis=0)\n",
    "    \n",
    "    # Create a list of tuples (article_id, user_interaction_count)\n",
    "    article_counts = [(article_id, count) for article_id, count in article_counts.items()]\n",
    "    \n",
    "    # Sort the list of tuples by the number of unique users in descending order\n",
    "    ranked_article_unique_counts = sorted(article_counts, key=lambda x: x[1], reverse=True)\n",
    "    \n",
    "    return ranked_article_unique_counts  # Return the sorted article counts\n",
    "\n",
    "def get_user_articles(user_id, user_item=user_item):\n",
    "    \"\"\"\n",
    "    INPUT:\n",
    "    user_id - (int) a user id\n",
    "    user_item - (pandas dataframe) matrix of users by articles: \n",
    "                1's when a user has interacted with an article, 0 otherwise\n",
    "    \n",
    "    OUTPUT:\n",
    "    article_ids - (list) a list of the article ids seen by the user\n",
    "    article_names - (list) a list of article names associated with the list of article ids \n",
    "                    (this is identified by the title column in df)\n",
    "    \n",
    "    Description:\n",
    "    Provides a list of the article_ids and article titles that have been seen by a user\n",
    "    \"\"\"\n",
    "    # Get the articles interacted with by the user (i.e., where user_item[user_id] == 1)\n",
    "    user_articles = user_item.loc[user_id]\n",
    "    \n",
    "    # Extract the article_ids that the user has interacted with (where the value is 1)\n",
    "    article_ids = user_articles[user_articles == 1].index.tolist()\n",
    "    \n",
    "    # Get the corresponding article names from the dataframe\n",
    "    article_names = get_article_names(article_ids, df)\n",
    "    \n",
    "    return article_ids, article_names  # Return the article ids and names\n",
    "\n",
    "def user_user_recs(user_id, m=10):\n",
    "    \"\"\"\n",
    "    INPUT:\n",
    "    user_id - (int) a user id\n",
    "    m - (int) the number of recommendations you want for the user\n",
    "    \n",
    "    OUTPUT:\n",
    "    recs - (list) a list of recommendations for the user\n",
    "    \n",
    "    Description:\n",
    "    Loops through the users based on closeness to the input user_id\n",
    "    For each user - finds articles the user hasn't seen before and provides them as recs\n",
    "    Does this until m recommendations are found\n",
    "    \"\"\"\n",
    "    # Get the articles the user has already seen\n",
    "    user_articles, _ = get_user_articles(user_id)\n",
    "    \n",
    "    # Get similar users based on user similarity\n",
    "    similar_users = find_similar_users(user_id, include_similarity=False)\n",
    "    \n",
    "    # Initialize a set to collect recommended articles\n",
    "    recommended_articles = set()\n",
    "    \n",
    "    for similar_user in similar_users:\n",
    "        # Get the articles seen by this similar user\n",
    "        similar_user_articles, _ = get_user_articles(similar_user)\n",
    "        \n",
    "        # Recommend articles that the current user hasn't seen yet\n",
    "        for article in similar_user_articles:\n",
    "            if article not in user_articles:\n",
    "                recommended_articles.add(article)\n",
    "        \n",
    "        # If we have enough recommendations, stop collecting\n",
    "        if len(recommended_articles) >= m:\n",
    "            break\n",
    "    \n",
    "    # If more than m recommendations are found, trim the list to m\n",
    "    recs = list(recommended_articles)[:m]\n",
    "    \n",
    "    return recs  # Return the recommended article ids\n"
   ]
  },
  {
   "cell_type": "code",
   "execution_count": 45,
   "metadata": {},
   "outputs": [
    {
     "name": "stdout",
     "output_type": "stream",
     "text": [
      "['got zip code data? prep it for analytics. – ibm watson data lab – medium', 'simple graphing with ipython and\\xa0pandas', 'analyze precipitation data', 'analyze precipitation data', 'analyzing data by using the sparkling.data library features', 'analyze precipitation data', 'got zip code data? prep it for analytics. – ibm watson data lab – medium', 'analyze precipitation data', 'analyzing data by using the sparkling.data library features', 'analyze precipitation data', 'analyze precipitation data', 'fertility rate by country in total births per woman', 'shaping data with ibm data refinery', 'analyze precipitation data', 'analyzing data by using the sparkling.data library features', 'analyze precipitation data', 'simple graphing with ipython and\\xa0pandas', 'shaping data with ibm data refinery', 'analyzing data by using the sparkling.data library features', 'shaping data with ibm data refinery', 'analyzing data by using the sparkling.data library features', 'analyze precipitation data', 'analyze precipitation data', 'analyzing data by using the sparkling.data library features', 'analyzing data by using the sparkling.data library features', 'analyze precipitation data', 'analyze precipitation data', 'analyze precipitation data', 'analyze precipitation data', 'simple graphing with ipython and\\xa0pandas', 'analyze precipitation data', 'analyze precipitation data', 'got zip code data? prep it for analytics. – ibm watson data lab – medium', 'higher-order logistic regression for large datasets', 'got zip code data? prep it for analytics. – ibm watson data lab – medium', 'analyze precipitation data', 'analyze precipitation data', 'analyze precipitation data', 'got zip code data? prep it for analytics. – ibm watson data lab – medium', 'got zip code data? prep it for analytics. – ibm watson data lab – medium', 'analyze precipitation data', 'analyze precipitation data', 'analyze precipitation data', 'analyzing data by using the sparkling.data library features', 'analyze precipitation data', 'simple graphing with ipython and\\xa0pandas', 'got zip code data? prep it for analytics. – ibm watson data lab – medium', 'higher-order logistic regression for large datasets', 'analyzing data by using the sparkling.data library features', 'higher-order logistic regression for large datasets', 'simple graphing with ipython and\\xa0pandas', 'higher-order logistic regression for large datasets', 'analyze precipitation data', 'data science platforms are on the rise and ibm is leading the way', 'simple graphing with ipython and\\xa0pandas', 'analyzing data by using the sparkling.data library features', 'analyzing data by using the sparkling.data library features', 'analyzing data by using the sparkling.data library features', 'simple graphing with ipython and\\xa0pandas', 'analyzing data by using the sparkling.data library features', 'analyze precipitation data', 'higher-order logistic regression for large datasets', 'higher-order logistic regression for large datasets', 'analyzing data by using the sparkling.data library features', 'got zip code data? prep it for analytics. – ibm watson data lab – medium', 'analyze precipitation data', 'higher-order logistic regression for large datasets', 'got zip code data? prep it for analytics. – ibm watson data lab – medium', 'simple graphing with ipython and\\xa0pandas', 'got zip code data? prep it for analytics. – ibm watson data lab – medium', 'analyze precipitation data', 'analyze precipitation data', 'analyze precipitation data', 'analyze precipitation data', 'higher-order logistic regression for large datasets', 'analyze precipitation data', 'analyze precipitation data', 'analyzing data by using the sparkling.data library features', 'analyzing data by using the sparkling.data library features', 'higher-order logistic regression for large datasets', 'higher-order logistic regression for large datasets', 'analyzing data by using the sparkling.data library features', 'analyzing data by using the sparkling.data library features', 'higher-order logistic regression for large datasets', 'analyze precipitation data', 'higher-order logistic regression for large datasets', 'analyzing data by using the sparkling.data library features', 'got zip code data? prep it for analytics. – ibm watson data lab – medium', 'analyzing data by using the sparkling.data library features', 'analyze precipitation data', 'fertility rate by country in total births per woman', 'analyze precipitation data', 'analyze precipitation data', 'analyze precipitation data', 'analyzing data by using the sparkling.data library features', 'analyze precipitation data', 'analyze precipitation data', 'simple graphing with ipython and\\xa0pandas', 'data science platforms are on the rise and ibm is leading the way', 'analyze precipitation data', 'analyze precipitation data', 'got zip code data? prep it for analytics. – ibm watson data lab – medium', 'analyzing data by using the sparkling.data library features', 'analyze precipitation data', 'data science platforms are on the rise and ibm is leading the way', 'analyze precipitation data', 'higher-order logistic regression for large datasets', 'analyzing data by using the sparkling.data library features', 'analyze precipitation data', 'analyzing data by using the sparkling.data library features', 'analyzing data by using the sparkling.data library features', 'analyze precipitation data', 'analyzing data by using the sparkling.data library features', 'got zip code data? prep it for analytics. – ibm watson data lab – medium', 'simple graphing with ipython and\\xa0pandas', 'got zip code data? prep it for analytics. – ibm watson data lab – medium', 'analyze precipitation data', 'higher-order logistic regression for large datasets', 'analyzing data by using the sparkling.data library features', 'simple graphing with ipython and\\xa0pandas', 'analyze precipitation data', 'got zip code data? prep it for analytics. – ibm watson data lab – medium', 'analyze precipitation data', 'analyze precipitation data', 'analyze precipitation data', 'analyzing data by using the sparkling.data library features', 'analyzing data by using the sparkling.data library features', 'analyzing data by using the sparkling.data library features', 'analyzing data by using the sparkling.data library features', 'analyze precipitation data', 'analyze precipitation data', 'simple graphing with ipython and\\xa0pandas', 'data science platforms are on the rise and ibm is leading the way', 'analyze precipitation data', 'analyze precipitation data', 'analyzing data by using the sparkling.data library features', 'higher-order logistic regression for large datasets', 'analyze precipitation data', 'higher-order logistic regression for large datasets', 'analyzing data by using the sparkling.data library features', 'analyze precipitation data', 'analyzing data by using the sparkling.data library features', 'analyze precipitation data', 'simple graphing with ipython and\\xa0pandas', 'analyze precipitation data', 'higher-order logistic regression for large datasets', 'data science platforms are on the rise and ibm is leading the way', 'got zip code data? prep it for analytics. – ibm watson data lab – medium', 'got zip code data? prep it for analytics. – ibm watson data lab – medium', 'analyzing data by using the sparkling.data library features', 'simple graphing with ipython and\\xa0pandas', 'higher-order logistic regression for large datasets', 'analyzing data by using the sparkling.data library features', 'data science platforms are on the rise and ibm is leading the way', 'analyzing data by using the sparkling.data library features', 'simple graphing with ipython and\\xa0pandas', 'analyzing data by using the sparkling.data library features', 'analyze precipitation data', 'analyzing data by using the sparkling.data library features', 'analyze precipitation data', 'analyze precipitation data', 'analyzing data by using the sparkling.data library features', 'simple graphing with ipython and\\xa0pandas', 'analyzing data by using the sparkling.data library features', 'analyzing data by using the sparkling.data library features', 'analyze precipitation data', 'simple graphing with ipython and\\xa0pandas', 'got zip code data? prep it for analytics. – ibm watson data lab – medium', 'analyze precipitation data', 'analyze precipitation data', 'higher-order logistic regression for large datasets', 'analyzing data by using the sparkling.data library features', 'got zip code data? prep it for analytics. – ibm watson data lab – medium', 'analyze precipitation data', 'analyze precipitation data', 'simple graphing with ipython and\\xa0pandas', 'simple graphing with ipython and\\xa0pandas', 'analyzing data by using the sparkling.data library features', 'higher-order logistic regression for large datasets', 'analyzing data by using the sparkling.data library features', 'simple graphing with ipython and\\xa0pandas', 'analyze precipitation data', 'analyze precipitation data', 'analyze precipitation data', 'higher-order logistic regression for large datasets', 'got zip code data? prep it for analytics. – ibm watson data lab – medium', 'higher-order logistic regression for large datasets', 'got zip code data? prep it for analytics. – ibm watson data lab – medium', 'simple graphing with ipython and\\xa0pandas', 'got zip code data? prep it for analytics. – ibm watson data lab – medium', 'simple graphing with ipython and\\xa0pandas', 'analyze precipitation data', 'data science platforms are on the rise and ibm is leading the way', 'analyzing data by using the sparkling.data library features', 'got zip code data? prep it for analytics. – ibm watson data lab – medium', 'analyze precipitation data', 'analyze precipitation data', 'simple graphing with ipython and\\xa0pandas', 'analyzing data by using the sparkling.data library features', 'analyze precipitation data', 'simple graphing with ipython and\\xa0pandas', 'simple graphing with ipython and\\xa0pandas', 'analyzing data by using the sparkling.data library features', 'data science platforms are on the rise and ibm is leading the way', 'analyze precipitation data', 'analyzing data by using the sparkling.data library features', 'analyzing data by using the sparkling.data library features', 'got zip code data? prep it for analytics. – ibm watson data lab – medium', 'analyzing data by using the sparkling.data library features', 'analyzing data by using the sparkling.data library features', 'got zip code data? prep it for analytics. – ibm watson data lab – medium', 'analyzing data by using the sparkling.data library features', 'analyzing data by using the sparkling.data library features', 'higher-order logistic regression for large datasets', 'simple graphing with ipython and\\xa0pandas', 'analyzing data by using the sparkling.data library features', 'analyzing data by using the sparkling.data library features', 'analyze precipitation data', 'analyze precipitation data', 'data science platforms are on the rise and ibm is leading the way', 'got zip code data? prep it for analytics. – ibm watson data lab – medium', 'analyze precipitation data', 'analyze precipitation data', 'simple graphing with ipython and\\xa0pandas', 'higher-order logistic regression for large datasets', 'simple graphing with ipython and\\xa0pandas', 'fertility rate by country in total births per woman', 'got zip code data? prep it for analytics. – ibm watson data lab – medium', 'analyze precipitation data', 'analyze precipitation data', 'data science platforms are on the rise and ibm is leading the way', 'simple graphing with ipython and\\xa0pandas', 'analyzing data by using the sparkling.data library features', 'analyzing data by using the sparkling.data library features', 'analyze precipitation data', 'got zip code data? prep it for analytics. – ibm watson data lab – medium', 'got zip code data? prep it for analytics. – ibm watson data lab – medium', 'simple graphing with ipython and\\xa0pandas', 'analyze precipitation data', 'analyzing data by using the sparkling.data library features', 'analyzing data by using the sparkling.data library features', 'analyzing data by using the sparkling.data library features', 'analyze precipitation data', 'analyze precipitation data', 'higher-order logistic regression for large datasets', 'analyzing data by using the sparkling.data library features', 'analyze precipitation data', 'analyzing data by using the sparkling.data library features', 'simple graphing with ipython and\\xa0pandas', 'analyzing data by using the sparkling.data library features', 'analyzing data by using the sparkling.data library features', 'analyze precipitation data', 'simple graphing with ipython and\\xa0pandas', 'analyzing data by using the sparkling.data library features', 'analyzing data by using the sparkling.data library features', 'analyzing data by using the sparkling.data library features', 'analyze precipitation data', 'higher-order logistic regression for large datasets', 'got zip code data? prep it for analytics. – ibm watson data lab – medium', 'analyze precipitation data', 'analyze precipitation data', 'got zip code data? prep it for analytics. – ibm watson data lab – medium', 'analyze precipitation data', 'analyzing data by using the sparkling.data library features', 'analyze precipitation data', 'analyzing data by using the sparkling.data library features', 'got zip code data? prep it for analytics. – ibm watson data lab – medium', 'analyzing data by using the sparkling.data library features', 'analyzing data by using the sparkling.data library features', 'analyzing data by using the sparkling.data library features', 'got zip code data? prep it for analytics. – ibm watson data lab – medium', 'analyzing data by using the sparkling.data library features', 'got zip code data? prep it for analytics. – ibm watson data lab – medium', 'analyze precipitation data', 'fertility rate by country in total births per woman', 'analyzing data by using the sparkling.data library features', 'analyze precipitation data', 'higher-order logistic regression for large datasets', 'got zip code data? prep it for analytics. – ibm watson data lab – medium', 'analyze precipitation data', 'analyze precipitation data', 'higher-order logistic regression for large datasets', 'analyzing data by using the sparkling.data library features', 'analyze precipitation data', 'higher-order logistic regression for large datasets', 'got zip code data? prep it for analytics. – ibm watson data lab – medium', 'analyze precipitation data', 'analyze precipitation data', 'analyze precipitation data', 'got zip code data? prep it for analytics. – ibm watson data lab – medium', 'analyze precipitation data', 'analyze precipitation data', 'higher-order logistic regression for large datasets', 'analyzing data by using the sparkling.data library features', 'analyzing data by using the sparkling.data library features', 'analyze precipitation data', 'got zip code data? prep it for analytics. – ibm watson data lab – medium', 'got zip code data? prep it for analytics. – ibm watson data lab – medium', 'analyze precipitation data', 'analyzing data by using the sparkling.data library features', 'analyzing data by using the sparkling.data library features', 'analyze precipitation data', 'analyzing data by using the sparkling.data library features', 'analyzing data by using the sparkling.data library features', 'analyze precipitation data', 'data science platforms are on the rise and ibm is leading the way', 'got zip code data? prep it for analytics. – ibm watson data lab – medium', 'analyzing data by using the sparkling.data library features', 'data science platforms are on the rise and ibm is leading the way', 'higher-order logistic regression for large datasets', 'analyzing data by using the sparkling.data library features', 'analyzing data by using the sparkling.data library features', 'analyzing data by using the sparkling.data library features', 'analyze precipitation data', 'analyze precipitation data', 'analyzing data by using the sparkling.data library features', 'analyze precipitation data', 'analyze precipitation data', 'analyzing data by using the sparkling.data library features', 'deep learning achievements over the past year ', 'deep learning achievements over the past year ', 'deep learning achievements over the past year ', 'deep learning achievements over the past year ', 'deep learning achievements over the past year ', 'analyze precipitation data', 'deep learning achievements over the past year ', 'deep learning achievements over the past year ', 'analyze precipitation data', 'analyze precipitation data', 'deep learning achievements over the past year ', 'analyze precipitation data', 'analyze precipitation data', 'analyze precipitation data', 'analyze precipitation data', 'analyze precipitation data', 'analyze precipitation data', 'analyze precipitation data', 'analyzing data by using the sparkling.data library features', 'analyzing data by using the sparkling.data library features', 'analyze precipitation data', 'shaping data with ibm data refinery', 'deep learning achievements over the past year ', 'analyze precipitation data', 'analyzing data by using the sparkling.data library features', 'analyzing data by using the sparkling.data library features', 'analyze precipitation data', 'analyze precipitation data', 'analyze precipitation data', 'analyze precipitation data', 'analyze precipitation data', 'analyze precipitation data', 'analyze precipitation data', 'analyze precipitation data', 'analyze precipitation data', 'analyze precipitation data', 'analyze precipitation data', 'analyze precipitation data', 'analyze precipitation data', 'analyze precipitation data', 'analyze precipitation data', 'analyze precipitation data', 'analyze precipitation data', 'analyze precipitation data', 'analyze precipitation data', 'analyze precipitation data', 'analyze precipitation data', 'analyze precipitation data', 'analyze precipitation data', 'deep learning achievements over the past year ', 'analyze precipitation data', 'analyzing data by using the sparkling.data library features', 'analyze precipitation data', 'analyze precipitation data', 'analyze precipitation data', 'analyze precipitation data', 'analyze precipitation data', 'analyze precipitation data', 'analyzing data by using the sparkling.data library features', 'analyze precipitation data', 'analyze precipitation data', 'analyze precipitation data', 'analyze precipitation data', 'analyze precipitation data', 'analyze precipitation data', 'analyze precipitation data', 'analyzing data by using the sparkling.data library features', 'analyze precipitation data', 'analyze facebook data using ibm watson and watson studio', 'analyze facebook data using ibm watson and watson studio', 'analyze facebook data using ibm watson and watson studio', 'analyze facebook data using ibm watson and watson studio', 'analyze facebook data using ibm watson and watson studio', 'analyze facebook data using ibm watson and watson studio', 'analyze facebook data using ibm watson and watson studio', 'analyze facebook data using ibm watson and watson studio', 'analyze precipitation data', 'analyze facebook data using ibm watson and watson studio', 'analyzing data by using the sparkling.data library features', 'analyze precipitation data', 'analyze facebook data using ibm watson and watson studio', 'analyze precipitation data', 'analyze precipitation data', 'analyze precipitation data', 'analyze precipitation data', 'analyze precipitation data', 'analyze precipitation data', 'analyze precipitation data', 'analyze precipitation data', 'analyze precipitation data', 'analyze precipitation data', 'analyze facebook data using ibm watson and watson studio', 'analyze precipitation data', 'analyze facebook data using ibm watson and watson studio', 'analyze facebook data using ibm watson and watson studio', 'analyze facebook data using ibm watson and watson studio', 'analyzing data by using the sparkling.data library features', 'analyze precipitation data', 'analyze facebook data using ibm watson and watson studio', 'analyze precipitation data', 'analyze precipitation data', 'analyze precipitation data', 'analyze precipitation data', 'analyze facebook data using ibm watson and watson studio', 'analyze precipitation data', 'analyze precipitation data', 'analyze precipitation data', 'analyze precipitation data', 'analyze precipitation data', 'analyze precipitation data', 'analyze precipitation data', 'analyzing data by using the sparkling.data library features', 'analyzing data by using the sparkling.data library features', 'analyze precipitation data', 'analyze precipitation data', 'analyze facebook data using ibm watson and watson studio', 'analyze precipitation data', 'analyze precipitation data', 'analyze precipitation data', 'analyze precipitation data', 'analyze precipitation data', 'analyze facebook data using ibm watson and watson studio', 'analyzing data by using the sparkling.data library features', 'analyze facebook data using ibm watson and watson studio', 'analyze facebook data using ibm watson and watson studio', 'analyze precipitation data', 'analyzing data by using the sparkling.data library features', 'analyzing data by using the sparkling.data library features', 'analyze precipitation data', 'simple graphing with ipython and\\xa0pandas', 'analyze precipitation data', 'analyze precipitation data', 'analyze precipitation data', 'analyze precipitation data', 'analyzing data by using the sparkling.data library features', 'analyze precipitation data', 'analyze precipitation data', 'analyze precipitation data', 'simple graphing with ipython and\\xa0pandas', 'got zip code data? prep it for analytics. – ibm watson data lab – medium', 'analyze precipitation data', 'got zip code data? prep it for analytics. – ibm watson data lab – medium', 'analyze precipitation data', 'analyze precipitation data', 'analyze precipitation data', 'simple graphing with ipython and\\xa0pandas', 'analyze precipitation data', 'analyze precipitation data', 'analyzing data by using the sparkling.data library features', 'analyze precipitation data', 'analyze precipitation data', 'analyze precipitation data', 'got zip code data? prep it for analytics. – ibm watson data lab – medium', 'analyze precipitation data', 'analyze precipitation data', 'analyzing data by using the sparkling.data library features', 'got zip code data? prep it for analytics. – ibm watson data lab – medium', 'analyze precipitation data', 'simple graphing with ipython and\\xa0pandas', 'analyze precipitation data', 'analyzing data by using the sparkling.data library features', 'analyze precipitation data', 'higher-order logistic regression for large datasets', 'analyzing data by using the sparkling.data library features', 'analyze precipitation data', 'analyzing data by using the sparkling.data library features', 'got zip code data? prep it for analytics. – ibm watson data lab – medium', 'analyze precipitation data', 'got zip code data? prep it for analytics. – ibm watson data lab – medium', 'simple graphing with ipython and\\xa0pandas', 'got zip code data? prep it for analytics. – ibm watson data lab – medium', 'analyze facebook data using ibm watson and watson studio', 'analyze facebook data using ibm watson and watson studio', 'analyze precipitation data', 'analyze precipitation data', 'analyze precipitation data', 'analyze precipitation data', 'analyzing data by using the sparkling.data library features', 'analyze precipitation data', 'simple graphing with ipython and\\xa0pandas', 'analyze precipitation data', 'analyzing data by using the sparkling.data library features', 'simple graphing with ipython and\\xa0pandas', 'data science platforms are on the rise and ibm is leading the way', 'simple graphing with ipython and\\xa0pandas', 'analyze precipitation data', 'analyzing data by using the sparkling.data library features', 'simple graphing with ipython and\\xa0pandas', 'data science platforms are on the rise and ibm is leading the way', 'got zip code data? prep it for analytics. – ibm watson data lab – medium', 'got zip code data? prep it for analytics. – ibm watson data lab – medium', 'analyzing data by using the sparkling.data library features', 'analyzing data by using the sparkling.data library features', 'analyzing data by using the sparkling.data library features', 'analyzing data by using the sparkling.data library features', 'analyze precipitation data', 'simple graphing with ipython and\\xa0pandas', 'analyzing data by using the sparkling.data library features', 'analyze precipitation data', 'analyze precipitation data', 'analyze precipitation data', 'analyze precipitation data', 'higher-order logistic regression for large datasets', 'analyze precipitation data', 'analyze precipitation data', 'analyze precipitation data', 'simple graphing with ipython and\\xa0pandas', 'analyze precipitation data', 'analyze precipitation data', 'analyze precipitation data', 'analyze precipitation data', 'analyze precipitation data', 'analyze precipitation data', 'got zip code data? prep it for analytics. – ibm watson data lab – medium', 'deep learning achievements over the past year ', 'analyze precipitation data', 'analyze precipitation data', 'analyze precipitation data', 'analyzing data by using the sparkling.data library features', 'analyzing data by using the sparkling.data library features', 'got zip code data? prep it for analytics. – ibm watson data lab – medium', 'analyze precipitation data', 'analyze precipitation data', 'simple graphing with ipython and\\xa0pandas', 'analyzing data by using the sparkling.data library features', 'analyze precipitation data', 'analyze facebook data using ibm watson and watson studio', 'analyze precipitation data', 'analyze facebook data using ibm watson and watson studio', 'analyze facebook data using ibm watson and watson studio', 'analyzing data by using the sparkling.data library features', 'analyzing data by using the sparkling.data library features', 'analyze precipitation data', 'analyze precipitation data', 'analyze precipitation data', 'got zip code data? prep it for analytics. – ibm watson data lab – medium', 'got zip code data? prep it for analytics. – ibm watson data lab – medium', 'simple graphing with ipython and\\xa0pandas', 'analyzing data by using the sparkling.data library features', 'analyze precipitation data', 'analyze precipitation data', 'analyze precipitation data', 'shaping data with ibm data refinery', 'analyzing data by using the sparkling.data library features', 'analyzing data by using the sparkling.data library features', 'analyze precipitation data', 'analyzing data by using the sparkling.data library features', 'simple graphing with ipython and\\xa0pandas', 'got zip code data? prep it for analytics. – ibm watson data lab – medium', 'higher-order logistic regression for large datasets', 'analyze precipitation data', 'deep learning achievements over the past year ', 'analyze precipitation data', 'analyzing data by using the sparkling.data library features', 'analyze precipitation data', 'simple graphing with ipython and\\xa0pandas', 'got zip code data? prep it for analytics. – ibm watson data lab – medium', 'simple graphing with ipython and\\xa0pandas', 'analyze precipitation data', 'analyze precipitation data', 'shaping data with ibm data refinery', 'shaping data with ibm data refinery', 'analyze precipitation data', 'higher-order logistic regression for large datasets', 'higher-order logistic regression for large datasets', 'got zip code data? prep it for analytics. – ibm watson data lab – medium', 'analyze precipitation data', 'analyze precipitation data', 'analyze precipitation data', 'analyze precipitation data', 'analyze precipitation data', 'analyze precipitation data', 'got zip code data? prep it for analytics. – ibm watson data lab – medium', 'analyzing data by using the sparkling.data library features', 'higher-order logistic regression for large datasets', 'analyzing data by using the sparkling.data library features', 'analyze precipitation data', 'analyze precipitation data', 'got zip code data? prep it for analytics. – ibm watson data lab – medium', 'higher-order logistic regression for large datasets', 'got zip code data? prep it for analytics. – ibm watson data lab – medium', 'analyzing data by using the sparkling.data library features', 'higher-order logistic regression for large datasets', 'simple graphing with ipython and\\xa0pandas', 'got zip code data? prep it for analytics. – ibm watson data lab – medium', 'higher-order logistic regression for large datasets', 'higher-order logistic regression for large datasets', 'analyzing data by using the sparkling.data library features', 'analyze precipitation data', 'analyzing data by using the sparkling.data library features', 'analyze precipitation data', 'analyze precipitation data', 'analyze precipitation data', 'got zip code data? prep it for analytics. – ibm watson data lab – medium', 'analyze precipitation data', 'deep learning achievements over the past year ', 'analyze facebook data using ibm watson and watson studio', 'got zip code data? prep it for analytics. – ibm watson data lab – medium', 'analyzing data by using the sparkling.data library features', 'simple graphing with ipython and\\xa0pandas', 'analyze precipitation data', 'data science platforms are on the rise and ibm is leading the way', 'fertility rate by country in total births per woman', 'shaping data with ibm data refinery', 'higher-order logistic regression for large datasets', 'analyzing data by using the sparkling.data library features', 'analyzing data by using the sparkling.data library features', 'analyzing data by using the sparkling.data library features', 'analyzing data by using the sparkling.data library features', 'analyzing data by using the sparkling.data library features', 'analyzing data by using the sparkling.data library features', 'higher-order logistic regression for large datasets', 'analyzing data by using the sparkling.data library features', 'deep learning achievements over the past year ', 'analyze precipitation data', 'got zip code data? prep it for analytics. – ibm watson data lab – medium', 'deep learning achievements over the past year ', 'analyze precipitation data', 'analyze precipitation data', 'analyze precipitation data', 'analyze precipitation data', 'analyze precipitation data', 'analyzing data by using the sparkling.data library features', 'analyze precipitation data', 'analyze precipitation data', 'analyze precipitation data', 'analyze precipitation data', 'analyze precipitation data', 'analyze precipitation data', 'analyzing data by using the sparkling.data library features', 'data science platforms are on the rise and ibm is leading the way', 'analyze facebook data using ibm watson and watson studio', 'higher-order logistic regression for large datasets', 'analyzing data by using the sparkling.data library features', 'analyze precipitation data', 'analyzing data by using the sparkling.data library features', 'got zip code data? prep it for analytics. – ibm watson data lab – medium', 'data science platforms are on the rise and ibm is leading the way', 'analyze precipitation data', 'analyze precipitation data', 'analyze precipitation data', 'analyze precipitation data', 'analyze precipitation data', 'analyze precipitation data', 'analyzing data by using the sparkling.data library features', 'analyzing data by using the sparkling.data library features', 'analyze precipitation data', 'analyzing data by using the sparkling.data library features', 'analyzing data by using the sparkling.data library features', 'analyze precipitation data', 'analyzing data by using the sparkling.data library features', 'simple graphing with ipython and\\xa0pandas', 'analyzing data by using the sparkling.data library features', 'analyze precipitation data', 'analyze precipitation data', 'analyze precipitation data', 'analyze precipitation data', 'got zip code data? prep it for analytics. – ibm watson data lab – medium', 'analyze precipitation data', 'simple graphing with ipython and\\xa0pandas', 'analyze precipitation data', 'analyze precipitation data', 'analyzing data by using the sparkling.data library features', 'analyze precipitation data', 'got zip code data? prep it for analytics. – ibm watson data lab – medium', 'analyzing data by using the sparkling.data library features', 'analyzing data by using the sparkling.data library features', 'analyzing data by using the sparkling.data library features', 'analyzing data by using the sparkling.data library features', 'analyzing data by using the sparkling.data library features', 'analyzing data by using the sparkling.data library features', 'analyzing data by using the sparkling.data library features', 'higher-order logistic regression for large datasets', 'higher-order logistic regression for large datasets', 'got zip code data? prep it for analytics. – ibm watson data lab – medium', 'analyzing data by using the sparkling.data library features', 'analyze precipitation data', 'analyzing data by using the sparkling.data library features', 'got zip code data? prep it for analytics. – ibm watson data lab – medium', 'analyzing data by using the sparkling.data library features', 'simple graphing with ipython and\\xa0pandas', 'got zip code data? prep it for analytics. – ibm watson data lab – medium', 'analyze precipitation data', 'analyze precipitation data', 'got zip code data? prep it for analytics. – ibm watson data lab – medium', 'got zip code data? prep it for analytics. – ibm watson data lab – medium', 'simple graphing with ipython and\\xa0pandas', 'simple graphing with ipython and\\xa0pandas', 'analyzing data by using the sparkling.data library features', 'analyze precipitation data', 'analyze facebook data using ibm watson and watson studio', 'analyze facebook data using ibm watson and watson studio', 'deep learning achievements over the past year ', 'got zip code data? prep it for analytics. – ibm watson data lab – medium', 'analyze precipitation data', 'analyze precipitation data', 'analyze precipitation data', 'got zip code data? prep it for analytics. – ibm watson data lab – medium', 'analyze precipitation data', 'analyzing data by using the sparkling.data library features', 'analyze precipitation data', 'simple graphing with ipython and\\xa0pandas', 'simple graphing with ipython and\\xa0pandas', 'analyze precipitation data', 'analyze precipitation data', 'analyze precipitation data', 'analyze precipitation data', 'analyze precipitation data', 'analyze precipitation data', 'analyze precipitation data', 'higher-order logistic regression for large datasets', 'analyze precipitation data', 'deep learning achievements over the past year ', 'higher-order logistic regression for large datasets', 'simple graphing with ipython and\\xa0pandas', 'got zip code data? prep it for analytics. – ibm watson data lab – medium', 'simple graphing with ipython and\\xa0pandas', 'got zip code data? prep it for analytics. – ibm watson data lab – medium', 'analyze precipitation data', 'analyze precipitation data', 'analyzing data by using the sparkling.data library features', 'analyze precipitation data', 'analyzing data by using the sparkling.data library features', 'analyzing data by using the sparkling.data library features', 'analyzing data by using the sparkling.data library features', 'got zip code data? prep it for analytics. – ibm watson data lab – medium', 'higher-order logistic regression for large datasets', 'analyzing data by using the sparkling.data library features', 'analyze precipitation data', 'analyze precipitation data', 'analyze precipitation data', 'analyze precipitation data', 'analyzing data by using the sparkling.data library features', 'data science platforms are on the rise and ibm is leading the way', 'analyze precipitation data', 'got zip code data? prep it for analytics. – ibm watson data lab – medium', 'analyze precipitation data', 'higher-order logistic regression for large datasets', 'data science platforms are on the rise and ibm is leading the way', 'analyze precipitation data', 'analyzing data by using the sparkling.data library features', 'analyzing data by using the sparkling.data library features', 'analyze precipitation data', 'simple graphing with ipython and\\xa0pandas', 'analyzing data by using the sparkling.data library features', 'simple graphing with ipython and\\xa0pandas', 'analyze precipitation data', 'analyzing data by using the sparkling.data library features', 'analyzing data by using the sparkling.data library features', 'higher-order logistic regression for large datasets', 'analyze precipitation data', 'analyzing data by using the sparkling.data library features', 'simple graphing with ipython and\\xa0pandas', 'analyze precipitation data', 'analyze precipitation data', 'analyzing data by using the sparkling.data library features', 'got zip code data? prep it for analytics. – ibm watson data lab – medium', 'analyze precipitation data', 'simple graphing with ipython and\\xa0pandas', 'analyze precipitation data', 'analyze precipitation data', 'analyze precipitation data', 'analyze precipitation data', 'got zip code data? prep it for analytics. – ibm watson data lab – medium', 'got zip code data? prep it for analytics. – ibm watson data lab – medium', 'analyze precipitation data', 'analyze precipitation data', 'analyze precipitation data', 'higher-order logistic regression for large datasets', 'got zip code data? prep it for analytics. – ibm watson data lab – medium', 'simple graphing with ipython and\\xa0pandas', 'analyzing data by using the sparkling.data library features', 'analyze precipitation data', 'analyze precipitation data', 'analyze precipitation data', 'analyzing data by using the sparkling.data library features', 'analyze precipitation data', 'simple graphing with ipython and\\xa0pandas', 'simple graphing with ipython and\\xa0pandas', 'simple graphing with ipython and\\xa0pandas', 'simple graphing with ipython and\\xa0pandas', 'analyze precipitation data', 'higher-order logistic regression for large datasets', 'analyzing data by using the sparkling.data library features', 'analyze precipitation data', 'analyze facebook data using ibm watson and watson studio', 'simple graphing with ipython and\\xa0pandas', 'higher-order logistic regression for large datasets', 'analyze precipitation data', 'got zip code data? prep it for analytics. – ibm watson data lab – medium', 'analyze facebook data using ibm watson and watson studio', 'analyze facebook data using ibm watson and watson studio', 'analyze facebook data using ibm watson and watson studio', 'analyze facebook data using ibm watson and watson studio', 'analyze facebook data using ibm watson and watson studio', 'analyze facebook data using ibm watson and watson studio', 'simple graphing with ipython and\\xa0pandas', 'higher-order logistic regression for large datasets', 'deep learning achievements over the past year ', 'analyzing data by using the sparkling.data library features', 'analyzing data by using the sparkling.data library features', 'analyzing data by using the sparkling.data library features', 'analyzing data by using the sparkling.data library features', 'higher-order logistic regression for large datasets', 'analyze precipitation data', 'got zip code data? prep it for analytics. – ibm watson data lab – medium', 'analyzing data by using the sparkling.data library features', 'analyze precipitation data', 'analyze precipitation data', 'analyze precipitation data', 'analyze precipitation data', 'analyze precipitation data', 'analyze precipitation data', 'analyze facebook data using ibm watson and watson studio', 'analyze precipitation data', 'analyze precipitation data', 'analyze precipitation data', 'analyze precipitation data', 'analyze precipitation data', 'analyze precipitation data', 'higher-order logistic regression for large datasets', 'higher-order logistic regression for large datasets', 'analyze precipitation data', 'simple graphing with ipython and\\xa0pandas', 'analyze precipitation data', 'got zip code data? prep it for analytics. – ibm watson data lab – medium', 'analyzing data by using the sparkling.data library features', 'analyzing data by using the sparkling.data library features', 'simple graphing with ipython and\\xa0pandas', 'higher-order logistic regression for large datasets', 'higher-order logistic regression for large datasets', 'analyzing data by using the sparkling.data library features', 'got zip code data? prep it for analytics. – ibm watson data lab – medium', 'simple graphing with ipython and\\xa0pandas', 'analyze precipitation data', 'analyzing data by using the sparkling.data library features', 'analyze precipitation data', 'deep learning achievements over the past year ', 'got zip code data? prep it for analytics. – ibm watson data lab – medium', 'analyzing data by using the sparkling.data library features', 'analyze precipitation data', 'data science platforms are on the rise and ibm is leading the way', 'analyzing data by using the sparkling.data library features', 'analyzing data by using the sparkling.data library features', 'analyzing data by using the sparkling.data library features', 'fertility rate by country in total births per woman', 'analyze precipitation data', 'analyze precipitation data', 'analyze precipitation data', 'fertility rate by country in total births per woman', 'got zip code data? prep it for analytics. – ibm watson data lab – medium', 'analyze precipitation data', 'analyze precipitation data', 'analyze precipitation data', 'got zip code data? prep it for analytics. – ibm watson data lab – medium', 'analyzing data by using the sparkling.data library features', 'simple graphing with ipython and\\xa0pandas', 'data science platforms are on the rise and ibm is leading the way', 'data science platforms are on the rise and ibm is leading the way', 'simple graphing with ipython and\\xa0pandas', 'got zip code data? prep it for analytics. – ibm watson data lab – medium', 'analyze precipitation data', 'higher-order logistic regression for large datasets']\n"
     ]
    }
   ],
   "source": [
    "# Get 10 recommendations for user 1 (returns a list of article IDs)\n",
    "recommended_article_ids = user_user_recs(1, 10)\n",
    "\n",
    "# Now, get the article names corresponding to the recommended article IDs\n",
    "recommended_article_names = get_article_names(recommended_article_ids)\n",
    "\n",
    "# Display the article names (recommendations) for user 1\n",
    "print(recommended_article_names)\n"
   ]
  },
  {
   "cell_type": "code",
   "execution_count": 46,
   "metadata": {},
   "outputs": [
    {
     "data": {
      "text/plain": [
       "[(1320, 160), (844, 99), (232, 68)]"
      ]
     },
     "execution_count": 46,
     "metadata": {},
     "output_type": "execute_result"
    }
   ],
   "source": [
    "get_ranked_article_unique_counts([1320, 232, 844])"
   ]
  },
  {
   "cell_type": "code",
   "execution_count": 47,
   "metadata": {},
   "outputs": [
    {
     "ename": "AssertionError",
     "evalue": "Oops! Your the get_ranked_article_unique_counts function doesn't work quite how we expect.\nMake sure you are using the user_item matrix to create the article counts.",
     "output_type": "error",
     "traceback": [
      "\u001b[0;31m---------------------------------------------------------------------------\u001b[0m",
      "\u001b[0;31mAssertionError\u001b[0m                            Traceback (most recent call last)",
      "Cell \u001b[0;32mIn[47], line 8\u001b[0m\n\u001b[1;32m      6\u001b[0m \u001b[38;5;28;01massert\u001b[39;00m \u001b[38;5;28mset\u001b[39m(get_user_articles(\u001b[38;5;241m2\u001b[39m)[\u001b[38;5;241m0\u001b[39m]) \u001b[38;5;241m==\u001b[39m \u001b[38;5;28mset\u001b[39m([\u001b[38;5;241m1024\u001b[39m, \u001b[38;5;241m1176\u001b[39m, \u001b[38;5;241m1305\u001b[39m, \u001b[38;5;241m1314\u001b[39m, \u001b[38;5;241m1422\u001b[39m, \u001b[38;5;241m1427\u001b[39m])\n\u001b[1;32m      7\u001b[0m \u001b[38;5;28;01massert\u001b[39;00m \u001b[38;5;28mset\u001b[39m(get_user_articles(\u001b[38;5;241m2\u001b[39m)[\u001b[38;5;241m1\u001b[39m]) \u001b[38;5;241m==\u001b[39m \u001b[38;5;28mset\u001b[39m([\u001b[38;5;124m'\u001b[39m\u001b[38;5;124musing deep learning to reconstruct high-resolution audio\u001b[39m\u001b[38;5;124m'\u001b[39m, \u001b[38;5;124m'\u001b[39m\u001b[38;5;124mbuild a python app on the streaming analytics service\u001b[39m\u001b[38;5;124m'\u001b[39m, \u001b[38;5;124m'\u001b[39m\u001b[38;5;124mgosales transactions for naive bayes model\u001b[39m\u001b[38;5;124m'\u001b[39m, \u001b[38;5;124m'\u001b[39m\u001b[38;5;124mhealthcare python streaming application demo\u001b[39m\u001b[38;5;124m'\u001b[39m, \u001b[38;5;124m'\u001b[39m\u001b[38;5;124muse r dataframes & ibm watson natural language understanding\u001b[39m\u001b[38;5;124m'\u001b[39m, \u001b[38;5;124m'\u001b[39m\u001b[38;5;124muse xgboost, scikit-learn & ibm watson machine learning apis\u001b[39m\u001b[38;5;124m'\u001b[39m])\n\u001b[0;32m----> 8\u001b[0m \u001b[38;5;28;01massert\u001b[39;00m get_ranked_article_unique_counts([\u001b[38;5;241m1320\u001b[39m, \u001b[38;5;241m232\u001b[39m, \u001b[38;5;241m844\u001b[39m])[\u001b[38;5;241m0\u001b[39m] \u001b[38;5;241m==\u001b[39m [\u001b[38;5;241m1320\u001b[39m, \u001b[38;5;241m123\u001b[39m], \u001b[38;5;124m\"\u001b[39m\u001b[38;5;124mOops! Your the get_ranked_article_unique_counts function doesn\u001b[39m\u001b[38;5;124m'\u001b[39m\u001b[38;5;124mt work quite how we expect.\u001b[39m\u001b[38;5;130;01m\\n\u001b[39;00m\u001b[38;5;124mMake sure you are using the user_item matrix to create the article counts.\u001b[39m\u001b[38;5;124m\"\u001b[39m\n\u001b[1;32m      9\u001b[0m \u001b[38;5;28mprint\u001b[39m(\u001b[38;5;124m\"\u001b[39m\u001b[38;5;124mIf this is all you see, you passed all of our tests!  Nice job!\u001b[39m\u001b[38;5;124m\"\u001b[39m)\n",
      "\u001b[0;31mAssertionError\u001b[0m: Oops! Your the get_ranked_article_unique_counts function doesn't work quite how we expect.\nMake sure you are using the user_item matrix to create the article counts."
     ]
    }
   ],
   "source": [
    "# Test your functions here - No need to change this code - just run this cell\n",
    "assert set(get_article_names([1024, 1176, 1305, 1314, 1422, 1427])) == set(['using deep learning to reconstruct high-resolution audio', 'build a python app on the streaming analytics service', 'gosales transactions for naive bayes model', 'healthcare python streaming application demo', 'use r dataframes & ibm watson natural language understanding', 'use xgboost, scikit-learn & ibm watson machine learning apis']), \"Oops! Your the get_article_names function doesn't work quite how we expect.\"\n",
    "assert set(get_article_names([1320, 232, 844])) == set(['housing (2015): united states demographic measures','self-service data preparation with ibm data refinery','use the cloudant-spark connector in python notebook']), \"Oops! Your the get_article_names function doesn't work quite how we expect.\"\n",
    "assert set(get_user_articles(20)[0]) == set([1320, 232, 844])\n",
    "assert set(get_user_articles(20)[1]) == set(['housing (2015): united states demographic measures', 'self-service data preparation with ibm data refinery','use the cloudant-spark connector in python notebook'])\n",
    "assert set(get_user_articles(2)[0]) == set([1024, 1176, 1305, 1314, 1422, 1427])\n",
    "assert set(get_user_articles(2)[1]) == set(['using deep learning to reconstruct high-resolution audio', 'build a python app on the streaming analytics service', 'gosales transactions for naive bayes model', 'healthcare python streaming application demo', 'use r dataframes & ibm watson natural language understanding', 'use xgboost, scikit-learn & ibm watson machine learning apis'])\n",
    "assert get_ranked_article_unique_counts([1320, 232, 844])[0] == [1320, 123], \"Oops! Your the get_ranked_article_unique_counts function doesn't work quite how we expect.\\nMake sure you are using the user_item matrix to create the article counts.\"\n",
    "print(\"If this is all you see, you passed all of our tests!  Nice job!\")"
   ]
  },
  {
   "cell_type": "markdown",
   "metadata": {},
   "source": [
    "`4.` Now we are going to improve the consistency of the **user_user_recs** function from above.  \n",
    "\n",
    "* Instead of arbitrarily choosing when we obtain users who are all the same closeness to a given user - choose the users that have the most total article interactions before choosing those with fewer article interactions.\n",
    "\n",
    "\n",
    "* Instead of arbitrarily choosing articles from the user where the number of recommended articles starts below m and ends exceeding m, choose articles with the articles with the most total interactions before choosing those with fewer total interactions. This ranking should be  what would be obtained from the **top_articles** function you wrote earlier."
   ]
  },
  {
   "cell_type": "code",
   "execution_count": 56,
   "metadata": {},
   "outputs": [],
   "source": [
    "def get_top_sorted_users(user_id, user_item=user_item):\n",
    "    \"\"\"\n",
    "    INPUT:\n",
    "    user_id - (int)\n",
    "    user_item - (pandas dataframe) matrix of users by articles: \n",
    "            1's when a user has interacted with an article, 0 otherwise\n",
    "    \n",
    "    OUTPUT:\n",
    "    neighbors_df - (pandas dataframe) a dataframe with:\n",
    "                    neighbor_id - is a neighbor user_id\n",
    "                    similarity - measure of the similarity of each user to the provided user_id\n",
    "                    num_interactions - the number of articles viewed by the user\n",
    "                    \n",
    "    Description:\n",
    "    Returns a dataframe sorted by similarity and then by number of interactions in descending order.\n",
    "    \"\"\"\n",
    "    # Get similarity of all users to the input user\n",
    "    target_user_vector = user_item.loc[user_id]\n",
    "    similarities = user_item.dot(target_user_vector)\n",
    "    \n",
    "    # Drop the user_id from the similarity Series\n",
    "    similarities.drop(user_id, inplace=True)\n",
    "    \n",
    "    # Create dataframe with similarity and interaction count\n",
    "    neighbors_df = pd.DataFrame({\n",
    "        'neighbor_id': similarities.index,\n",
    "        'similarity': similarities.values,\n",
    "        'num_interactions': user_item.loc[similarities.index].sum(axis=1).values\n",
    "    })\n",
    "    \n",
    "    # Sort by similarity and then by number of interactions\n",
    "    neighbors_df.sort_values(by=['similarity', 'num_interactions'], ascending=False, inplace=True)\n",
    "    \n",
    "    return neighbors_df\n",
    "\n",
    "def user_user_recs_part2(user_id, m=10):\n",
    "    \"\"\"\n",
    "    INPUT:\n",
    "    user_id - (int) a user id\n",
    "    m - (int) the number of recommendations you want for the user\n",
    "    \n",
    "    OUTPUT:\n",
    "    recs - (list) a list of recommendations for the user by article id\n",
    "    rec_names - (list) a list of recommendations for the user by article title\n",
    "    \"\"\"\n",
    "    # Get articles the user has already seen\n",
    "    seen_articles, _ = get_user_articles(user_id, user_item)\n",
    "    \n",
    "    # Get top sorted similar users\n",
    "    neighbors_df = get_top_sorted_users(user_id, user_item)\n",
    "    \n",
    "    # Init recommendations\n",
    "    recs = []\n",
    "    \n",
    "    for neighbor_id in neighbors_df['neighbor_id']:\n",
    "        # Articles the neighbor has seen\n",
    "        neighbor_articles, _ = get_user_articles(neighbor_id, user_item)\n",
    "        \n",
    "        # New recommendations\n",
    "        new_recs = list(set(neighbor_articles) - set(seen_articles))\n",
    "        \n",
    "        # Add new recs, stopping at m\n",
    "        for article_id in new_recs:\n",
    "            if article_id not in recs:\n",
    "                recs.append(article_id)\n",
    "            if len(recs) >= m:\n",
    "                break\n",
    "        if len(recs) >= m:\n",
    "            break\n",
    "    \n",
    "    return recs, get_article_names(recs, df)\n"
   ]
  },
  {
   "cell_type": "code",
   "execution_count": 57,
   "metadata": {},
   "outputs": [
    {
     "name": "stdout",
     "output_type": "stream",
     "text": [
      "The top 10 recommendations for user 20 are the following article ids:\n",
      "[1152, 1400, 390, 1158, 12, 14, 1423, 656, 1168, 1296]\n",
      "\n",
      "The top 10 recommendations for user 20 are the following article names:\n",
      "['got zip code data? prep it for analytics. – ibm watson data lab – medium', 'timeseries data analysis of iot events by using jupyter notebook', 'use sql with data in hadoop python', 'uci ml repository: chronic kidney disease data set', 'use sql with data in hadoop python', 'fortune 100 companies', 'uci ml repository: chronic kidney disease data set', 'uci ml repository: chronic kidney disease data set', 'use sql with data in hadoop python', 'uci ml repository: chronic kidney disease data set', 'use sql with data in hadoop python', 'timeseries data analysis of iot events by using jupyter notebook', 'uci ml repository: chronic kidney disease data set', 'uci ml repository: chronic kidney disease data set', 'got zip code data? prep it for analytics. – ibm watson data lab – medium', 'use sql with data in hadoop python', 'timeseries data analysis of iot events by using jupyter notebook', 'fortune 100 companies', 'use sql with data in hadoop python', 'timeseries data analysis of iot events by using jupyter notebook', 'uci ml repository: chronic kidney disease data set', 'use sql with data in hadoop python', 'use sql with data in hadoop python', 'use sql with data in hadoop python', 'uci ml repository: chronic kidney disease data set', 'annual % population growth by country', 'uci ml repository: chronic kidney disease data set', 'fortune 100 companies', 'uci ml repository: chronic kidney disease data set', 'use sql with data in hadoop python', 'uci ml repository: chronic kidney disease data set', 'use sql with data in hadoop python', 'uci ml repository: chronic kidney disease data set', 'fortune 100 companies', 'timeseries data analysis of iot events by using jupyter notebook', 'timeseries data analysis of iot events by using jupyter notebook', 'uci ml repository: chronic kidney disease data set', 'uci ml repository: chronic kidney disease data set', 'uci ml repository: chronic kidney disease data set', 'uci ml repository: chronic kidney disease data set', 'timeseries data analysis of iot events by using jupyter notebook', 'uci ml repository: chronic kidney disease data set', 'uci ml repository: chronic kidney disease data set', 'uci ml repository: chronic kidney disease data set', 'uci ml repository: chronic kidney disease data set', 'use sql with data in hadoop python', 'timeseries data analysis of iot events by using jupyter notebook', 'use sql with data in hadoop python', 'timeseries data analysis of iot events by using jupyter notebook', 'timeseries data analysis of iot events by using jupyter notebook', 'use sql with data in hadoop python', 'timeseries data analysis of iot events by using jupyter notebook', 'timeseries data analysis of iot events by using jupyter notebook', 'use sql with data in hadoop python', 'timeseries data analysis of iot events by using jupyter notebook', 'timeseries data analysis of iot events by using jupyter notebook', 'uci ml repository: chronic kidney disease data set', 'use sql with data in hadoop python', 'airbnb data for analytics: venice reviews', 'timeseries data analysis of iot events by using jupyter notebook', 'timeseries data analysis of iot events by using jupyter notebook', 'annual % population growth by country', 'timeseries data analysis of iot events by using jupyter notebook', 'got zip code data? prep it for analytics. – ibm watson data lab – medium', 'got zip code data? prep it for analytics. – ibm watson data lab – medium', 'uci ml repository: chronic kidney disease data set', 'uci ml repository: chronic kidney disease data set', 'use sql with data in hadoop python', 'use sql with data in hadoop python', 'uci ml repository: chronic kidney disease data set', 'timeseries data analysis of iot events by using jupyter notebook', 'timeseries data analysis of iot events by using jupyter notebook', 'uci ml repository: chronic kidney disease data set', 'got zip code data? prep it for analytics. – ibm watson data lab – medium', 'uci ml repository: chronic kidney disease data set', 'fortune 100 companies', 'got zip code data? prep it for analytics. – ibm watson data lab – medium', 'uci ml repository: chronic kidney disease data set', 'use sql with data in hadoop python', 'got zip code data? prep it for analytics. – ibm watson data lab – medium', 'fortune 100 companies', 'use sql with data in hadoop python', 'fortune 100 companies', 'fortune 100 companies', 'uci ml repository: chronic kidney disease data set', 'timeseries data analysis of iot events by using jupyter notebook', 'fortune 100 companies', 'airbnb data for analytics: venice reviews', 'fortune 100 companies', 'fortune 100 companies', 'uci ml repository: chronic kidney disease data set', 'use sql with data in hadoop python', 'fortune 100 companies', 'airbnb data for analytics: washington d.c. reviews', 'fortune 100 companies', 'use sql with data in hadoop python', 'fortune 100 companies', 'fortune 100 companies', 'timeseries data analysis of iot events by using jupyter notebook', 'uci ml repository: chronic kidney disease data set', 'fortune 100 companies', 'timeseries data analysis of iot events by using jupyter notebook', 'timeseries data analysis of iot events by using jupyter notebook', 'got zip code data? prep it for analytics. – ibm watson data lab – medium', 'fortune 100 companies', 'fortune 100 companies', 'timeseries data analysis of iot events by using jupyter notebook', 'timeseries data analysis of iot events by using jupyter notebook', 'annual % population growth by country', 'got zip code data? prep it for analytics. – ibm watson data lab – medium', 'got zip code data? prep it for analytics. – ibm watson data lab – medium', 'annual % population growth by country', 'timeseries data analysis of iot events by using jupyter notebook', 'fortune 100 companies', 'uci ml repository: chronic kidney disease data set', 'fortune 100 companies', 'use sql with data in hadoop python', 'use sql with data in hadoop python', 'use sql with data in hadoop python', 'annual % population growth by country', 'fortune 100 companies', 'timeseries data analysis of iot events by using jupyter notebook', 'got zip code data? prep it for analytics. – ibm watson data lab – medium', 'use sql with data in hadoop python', 'use sql with data in hadoop python', 'timeseries data analysis of iot events by using jupyter notebook', 'use sql with data in hadoop python', 'timeseries data analysis of iot events by using jupyter notebook', 'timeseries data analysis of iot events by using jupyter notebook', 'use sql with data in hadoop python', 'airbnb data for analytics: washington d.c. reviews', 'use sql with data in hadoop python', 'airbnb data for analytics: washington d.c. reviews', 'fortune 100 companies', 'fortune 100 companies', 'uci ml repository: chronic kidney disease data set', 'uci ml repository: chronic kidney disease data set', 'timeseries data analysis of iot events by using jupyter notebook', 'use sql with data in hadoop python', 'fortune 100 companies', 'fortune 100 companies', 'got zip code data? prep it for analytics. – ibm watson data lab – medium', 'uci ml repository: chronic kidney disease data set', 'use sql with data in hadoop python', 'uci ml repository: chronic kidney disease data set', 'use sql with data in hadoop python', 'annual % population growth by country', 'fortune 100 companies', 'fortune 100 companies', 'fortune 100 companies', 'airbnb data for analytics: venice reviews', 'fortune 100 companies', 'fortune 100 companies', 'fortune 100 companies', 'fortune 100 companies', 'fortune 100 companies', 'airbnb data for analytics: venice reviews', 'timeseries data analysis of iot events by using jupyter notebook', 'uci ml repository: chronic kidney disease data set', 'fortune 100 companies', 'timeseries data analysis of iot events by using jupyter notebook', 'fortune 100 companies', 'got zip code data? prep it for analytics. – ibm watson data lab – medium', 'uci ml repository: chronic kidney disease data set', 'fortune 100 companies', 'got zip code data? prep it for analytics. – ibm watson data lab – medium', 'fortune 100 companies', 'airbnb data for analytics: washington d.c. reviews', 'fortune 100 companies', 'uci ml repository: chronic kidney disease data set', 'got zip code data? prep it for analytics. – ibm watson data lab – medium', 'fortune 100 companies', 'use sql with data in hadoop python', 'airbnb data for analytics: washington d.c. reviews', 'fortune 100 companies', 'fortune 100 companies', 'use sql with data in hadoop python', 'airbnb data for analytics: washington d.c. reviews', 'timeseries data analysis of iot events by using jupyter notebook', 'fortune 100 companies', 'use sql with data in hadoop python', 'use sql with data in hadoop python', 'fortune 100 companies', 'uci ml repository: chronic kidney disease data set', 'fortune 100 companies', 'timeseries data analysis of iot events by using jupyter notebook', 'fortune 100 companies', 'fortune 100 companies', 'uci ml repository: chronic kidney disease data set', 'airbnb data for analytics: washington d.c. reviews', 'timeseries data analysis of iot events by using jupyter notebook', 'fortune 100 companies', 'timeseries data analysis of iot events by using jupyter notebook', 'timeseries data analysis of iot events by using jupyter notebook', 'use sql with data in hadoop python', 'fortune 100 companies', 'airbnb data for analytics: washington d.c. reviews', 'airbnb data for analytics: washington d.c. reviews', 'timeseries data analysis of iot events by using jupyter notebook', 'fortune 100 companies', 'use sql with data in hadoop python', 'fortune 100 companies', 'use sql with data in hadoop python', 'fortune 100 companies', 'got zip code data? prep it for analytics. – ibm watson data lab – medium', 'fortune 100 companies', 'got zip code data? prep it for analytics. – ibm watson data lab – medium', 'airbnb data for analytics: venice reviews', 'uci ml repository: chronic kidney disease data set', 'timeseries data analysis of iot events by using jupyter notebook', 'uci ml repository: chronic kidney disease data set', 'fortune 100 companies', 'use sql with data in hadoop python', 'uci ml repository: chronic kidney disease data set', 'use sql with data in hadoop python', 'uci ml repository: chronic kidney disease data set', 'airbnb data for analytics: washington d.c. reviews', 'use sql with data in hadoop python', 'got zip code data? prep it for analytics. – ibm watson data lab – medium', 'use sql with data in hadoop python', 'airbnb data for analytics: venice reviews', 'use sql with data in hadoop python', 'uci ml repository: chronic kidney disease data set', 'use sql with data in hadoop python', 'fortune 100 companies', 'use sql with data in hadoop python', 'annual % population growth by country', 'got zip code data? prep it for analytics. – ibm watson data lab – medium', 'use sql with data in hadoop python', 'timeseries data analysis of iot events by using jupyter notebook', 'use sql with data in hadoop python', 'fortune 100 companies', 'timeseries data analysis of iot events by using jupyter notebook', 'use sql with data in hadoop python', 'use sql with data in hadoop python', 'uci ml repository: chronic kidney disease data set', 'uci ml repository: chronic kidney disease data set', 'fortune 100 companies', 'uci ml repository: chronic kidney disease data set', 'use sql with data in hadoop python', 'use sql with data in hadoop python', 'fortune 100 companies', 'timeseries data analysis of iot events by using jupyter notebook', 'fortune 100 companies', 'uci ml repository: chronic kidney disease data set', 'fortune 100 companies', 'got zip code data? prep it for analytics. – ibm watson data lab – medium', 'use sql with data in hadoop python', 'uci ml repository: chronic kidney disease data set', 'fortune 100 companies', 'airbnb data for analytics: washington d.c. reviews', 'fortune 100 companies', 'got zip code data? prep it for analytics. – ibm watson data lab – medium', 'got zip code data? prep it for analytics. – ibm watson data lab – medium', 'timeseries data analysis of iot events by using jupyter notebook', 'fortune 100 companies', 'use sql with data in hadoop python', 'use sql with data in hadoop python', 'got zip code data? prep it for analytics. – ibm watson data lab – medium', 'timeseries data analysis of iot events by using jupyter notebook', 'fortune 100 companies', 'airbnb data for analytics: washington d.c. reviews', 'fortune 100 companies', 'use sql with data in hadoop python', 'timeseries data analysis of iot events by using jupyter notebook', 'fortune 100 companies', 'uci ml repository: chronic kidney disease data set', 'fortune 100 companies', 'airbnb data for analytics: venice reviews', 'uci ml repository: chronic kidney disease data set', 'airbnb data for analytics: washington d.c. reviews', 'got zip code data? prep it for analytics. – ibm watson data lab – medium', 'fortune 100 companies', 'fortune 100 companies', 'timeseries data analysis of iot events by using jupyter notebook', 'got zip code data? prep it for analytics. – ibm watson data lab – medium', 'airbnb data for analytics: washington d.c. reviews', 'use sql with data in hadoop python', 'uci ml repository: chronic kidney disease data set', 'use sql with data in hadoop python', 'use sql with data in hadoop python', 'fortune 100 companies', 'use sql with data in hadoop python', 'uci ml repository: chronic kidney disease data set', 'airbnb data for analytics: washington d.c. reviews', 'annual % population growth by country', 'timeseries data analysis of iot events by using jupyter notebook', 'got zip code data? prep it for analytics. – ibm watson data lab – medium', 'fortune 100 companies', 'use sql with data in hadoop python', 'fortune 100 companies', 'fortune 100 companies', 'fortune 100 companies', 'fortune 100 companies', 'uci ml repository: chronic kidney disease data set', 'fortune 100 companies', 'fortune 100 companies', 'got zip code data? prep it for analytics. – ibm watson data lab – medium', 'fortune 100 companies', 'airbnb data for analytics: washington d.c. reviews', 'fortune 100 companies', 'airbnb data for analytics: washington d.c. reviews', 'fortune 100 companies', 'use sql with data in hadoop python', 'fortune 100 companies', 'fortune 100 companies', 'got zip code data? prep it for analytics. – ibm watson data lab – medium', 'got zip code data? prep it for analytics. – ibm watson data lab – medium', 'fortune 100 companies', 'fortune 100 companies', 'fortune 100 companies', 'use sql with data in hadoop python', 'fortune 100 companies', 'use sql with data in hadoop python', 'use sql with data in hadoop python', 'fortune 100 companies', 'timeseries data analysis of iot events by using jupyter notebook', 'airbnb data for analytics: washington d.c. reviews', 'uci ml repository: chronic kidney disease data set', 'timeseries data analysis of iot events by using jupyter notebook', 'uci ml repository: chronic kidney disease data set', 'airbnb data for analytics: washington d.c. reviews', 'uci ml repository: chronic kidney disease data set', 'uci ml repository: chronic kidney disease data set', 'airbnb data for analytics: washington d.c. reviews', 'fortune 100 companies', 'uci ml repository: chronic kidney disease data set', 'airbnb data for analytics: washington d.c. reviews', 'airbnb data for analytics: washington d.c. reviews', 'fortune 100 companies', 'annual % population growth by country', 'got zip code data? prep it for analytics. – ibm watson data lab – medium', 'use sql with data in hadoop python', 'got zip code data? prep it for analytics. – ibm watson data lab – medium', 'fortune 100 companies', 'timeseries data analysis of iot events by using jupyter notebook', 'use sql with data in hadoop python', 'uci ml repository: chronic kidney disease data set', 'use sql with data in hadoop python', 'timeseries data analysis of iot events by using jupyter notebook', 'airbnb data for analytics: washington d.c. reviews', 'got zip code data? prep it for analytics. – ibm watson data lab – medium', 'got zip code data? prep it for analytics. – ibm watson data lab – medium', 'uci ml repository: chronic kidney disease data set', 'uci ml repository: chronic kidney disease data set', 'fortune 100 companies', 'got zip code data? prep it for analytics. – ibm watson data lab – medium', 'timeseries data analysis of iot events by using jupyter notebook', 'uci ml repository: chronic kidney disease data set', 'got zip code data? prep it for analytics. – ibm watson data lab – medium', 'uci ml repository: chronic kidney disease data set', 'airbnb data for analytics: washington d.c. reviews', 'use sql with data in hadoop python', 'uci ml repository: chronic kidney disease data set', 'fortune 100 companies', 'fortune 100 companies', 'uci ml repository: chronic kidney disease data set', 'fortune 100 companies', 'got zip code data? prep it for analytics. – ibm watson data lab – medium', 'timeseries data analysis of iot events by using jupyter notebook', 'uci ml repository: chronic kidney disease data set', 'use sql with data in hadoop python', 'annual % population growth by country', 'got zip code data? prep it for analytics. – ibm watson data lab – medium', 'uci ml repository: chronic kidney disease data set', 'timeseries data analysis of iot events by using jupyter notebook', 'uci ml repository: chronic kidney disease data set', 'timeseries data analysis of iot events by using jupyter notebook', 'got zip code data? prep it for analytics. – ibm watson data lab – medium', 'use sql with data in hadoop python', 'got zip code data? prep it for analytics. – ibm watson data lab – medium', 'uci ml repository: chronic kidney disease data set', 'timeseries data analysis of iot events by using jupyter notebook', 'fortune 100 companies', 'fortune 100 companies', 'got zip code data? prep it for analytics. – ibm watson data lab – medium', 'fortune 100 companies', 'timeseries data analysis of iot events by using jupyter notebook', 'fortune 100 companies', 'uci ml repository: chronic kidney disease data set', 'fortune 100 companies', 'use sql with data in hadoop python', 'use sql with data in hadoop python', 'timeseries data analysis of iot events by using jupyter notebook', 'use sql with data in hadoop python', 'uci ml repository: chronic kidney disease data set', 'uci ml repository: chronic kidney disease data set', 'timeseries data analysis of iot events by using jupyter notebook', 'timeseries data analysis of iot events by using jupyter notebook', 'timeseries data analysis of iot events by using jupyter notebook', 'timeseries data analysis of iot events by using jupyter notebook', 'airbnb data for analytics: washington d.c. reviews', 'uci ml repository: chronic kidney disease data set', 'timeseries data analysis of iot events by using jupyter notebook', 'fortune 100 companies', 'fortune 100 companies', 'airbnb data for analytics: washington d.c. reviews', 'airbnb data for analytics: washington d.c. reviews', 'airbnb data for analytics: venice reviews', 'uci ml repository: chronic kidney disease data set', 'uci ml repository: chronic kidney disease data set', 'uci ml repository: chronic kidney disease data set', 'timeseries data analysis of iot events by using jupyter notebook', 'uci ml repository: chronic kidney disease data set', 'uci ml repository: chronic kidney disease data set', 'uci ml repository: chronic kidney disease data set', 'fortune 100 companies', 'fortune 100 companies', 'airbnb data for analytics: washington d.c. reviews', 'fortune 100 companies', 'uci ml repository: chronic kidney disease data set', 'uci ml repository: chronic kidney disease data set', 'timeseries data analysis of iot events by using jupyter notebook', 'deep learning achievements over the past year ', 'deep learning achievements over the past year ', 'deep learning achievements over the past year ', 'uci ml repository: chronic kidney disease data set', 'deep learning achievements over the past year ', 'deep learning achievements over the past year ', 'uci ml repository: chronic kidney disease data set', 'use sql with data in hadoop python', 'fortune 100 companies', 'deep learning achievements over the past year ', 'deep learning achievements over the past year ', 'use sql with data in hadoop python', 'uci ml repository: chronic kidney disease data set', 'use sql with data in hadoop python', 'uci ml repository: chronic kidney disease data set', 'fortune 100 companies', 'deep learning achievements over the past year ', 'fortune 100 companies', 'fortune 100 companies', 'fortune 100 companies', 'uci ml repository: chronic kidney disease data set', 'uci ml repository: chronic kidney disease data set', 'use sql with data in hadoop python', 'fortune 100 companies', 'uci ml repository: chronic kidney disease data set', 'annual % population growth by country', 'uci ml repository: chronic kidney disease data set', 'timeseries data analysis of iot events by using jupyter notebook', 'uci ml repository: chronic kidney disease data set', 'deep learning achievements over the past year ', 'uci ml repository: chronic kidney disease data set', 'uci ml repository: chronic kidney disease data set', 'uci ml repository: chronic kidney disease data set', 'uci ml repository: chronic kidney disease data set', 'timeseries data analysis of iot events by using jupyter notebook', 'uci ml repository: chronic kidney disease data set', 'uci ml repository: chronic kidney disease data set', 'uci ml repository: chronic kidney disease data set', 'uci ml repository: chronic kidney disease data set', 'uci ml repository: chronic kidney disease data set', 'uci ml repository: chronic kidney disease data set', 'uci ml repository: chronic kidney disease data set', 'uci ml repository: chronic kidney disease data set', 'uci ml repository: chronic kidney disease data set', 'uci ml repository: chronic kidney disease data set', 'uci ml repository: chronic kidney disease data set', 'uci ml repository: chronic kidney disease data set', 'uci ml repository: chronic kidney disease data set', 'uci ml repository: chronic kidney disease data set', 'uci ml repository: chronic kidney disease data set', 'use sql with data in hadoop python', 'uci ml repository: chronic kidney disease data set', 'fortune 100 companies', 'uci ml repository: chronic kidney disease data set', 'timeseries data analysis of iot events by using jupyter notebook', 'uci ml repository: chronic kidney disease data set', 'timeseries data analysis of iot events by using jupyter notebook', 'timeseries data analysis of iot events by using jupyter notebook', 'timeseries data analysis of iot events by using jupyter notebook', 'uci ml repository: chronic kidney disease data set', 'deep learning achievements over the past year ', 'uci ml repository: chronic kidney disease data set', 'uci ml repository: chronic kidney disease data set', 'uci ml repository: chronic kidney disease data set', 'uci ml repository: chronic kidney disease data set', 'uci ml repository: chronic kidney disease data set', 'uci ml repository: chronic kidney disease data set', 'uci ml repository: chronic kidney disease data set', 'uci ml repository: chronic kidney disease data set', 'uci ml repository: chronic kidney disease data set', 'uci ml repository: chronic kidney disease data set', 'uci ml repository: chronic kidney disease data set', 'uci ml repository: chronic kidney disease data set', 'uci ml repository: chronic kidney disease data set', 'uci ml repository: chronic kidney disease data set', 'introducing ibm watson studio ', 'uci ml repository: chronic kidney disease data set', 'uci ml repository: chronic kidney disease data set', 'introducing ibm watson studio ', 'introducing ibm watson studio ', 'introducing ibm watson studio ', 'introducing ibm watson studio ', 'introducing ibm watson studio ', 'introducing ibm watson studio ', 'introducing ibm watson studio ', 'introducing ibm watson studio ', 'introducing ibm watson studio ', 'introducing ibm watson studio ', 'introducing ibm watson studio ', 'introducing ibm watson studio ', 'introducing ibm watson studio ', 'introducing ibm watson studio ', 'introducing ibm watson studio ', 'introducing ibm watson studio ', 'introducing ibm watson studio ', 'introducing ibm watson studio ', 'introducing ibm watson studio ', 'introducing ibm watson studio ', 'introducing ibm watson studio ', 'introducing ibm watson studio ', 'introducing ibm watson studio ', 'introducing ibm watson studio ', 'introducing ibm watson studio ', 'introducing ibm watson studio ', 'introducing ibm watson studio ', 'introducing ibm watson studio ', 'introducing ibm watson studio ', 'introducing ibm watson studio ', 'introducing ibm watson studio ', 'introducing ibm watson studio ', 'introducing ibm watson studio ', 'introducing ibm watson studio ', 'introducing ibm watson studio ', 'introducing ibm watson studio ', 'introducing ibm watson studio ', 'introducing ibm watson studio ', 'uci ml repository: chronic kidney disease data set', 'uci ml repository: chronic kidney disease data set', 'introducing ibm watson studio ', 'introducing ibm watson studio ', 'introducing ibm watson studio ', 'introducing ibm watson studio ', 'introducing ibm watson studio ', 'introducing ibm watson studio ', 'introducing ibm watson studio ', 'introducing ibm watson studio ', 'introducing ibm watson studio ', 'introducing ibm watson studio ', 'introducing ibm watson studio ', 'introducing ibm watson studio ', 'introducing ibm watson studio ', 'introducing ibm watson studio ', 'introducing ibm watson studio ', 'introducing ibm watson studio ', 'introducing ibm watson studio ', 'introducing ibm watson studio ', 'introducing ibm watson studio ', 'introducing ibm watson studio ', 'introducing ibm watson studio ', 'introducing ibm watson studio ', 'introducing ibm watson studio ', 'introducing ibm watson studio ', 'introducing ibm watson studio ', 'introducing ibm watson studio ', 'introducing ibm watson studio ', 'introducing ibm watson studio ', 'introducing ibm watson studio ', 'introducing ibm watson studio ', 'introducing ibm watson studio ', 'introducing ibm watson studio ', 'introducing ibm watson studio ', 'introducing ibm watson studio ', 'introducing ibm watson studio ', 'introducing ibm watson studio ', 'uci ml repository: chronic kidney disease data set', 'introducing ibm watson studio ', 'introducing ibm watson studio ', 'introducing ibm watson studio ', 'introducing ibm watson studio ', 'introducing ibm watson studio ', 'introducing ibm watson studio ', 'introducing ibm watson studio ', 'introducing ibm watson studio ', 'introducing ibm watson studio ', 'introducing ibm watson studio ', 'use sql with data in hadoop python', 'introducing ibm watson studio ', 'introducing ibm watson studio ', 'introducing ibm watson studio ', 'introducing ibm watson studio ', 'introducing ibm watson studio ', 'introducing ibm watson studio ', 'introducing ibm watson studio ', 'introducing ibm watson studio ', 'introducing ibm watson studio ', 'introducing ibm watson studio ', 'introducing ibm watson studio ', 'introducing ibm watson studio ', 'uci ml repository: chronic kidney disease data set', 'introducing ibm watson studio ', 'introducing ibm watson studio ', 'introducing ibm watson studio ', 'introducing ibm watson studio ', 'introducing ibm watson studio ', 'introducing ibm watson studio ', 'introducing ibm watson studio ', 'introducing ibm watson studio ', 'introducing ibm watson studio ', 'introducing ibm watson studio ', 'introducing ibm watson studio ', 'introducing ibm watson studio ', 'introducing ibm watson studio ', 'introducing ibm watson studio ', 'introducing ibm watson studio ', 'introducing ibm watson studio ', 'introducing ibm watson studio ', 'introducing ibm watson studio ', 'introducing ibm watson studio ', 'introducing ibm watson studio ', 'introducing ibm watson studio ', 'introducing ibm watson studio ', 'introducing ibm watson studio ', 'introducing ibm watson studio ', 'introducing ibm watson studio ', 'introducing ibm watson studio ', 'annual % population growth by country', 'introducing ibm watson studio ', 'introducing ibm watson studio ', 'introducing ibm watson studio ', 'introducing ibm watson studio ', 'introducing ibm watson studio ', 'introducing ibm watson studio ', 'introducing ibm watson studio ', 'uci ml repository: chronic kidney disease data set', 'introducing ibm watson studio ', 'introducing ibm watson studio ', 'introducing ibm watson studio ', 'introducing ibm watson studio ', 'uci ml repository: chronic kidney disease data set', 'annual % population growth by country', 'uci ml repository: chronic kidney disease data set', 'introducing ibm watson studio ', 'introducing ibm watson studio ', 'introducing ibm watson studio ', 'introducing ibm watson studio ', 'introducing ibm watson studio ', 'introducing ibm watson studio ', 'introducing ibm watson studio ', 'introducing ibm watson studio ', 'introducing ibm watson studio ', 'introducing ibm watson studio ', 'use sql with data in hadoop python', 'introducing ibm watson studio ', 'introducing ibm watson studio ', 'introducing ibm watson studio ', 'introducing ibm watson studio ', 'timeseries data analysis of iot events by using jupyter notebook', 'uci ml repository: chronic kidney disease data set', 'uci ml repository: chronic kidney disease data set', 'introducing ibm watson studio ', 'introducing ibm watson studio ', 'introducing ibm watson studio ', 'introducing ibm watson studio ', 'uci ml repository: chronic kidney disease data set', 'introducing ibm watson studio ', 'annual % population growth by country', 'introducing ibm watson studio ', 'introducing ibm watson studio ', 'uci ml repository: chronic kidney disease data set', 'introducing ibm watson studio ', 'uci ml repository: chronic kidney disease data set', 'introducing ibm watson studio ', 'use sql with data in hadoop python', 'introducing ibm watson studio ', 'introducing ibm watson studio ', 'introducing ibm watson studio ', 'uci ml repository: chronic kidney disease data set', 'uci ml repository: chronic kidney disease data set', 'introducing ibm watson studio ', 'introducing ibm watson studio ', 'introducing ibm watson studio ', 'uci ml repository: chronic kidney disease data set', 'introducing ibm watson studio ', 'introducing ibm watson studio ', 'introducing ibm watson studio ', 'timeseries data analysis of iot events by using jupyter notebook', 'fortune 100 companies', 'fortune 100 companies', 'uci ml repository: chronic kidney disease data set', 'timeseries data analysis of iot events by using jupyter notebook', 'use sql with data in hadoop python', 'timeseries data analysis of iot events by using jupyter notebook', 'uci ml repository: chronic kidney disease data set', 'fortune 100 companies', 'use sql with data in hadoop python', 'timeseries data analysis of iot events by using jupyter notebook', 'fortune 100 companies', 'got zip code data? prep it for analytics. – ibm watson data lab – medium', 'uci ml repository: chronic kidney disease data set', 'got zip code data? prep it for analytics. – ibm watson data lab – medium', 'uci ml repository: chronic kidney disease data set', 'uci ml repository: chronic kidney disease data set', 'uci ml repository: chronic kidney disease data set', 'use sql with data in hadoop python', 'airbnb data for analytics: washington d.c. reviews', 'uci ml repository: chronic kidney disease data set', 'uci ml repository: chronic kidney disease data set', 'annual % population growth by country', 'uci ml repository: chronic kidney disease data set', 'uci ml repository: chronic kidney disease data set', 'got zip code data? prep it for analytics. – ibm watson data lab – medium', 'timeseries data analysis of iot events by using jupyter notebook', 'uci ml repository: chronic kidney disease data set', 'use sql with data in hadoop python', 'uci ml repository: chronic kidney disease data set', 'uci ml repository: chronic kidney disease data set', 'timeseries data analysis of iot events by using jupyter notebook', 'airbnb data for analytics: washington d.c. reviews', 'introducing ibm watson studio ', 'timeseries data analysis of iot events by using jupyter notebook', 'fortune 100 companies', 'got zip code data? prep it for analytics. – ibm watson data lab – medium', 'fortune 100 companies', 'fortune 100 companies', 'fortune 100 companies', 'uci ml repository: chronic kidney disease data set', 'uci ml repository: chronic kidney disease data set', 'timeseries data analysis of iot events by using jupyter notebook', 'annual % population growth by country', 'use sql with data in hadoop python', 'timeseries data analysis of iot events by using jupyter notebook', 'timeseries data analysis of iot events by using jupyter notebook', 'timeseries data analysis of iot events by using jupyter notebook', 'introducing ibm watson studio ', 'use sql with data in hadoop python', 'introducing ibm watson studio ', 'timeseries data analysis of iot events by using jupyter notebook', 'fortune 100 companies', 'timeseries data analysis of iot events by using jupyter notebook', 'introducing ibm watson studio ', 'introducing ibm watson studio ', 'uci ml repository: chronic kidney disease data set', 'introducing ibm watson studio ', 'got zip code data? prep it for analytics. – ibm watson data lab – medium', 'timeseries data analysis of iot events by using jupyter notebook', 'timeseries data analysis of iot events by using jupyter notebook', 'timeseries data analysis of iot events by using jupyter notebook', 'timeseries data analysis of iot events by using jupyter notebook', 'use sql with data in hadoop python', 'got zip code data? prep it for analytics. – ibm watson data lab – medium', 'fortune 100 companies', 'got zip code data? prep it for analytics. – ibm watson data lab – medium', 'uci ml repository: chronic kidney disease data set', 'fortune 100 companies', 'introducing ibm watson studio ', 'use sql with data in hadoop python', 'use sql with data in hadoop python', 'timeseries data analysis of iot events by using jupyter notebook', 'uci ml repository: chronic kidney disease data set', 'use sql with data in hadoop python', 'fortune 100 companies', 'fortune 100 companies', 'fortune 100 companies', 'fortune 100 companies', 'uci ml repository: chronic kidney disease data set', 'uci ml repository: chronic kidney disease data set', 'uci ml repository: chronic kidney disease data set', 'introducing ibm watson studio ', 'airbnb data for analytics: washington d.c. reviews', 'timeseries data analysis of iot events by using jupyter notebook', 'timeseries data analysis of iot events by using jupyter notebook', 'uci ml repository: chronic kidney disease data set', 'uci ml repository: chronic kidney disease data set', 'uci ml repository: chronic kidney disease data set', 'timeseries data analysis of iot events by using jupyter notebook', 'use sql with data in hadoop python', 'fortune 100 companies', 'timeseries data analysis of iot events by using jupyter notebook', 'got zip code data? prep it for analytics. – ibm watson data lab – medium', 'got zip code data? prep it for analytics. – ibm watson data lab – medium', 'fortune 100 companies', 'timeseries data analysis of iot events by using jupyter notebook', 'timeseries data analysis of iot events by using jupyter notebook', 'use sql with data in hadoop python', 'introducing ibm watson studio ', 'timeseries data analysis of iot events by using jupyter notebook', 'airbnb data for analytics: venice reviews', 'timeseries data analysis of iot events by using jupyter notebook', 'fortune 100 companies', 'fortune 100 companies', 'timeseries data analysis of iot events by using jupyter notebook', 'uci ml repository: chronic kidney disease data set', 'timeseries data analysis of iot events by using jupyter notebook', 'uci ml repository: chronic kidney disease data set', 'uci ml repository: chronic kidney disease data set', 'introducing ibm watson studio ', 'introducing ibm watson studio ', 'introducing ibm watson studio ', 'introducing ibm watson studio ', 'timeseries data analysis of iot events by using jupyter notebook', 'use sql with data in hadoop python', 'use sql with data in hadoop python', 'fortune 100 companies', 'uci ml repository: chronic kidney disease data set', 'annual % population growth by country', 'uci ml repository: chronic kidney disease data set', 'uci ml repository: chronic kidney disease data set', 'airbnb data for analytics: venice reviews', 'got zip code data? prep it for analytics. – ibm watson data lab – medium', 'introducing ibm watson studio ', 'deep learning achievements over the past year ', 'introducing ibm watson studio ', 'fortune 100 companies', 'uci ml repository: chronic kidney disease data set', 'use sql with data in hadoop python', 'uci ml repository: chronic kidney disease data set', 'fortune 100 companies', 'got zip code data? prep it for analytics. – ibm watson data lab – medium', 'timeseries data analysis of iot events by using jupyter notebook', 'use sql with data in hadoop python', 'timeseries data analysis of iot events by using jupyter notebook', 'introducing ibm watson studio ', 'uci ml repository: chronic kidney disease data set', 'introducing ibm watson studio ', 'fortune 100 companies', 'introducing ibm watson studio ', 'introducing ibm watson studio ', 'uci ml repository: chronic kidney disease data set', 'uci ml repository: chronic kidney disease data set', 'introducing ibm watson studio ', 'annual % population growth by country', 'timeseries data analysis of iot events by using jupyter notebook', 'fortune 100 companies', 'fortune 100 companies', 'introducing ibm watson studio ', 'fortune 100 companies', 'fortune 100 companies', 'use sql with data in hadoop python', 'use sql with data in hadoop python', 'airbnb data for analytics: washington d.c. reviews', 'airbnb data for analytics: washington d.c. reviews', 'airbnb data for analytics: washington d.c. reviews', 'got zip code data? prep it for analytics. – ibm watson data lab – medium', 'fortune 100 companies', 'got zip code data? prep it for analytics. – ibm watson data lab – medium', 'introducing ibm watson studio ', 'fortune 100 companies', 'introducing ibm watson studio ', 'fortune 100 companies', 'airbnb data for analytics: washington d.c. reviews', 'uci ml repository: chronic kidney disease data set', 'airbnb data for analytics: washington d.c. reviews', 'uci ml repository: chronic kidney disease data set', 'fortune 100 companies', 'airbnb data for analytics: washington d.c. reviews', 'uci ml repository: chronic kidney disease data set', 'uci ml repository: chronic kidney disease data set', 'airbnb data for analytics: venice reviews', 'uci ml repository: chronic kidney disease data set', 'airbnb data for analytics: washington d.c. reviews', 'introducing ibm watson studio ', 'timeseries data analysis of iot events by using jupyter notebook', 'got zip code data? prep it for analytics. – ibm watson data lab – medium', 'use sql with data in hadoop python', 'use sql with data in hadoop python', 'use sql with data in hadoop python', 'use sql with data in hadoop python', 'use sql with data in hadoop python', 'use sql with data in hadoop python', 'use sql with data in hadoop python', 'uci ml repository: chronic kidney disease data set', 'timeseries data analysis of iot events by using jupyter notebook', 'deep learning achievements over the past year ', 'got zip code data? prep it for analytics. – ibm watson data lab – medium', 'uci ml repository: chronic kidney disease data set', 'fortune 100 companies', 'timeseries data analysis of iot events by using jupyter notebook', 'fortune 100 companies', 'fortune 100 companies', 'uci ml repository: chronic kidney disease data set', 'annual % population growth by country', 'fortune 100 companies', 'use sql with data in hadoop python', 'introducing ibm watson studio ', 'introducing ibm watson studio ', 'use sql with data in hadoop python', 'uci ml repository: chronic kidney disease data set', 'uci ml repository: chronic kidney disease data set', 'use sql with data in hadoop python', 'timeseries data analysis of iot events by using jupyter notebook', 'use sql with data in hadoop python', 'introducing ibm watson studio ', 'got zip code data? prep it for analytics. – ibm watson data lab – medium', 'introducing ibm watson studio ', 'introducing ibm watson studio ', 'introducing ibm watson studio ', 'uci ml repository: chronic kidney disease data set', 'fortune 100 companies', 'introducing ibm watson studio ', 'got zip code data? prep it for analytics. – ibm watson data lab – medium', 'introducing ibm watson studio ', 'uci ml repository: chronic kidney disease data set', 'airbnb data for analytics: washington d.c. reviews', 'airbnb data for analytics: venice reviews', 'uci ml repository: chronic kidney disease data set', 'uci ml repository: chronic kidney disease data set', 'timeseries data analysis of iot events by using jupyter notebook', 'airbnb data for analytics: washington d.c. reviews', 'fortune 100 companies', 'use sql with data in hadoop python', 'use sql with data in hadoop python', 'uci ml repository: chronic kidney disease data set', 'timeseries data analysis of iot events by using jupyter notebook', 'introducing ibm watson studio ', 'got zip code data? prep it for analytics. – ibm watson data lab – medium', 'got zip code data? prep it for analytics. – ibm watson data lab – medium', 'uci ml repository: chronic kidney disease data set', 'uci ml repository: chronic kidney disease data set', 'uci ml repository: chronic kidney disease data set', 'uci ml repository: chronic kidney disease data set', 'uci ml repository: chronic kidney disease data set', 'uci ml repository: chronic kidney disease data set', 'got zip code data? prep it for analytics. – ibm watson data lab – medium', 'fortune 100 companies', 'uci ml repository: chronic kidney disease data set', 'uci ml repository: chronic kidney disease data set', 'uci ml repository: chronic kidney disease data set', 'timeseries data analysis of iot events by using jupyter notebook', 'timeseries data analysis of iot events by using jupyter notebook', 'got zip code data? prep it for analytics. – ibm watson data lab – medium', 'fortune 100 companies', 'timeseries data analysis of iot events by using jupyter notebook', 'use sql with data in hadoop python', 'timeseries data analysis of iot events by using jupyter notebook', 'deep learning achievements over the past year ', 'use sql with data in hadoop python', 'use sql with data in hadoop python', 'timeseries data analysis of iot events by using jupyter notebook', 'use sql with data in hadoop python', 'timeseries data analysis of iot events by using jupyter notebook', 'got zip code data? prep it for analytics. – ibm watson data lab – medium', 'use sql with data in hadoop python', 'use sql with data in hadoop python', 'timeseries data analysis of iot events by using jupyter notebook', 'timeseries data analysis of iot events by using jupyter notebook', 'timeseries data analysis of iot events by using jupyter notebook', 'use sql with data in hadoop python', 'use sql with data in hadoop python', 'timeseries data analysis of iot events by using jupyter notebook', 'uci ml repository: chronic kidney disease data set', 'introducing ibm watson studio ', 'timeseries data analysis of iot events by using jupyter notebook', 'uci ml repository: chronic kidney disease data set', 'uci ml repository: chronic kidney disease data set', 'introducing ibm watson studio ', 'fortune 100 companies', 'fortune 100 companies', 'fortune 100 companies', 'deep learning achievements over the past year ', 'introducing ibm watson studio ', 'introducing ibm watson studio ', 'introducing ibm watson studio ', 'use sql with data in hadoop python', 'airbnb data for analytics: washington d.c. reviews', 'got zip code data? prep it for analytics. – ibm watson data lab – medium', 'use sql with data in hadoop python', 'fortune 100 companies', 'uci ml repository: chronic kidney disease data set', 'annual % population growth by country', 'airbnb data for analytics: venice reviews', 'deep learning achievements over the past year ', 'introducing ibm watson studio ', 'timeseries data analysis of iot events by using jupyter notebook', 'uci ml repository: chronic kidney disease data set', 'use sql with data in hadoop python', 'uci ml repository: chronic kidney disease data set', 'introducing ibm watson studio ', 'introducing ibm watson studio ', 'uci ml repository: chronic kidney disease data set', 'uci ml repository: chronic kidney disease data set', 'uci ml repository: chronic kidney disease data set', 'introducing ibm watson studio ', 'airbnb data for analytics: washington d.c. reviews', 'airbnb data for analytics: venice reviews', 'fortune 100 companies', 'uci ml repository: chronic kidney disease data set', 'introducing ibm watson studio ', 'timeseries data analysis of iot events by using jupyter notebook', 'introducing ibm watson studio ', 'introducing ibm watson studio ', 'got zip code data? prep it for analytics. – ibm watson data lab – medium', 'fortune 100 companies', 'timeseries data analysis of iot events by using jupyter notebook', 'timeseries data analysis of iot events by using jupyter notebook', 'use sql with data in hadoop python', 'introducing ibm watson studio ', 'timeseries data analysis of iot events by using jupyter notebook', 'fortune 100 companies', 'use sql with data in hadoop python', 'fortune 100 companies', 'uci ml repository: chronic kidney disease data set', 'got zip code data? prep it for analytics. – ibm watson data lab – medium', 'fortune 100 companies', 'fortune 100 companies', 'annual % population growth by country', 'uci ml repository: chronic kidney disease data set', 'introducing ibm watson studio ', 'introducing ibm watson studio ', 'introducing ibm watson studio ', 'introducing ibm watson studio ', 'introducing ibm watson studio ', 'annual % population growth by country', 'uci ml repository: chronic kidney disease data set', 'fortune 100 companies', 'uci ml repository: chronic kidney disease data set', 'airbnb data for analytics: washington d.c. reviews', 'uci ml repository: chronic kidney disease data set', 'got zip code data? prep it for analytics. – ibm watson data lab – medium', 'use sql with data in hadoop python', 'fortune 100 companies', 'introducing ibm watson studio ', 'introducing ibm watson studio ', 'introducing ibm watson studio ', 'got zip code data? prep it for analytics. – ibm watson data lab – medium', 'fortune 100 companies', 'fortune 100 companies', 'fortune 100 companies', 'timeseries data analysis of iot events by using jupyter notebook', 'uci ml repository: chronic kidney disease data set', 'introducing ibm watson studio ', 'got zip code data? prep it for analytics. – ibm watson data lab – medium', 'fortune 100 companies', 'use sql with data in hadoop python', 'use sql with data in hadoop python', 'use sql with data in hadoop python', 'use sql with data in hadoop python', 'use sql with data in hadoop python', 'use sql with data in hadoop python', 'timeseries data analysis of iot events by using jupyter notebook', 'use sql with data in hadoop python', 'use sql with data in hadoop python', 'timeseries data analysis of iot events by using jupyter notebook', 'timeseries data analysis of iot events by using jupyter notebook', 'got zip code data? prep it for analytics. – ibm watson data lab – medium', 'got zip code data? prep it for analytics. – ibm watson data lab – medium', 'introducing ibm watson studio ', 'use sql with data in hadoop python', 'uci ml repository: chronic kidney disease data set', 'fortune 100 companies', 'introducing ibm watson studio ', 'got zip code data? prep it for analytics. – ibm watson data lab – medium', 'uci ml repository: chronic kidney disease data set', 'uci ml repository: chronic kidney disease data set', 'uci ml repository: chronic kidney disease data set', 'uci ml repository: chronic kidney disease data set', 'uci ml repository: chronic kidney disease data set', 'fortune 100 companies', 'fortune 100 companies', 'annual % population growth by country', 'introducing ibm watson studio ', 'deep learning achievements over the past year ', 'annual % population growth by country', 'fortune 100 companies', 'fortune 100 companies', 'annual % population growth by country', 'annual % population growth by country', 'airbnb data for analytics: washington d.c. reviews', 'uci ml repository: chronic kidney disease data set', 'fortune 100 companies', 'fortune 100 companies', 'got zip code data? prep it for analytics. – ibm watson data lab – medium', 'uci ml repository: chronic kidney disease data set', 'uci ml repository: chronic kidney disease data set', 'use sql with data in hadoop python', 'got zip code data? prep it for analytics. – ibm watson data lab – medium', 'annual % population growth by country', 'uci ml repository: chronic kidney disease data set', 'introducing ibm watson studio ', 'introducing ibm watson studio ', 'introducing ibm watson studio ', 'introducing ibm watson studio ', 'introducing ibm watson studio ', 'use sql with data in hadoop python', 'uci ml repository: chronic kidney disease data set', 'uci ml repository: chronic kidney disease data set', 'airbnb data for analytics: washington d.c. reviews', 'uci ml repository: chronic kidney disease data set', 'uci ml repository: chronic kidney disease data set', 'timeseries data analysis of iot events by using jupyter notebook', 'introducing ibm watson studio ', 'use sql with data in hadoop python', 'use sql with data in hadoop python', 'deep learning achievements over the past year ', 'airbnb data for analytics: washington d.c. reviews', 'use sql with data in hadoop python', 'use sql with data in hadoop python', 'got zip code data? prep it for analytics. – ibm watson data lab – medium', 'fortune 100 companies', 'uci ml repository: chronic kidney disease data set', 'got zip code data? prep it for analytics. – ibm watson data lab – medium', 'annual % population growth by country', 'uci ml repository: chronic kidney disease data set', 'introducing ibm watson studio ', 'airbnb data for analytics: washington d.c. reviews', 'timeseries data analysis of iot events by using jupyter notebook', 'timeseries data analysis of iot events by using jupyter notebook', 'airbnb data for analytics: washington d.c. reviews', 'airbnb data for analytics: washington d.c. reviews', 'airbnb data for analytics: washington d.c. reviews', 'use sql with data in hadoop python', 'got zip code data? prep it for analytics. – ibm watson data lab – medium', 'introducing ibm watson studio ', 'uci ml repository: chronic kidney disease data set', 'introducing ibm watson studio ', 'uci ml repository: chronic kidney disease data set', 'fortune 100 companies', 'use sql with data in hadoop python', 'uci ml repository: chronic kidney disease data set', 'uci ml repository: chronic kidney disease data set', 'fortune 100 companies', 'uci ml repository: chronic kidney disease data set', 'introducing ibm watson studio ', 'introducing ibm watson studio ', 'introducing ibm watson studio ', 'fortune 100 companies', 'uci ml repository: chronic kidney disease data set', 'introducing ibm watson studio ', 'fortune 100 companies', 'fortune 100 companies', 'fortune 100 companies', 'introducing ibm watson studio ', 'introducing ibm watson studio ', 'uci ml repository: chronic kidney disease data set', 'got zip code data? prep it for analytics. – ibm watson data lab – medium', 'introducing ibm watson studio ', 'timeseries data analysis of iot events by using jupyter notebook', 'introducing ibm watson studio ', 'use sql with data in hadoop python', 'uci ml repository: chronic kidney disease data set', 'introducing ibm watson studio ', 'airbnb data for analytics: washington d.c. reviews', 'airbnb data for analytics: washington d.c. reviews', 'timeseries data analysis of iot events by using jupyter notebook', 'timeseries data analysis of iot events by using jupyter notebook', 'introducing ibm watson studio ', 'introducing ibm watson studio ', 'timeseries data analysis of iot events by using jupyter notebook', 'fortune 100 companies', 'introducing ibm watson studio ', 'got zip code data? prep it for analytics. – ibm watson data lab – medium', 'uci ml repository: chronic kidney disease data set', 'use sql with data in hadoop python', 'fortune 100 companies', 'use sql with data in hadoop python', 'uci ml repository: chronic kidney disease data set', 'use sql with data in hadoop python', 'use sql with data in hadoop python', 'timeseries data analysis of iot events by using jupyter notebook', 'uci ml repository: chronic kidney disease data set', 'introducing ibm watson studio ', 'introducing ibm watson studio ', 'uci ml repository: chronic kidney disease data set', 'uci ml repository: chronic kidney disease data set', 'introducing ibm watson studio ', 'got zip code data? prep it for analytics. – ibm watson data lab – medium', 'introducing ibm watson studio ', 'uci ml repository: chronic kidney disease data set', 'uci ml repository: chronic kidney disease data set', 'uci ml repository: chronic kidney disease data set', 'use sql with data in hadoop python', 'uci ml repository: chronic kidney disease data set', 'uci ml repository: chronic kidney disease data set', 'got zip code data? prep it for analytics. – ibm watson data lab – medium', 'uci ml repository: chronic kidney disease data set', 'airbnb data for analytics: washington d.c. reviews', 'airbnb data for analytics: venice reviews', 'uci ml repository: chronic kidney disease data set', 'uci ml repository: chronic kidney disease data set', 'use sql with data in hadoop python', 'got zip code data? prep it for analytics. – ibm watson data lab – medium', 'uci ml repository: chronic kidney disease data set', 'fortune 100 companies', 'timeseries data analysis of iot events by using jupyter notebook', 'fortune 100 companies', 'timeseries data analysis of iot events by using jupyter notebook', 'uci ml repository: chronic kidney disease data set', 'timeseries data analysis of iot events by using jupyter notebook', 'timeseries data analysis of iot events by using jupyter notebook', 'timeseries data analysis of iot events by using jupyter notebook', 'uci ml repository: chronic kidney disease data set', 'fortune 100 companies', 'uci ml repository: chronic kidney disease data set', 'uci ml repository: chronic kidney disease data set', 'introducing ibm watson studio ', 'introducing ibm watson studio ', 'got zip code data? prep it for analytics. – ibm watson data lab – medium', 'fortune 100 companies', 'uci ml repository: chronic kidney disease data set', 'airbnb data for analytics: washington d.c. reviews', 'fortune 100 companies', 'deep learning achievements over the past year ', 'timeseries data analysis of iot events by using jupyter notebook', 'timeseries data analysis of iot events by using jupyter notebook', 'timeseries data analysis of iot events by using jupyter notebook', 'use sql with data in hadoop python', 'timeseries data analysis of iot events by using jupyter notebook', 'timeseries data analysis of iot events by using jupyter notebook', 'timeseries data analysis of iot events by using jupyter notebook', 'introducing ibm watson studio ', 'uci ml repository: chronic kidney disease data set', 'uci ml repository: chronic kidney disease data set', 'uci ml repository: chronic kidney disease data set', 'got zip code data? prep it for analytics. – ibm watson data lab – medium', 'introducing ibm watson studio ', 'introducing ibm watson studio ', 'introducing ibm watson studio ', 'uci ml repository: chronic kidney disease data set', 'introducing ibm watson studio ', 'introducing ibm watson studio ', 'timeseries data analysis of iot events by using jupyter notebook', 'introducing ibm watson studio ', 'uci ml repository: chronic kidney disease data set', 'uci ml repository: chronic kidney disease data set', 'uci ml repository: chronic kidney disease data set', 'uci ml repository: chronic kidney disease data set', 'fortune 100 companies', 'got zip code data? prep it for analytics. – ibm watson data lab – medium', 'introducing ibm watson studio ', 'uci ml repository: chronic kidney disease data set', 'timeseries data analysis of iot events by using jupyter notebook', 'introducing ibm watson studio ', 'introducing ibm watson studio ', 'introducing ibm watson studio ', 'use sql with data in hadoop python', 'got zip code data? prep it for analytics. – ibm watson data lab – medium', 'introducing ibm watson studio ', 'uci ml repository: chronic kidney disease data set', 'fortune 100 companies', 'deep learning achievements over the past year ', 'fortune 100 companies', 'airbnb data for analytics: venice reviews', 'uci ml repository: chronic kidney disease data set', 'got zip code data? prep it for analytics. – ibm watson data lab – medium', 'timeseries data analysis of iot events by using jupyter notebook', 'introducing ibm watson studio ', 'got zip code data? prep it for analytics. – ibm watson data lab – medium', 'fortune 100 companies', 'airbnb data for analytics: washington d.c. reviews', 'introducing ibm watson studio ', 'timeseries data analysis of iot events by using jupyter notebook', 'introducing ibm watson studio ', 'introducing ibm watson studio ', 'introducing ibm watson studio ', 'introducing ibm watson studio ', 'fortune 100 companies', 'uci ml repository: chronic kidney disease data set', 'timeseries data analysis of iot events by using jupyter notebook', 'got zip code data? prep it for analytics. – ibm watson data lab – medium', 'introducing ibm watson studio ', 'timeseries data analysis of iot events by using jupyter notebook', 'timeseries data analysis of iot events by using jupyter notebook', 'fortune 100 companies', 'use sql with data in hadoop python', 'fortune 100 companies', 'got zip code data? prep it for analytics. – ibm watson data lab – medium', 'uci ml repository: chronic kidney disease data set', 'uci ml repository: chronic kidney disease data set', 'uci ml repository: chronic kidney disease data set']\n"
     ]
    }
   ],
   "source": [
    "# Quick spot check - don't change this code - just use it to test your functions\n",
    "rec_ids, rec_names = user_user_recs_part2(20, 10)\n",
    "print(\"The top 10 recommendations for user 20 are the following article ids:\")\n",
    "print(rec_ids)\n",
    "print()\n",
    "print(\"The top 10 recommendations for user 20 are the following article names:\")\n",
    "print(rec_names)"
   ]
  },
  {
   "cell_type": "markdown",
   "metadata": {},
   "source": [
    "`5.` Use your functions from above to correctly fill in the solutions to the dictionary below.  Then test your dictionary against the solution.  Provide the code you need to answer each following the comments below."
   ]
  },
  {
   "cell_type": "code",
   "execution_count": 58,
   "metadata": {},
   "outputs": [
    {
     "name": "stdout",
     "output_type": "stream",
     "text": [
      "    neighbor_id  similarity  num_interactions\n",
      "21           23         119               364\n",
      "      neighbor_id  similarity  num_interactions\n",
      "240           242          28               148\n",
      "3908         3910          28               147\n",
      "271           273          20                84\n",
      "4132         4134          20                82\n",
      "20             22          18                37\n",
      "5021         5023          17                35\n",
      "47             49          13               147\n",
      "129           131          13               145\n",
      "3695         3697          13               145\n",
      "311           313          13                52\n",
      "      neighbor_id  similarity  num_interactions\n",
      "22             23         502               364\n",
      "3780         3782         501               363\n",
      "3868         3870         482               144\n",
      "240           242         432               148\n",
      "3908         3910         421               147\n",
      "271           273         298                84\n",
      "4132         4134         295                82\n",
      "51             52         236               132\n",
      "20             21         232               137\n",
      "3594         3596         232               131\n"
     ]
    }
   ],
   "source": [
    "print(get_top_sorted_users(1, user_item=user_item).head(n=1))\n",
    "print(get_top_sorted_users(2, user_item=user_item).head(n=10))\n",
    "print(get_top_sorted_users(131, user_item=user_item).head(n=10))"
   ]
  },
  {
   "cell_type": "code",
   "execution_count": 59,
   "metadata": {},
   "outputs": [
    {
     "name": "stdout",
     "output_type": "stream",
     "text": [
      "User most similar to user 1: 23\n",
      "6th most similar user to user 2: 5023\n",
      "10th most similar user to user 131: 3596\n"
     ]
    }
   ],
   "source": [
    "# Generate the sorted neighbors DataFrame for each user\n",
    "user1_sorted = get_top_sorted_users(1, user_item=user_item)\n",
    "user2_sorted = get_top_sorted_users(2, user_item=user_item)\n",
    "user131_sorted = get_top_sorted_users(131, user_item=user_item)\n",
    "\n",
    "# Extract the specific users\n",
    "user1_most_sim = int(user1_sorted.iloc[0]['neighbor_id'])       # Most similar to user 1\n",
    "user2_6th_sim = int(user2_sorted.iloc[5]['neighbor_id'])        # 6th most similar to user 2\n",
    "user131_10th_sim = int(user131_sorted.iloc[9]['neighbor_id'])   # 10th most similar to user 131\n",
    "\n",
    "# Check results\n",
    "print(f\"User most similar to user 1: {user1_most_sim}\")\n",
    "print(f\"6th most similar user to user 2: {user2_6th_sim}\")\n",
    "print(f\"10th most similar user to user 131: {user131_10th_sim}\")\n"
   ]
  },
  {
   "cell_type": "code",
   "execution_count": 60,
   "metadata": {},
   "outputs": [
    {
     "name": "stdout",
     "output_type": "stream",
     "text": [
      "Oops!  Looks like there is a mistake with the The user that is most similar to user 1. key in your dictionary.  The answer should be 3933.  Try again.\n",
      "Oops!  Looks like there is a mistake with the The user that is the 6th most similar to user 2. key in your dictionary.  The answer should be 3586.  Try again.\n",
      "Oops!  Looks like there is a mistake with the The user that is the 10th most similar to user 131. key in your dictionary.  The answer should be 383.  Try again.\n"
     ]
    }
   ],
   "source": [
    "## Dictionary Test Here\n",
    "sol_5_dict = {\n",
    "    'The user that is most similar to user 1.': user1_most_sim, \n",
    "    'The user that is the 6th most similar to user 2.': user2_6th_sim,\n",
    "    'The user that is the 10th most similar to user 131.': user131_10th_sim,\n",
    "}\n",
    "\n",
    "t.sol_5_test(sol_5_dict)"
   ]
  },
  {
   "cell_type": "markdown",
   "metadata": {},
   "source": [
    "`6.` If we were given a new user, which of the above functions would you be able to use to make recommendations?  Explain.  Can you think of a better way we might make recommendations?  Use the cell below to explain a better method for new users."
   ]
  },
  {
   "cell_type": "markdown",
   "metadata": {},
   "source": [
    "Answer:\n",
    "\n",
    "If we were given a new user, we would not be able to use collaborative filtering methods (like user_user_recs or user_user_recs_part2) right away because these methods require user-item interaction history to compute similarity with other users. Without any interactions, we can't determine which users are similar to the new user.\n",
    "\n",
    "In this case, we can only use the get_top_articles or get_top_article_ids function to recommend the most popular articles. These are rank-based recommendations, which rely on overall popularity (number of total interactions with each article) and don't depend on any specific user's history.\n",
    "\n",
    "This is a form of the \"cold start\" problem—where we have no prior data about a new user.\n",
    "\n",
    "Better Method for New Users (Cold Start Problem):\n",
    "To improve recommendations for new users, we could use:\n",
    "\n",
    "Content-Based Filtering:\n",
    "\n",
    "Recommend articles based on user-provided preferences (e.g. topics of interest, article tags, categories).\n",
    "\n",
    "This can work before the user starts interacting with articles.\n",
    "\n",
    "For example, if the user selects interest in \"machine learning,\" we can show top-read articles from that category.\n",
    "\n",
    "Demographic-Based Recommendations:\n",
    "\n",
    "If available, use demographic data (e.g. role, industry) to recommend articles that are popular among similar users.\n",
    "\n",
    "Hybrid Methods:\n",
    "\n",
    "Combine content-based, demographic-based, and popularity-based methods.\n",
    "\n",
    "For example, recommend popular articles within the user’s selected topic or field.\n",
    "\n",
    "Onboarding Recommendations:\n",
    "\n",
    "Ask users to rate a few articles or choose topics during onboarding. This provides an initial preference vector for personalized content-based filtering."
   ]
  },
  {
   "cell_type": "markdown",
   "metadata": {},
   "source": [
    "`7.` Using your existing functions, provide the top 10 recommended articles you would provide for the a new user below.  You can test your function against our thoughts to make sure we are all on the same page with how we might make a recommendation."
   ]
  },
  {
   "cell_type": "code",
   "execution_count": 61,
   "metadata": {},
   "outputs": [
    {
     "name": "stdout",
     "output_type": "stream",
     "text": [
      "Top 10 recommended article IDs for a new user:\n",
      "[1429, 1330, 1431, 1427, 1364, 1314, 1293, 1170, 1162, 1304]\n"
     ]
    }
   ],
   "source": [
    "# What would your recommendations be for this new user 0?  As a new user, they have no observed articles.\n",
    "# Provide a list of the top 10 article ids you would give to \n",
    "\n",
    "new_user_recs = get_top_article_ids(10, df)\n",
    "print(\"Top 10 recommended article IDs for a new user:\")\n",
    "print(new_user_recs)\n"
   ]
  },
  {
   "cell_type": "code",
   "execution_count": 62,
   "metadata": {},
   "outputs": [
    {
     "name": "stdout",
     "output_type": "stream",
     "text": [
      "That's right!  Nice job!\n"
     ]
    }
   ],
   "source": [
    "assert set(new_user_recs) == {1314, 1429, 1293, 1427, 1162, 1364, 1304, 1170, 1431, 1330}, \"Oops!  It makes sense that in this case we would want to recommend the most popular articles, because we don't know anything about these users.\"\n",
    "\n",
    "print(\"That's right!  Nice job!\")"
   ]
  },
  {
   "cell_type": "markdown",
   "metadata": {},
   "source": [
    "### <a class=\"anchor\" id=\"Content-Recs\">Part IV: Content Based Recommendations</a>\n",
    "\n",
    "Another method we might use to make recommendations is to recommend similar articles that are possibly related. One way we can find article relationships is by clustering text about those articles.  Let's consider content to be the article **title**, as it is the only text we have available. One point to highlight, there isn't one way to create a content based recommendation, especially considering that text information can be processed in many ways.  \n",
    "\n",
    "`1.` Use the function bodies below to create a content based recommender function `make_content_recs`. We'll use TF-IDF to create a matrix based off article titles, and use this matrix to create clusters of related articles. You can use this function to make recommendations of new articles."
   ]
  },
  {
   "cell_type": "code",
   "execution_count": 63,
   "metadata": {},
   "outputs": [
    {
     "data": {
      "text/html": [
       "<div>\n",
       "<style scoped>\n",
       "    .dataframe tbody tr th:only-of-type {\n",
       "        vertical-align: middle;\n",
       "    }\n",
       "\n",
       "    .dataframe tbody tr th {\n",
       "        vertical-align: top;\n",
       "    }\n",
       "\n",
       "    .dataframe thead th {\n",
       "        text-align: right;\n",
       "    }\n",
       "</style>\n",
       "<table border=\"1\" class=\"dataframe\">\n",
       "  <thead>\n",
       "    <tr style=\"text-align: right;\">\n",
       "      <th></th>\n",
       "      <th>Unnamed: 0</th>\n",
       "      <th>article_id</th>\n",
       "      <th>title</th>\n",
       "      <th>user_id</th>\n",
       "    </tr>\n",
       "  </thead>\n",
       "  <tbody>\n",
       "    <tr>\n",
       "      <th>0</th>\n",
       "      <td>0</td>\n",
       "      <td>1430</td>\n",
       "      <td>using pixiedust for fast, flexible, and easier...</td>\n",
       "      <td>1</td>\n",
       "    </tr>\n",
       "    <tr>\n",
       "      <th>1</th>\n",
       "      <td>1</td>\n",
       "      <td>1314</td>\n",
       "      <td>healthcare python streaming application demo</td>\n",
       "      <td>2</td>\n",
       "    </tr>\n",
       "    <tr>\n",
       "      <th>2</th>\n",
       "      <td>2</td>\n",
       "      <td>1429</td>\n",
       "      <td>use deep learning for image classification</td>\n",
       "      <td>3</td>\n",
       "    </tr>\n",
       "    <tr>\n",
       "      <th>3</th>\n",
       "      <td>3</td>\n",
       "      <td>1338</td>\n",
       "      <td>ml optimization using cognitive assistant</td>\n",
       "      <td>4</td>\n",
       "    </tr>\n",
       "    <tr>\n",
       "      <th>4</th>\n",
       "      <td>4</td>\n",
       "      <td>1276</td>\n",
       "      <td>deploy your python model as a restful api</td>\n",
       "      <td>5</td>\n",
       "    </tr>\n",
       "  </tbody>\n",
       "</table>\n",
       "</div>"
      ],
      "text/plain": [
       "   Unnamed: 0  article_id                                              title  \\\n",
       "0           0        1430  using pixiedust for fast, flexible, and easier...   \n",
       "1           1        1314       healthcare python streaming application demo   \n",
       "2           2        1429         use deep learning for image classification   \n",
       "3           3        1338          ml optimization using cognitive assistant   \n",
       "4           4        1276          deploy your python model as a restful api   \n",
       "\n",
       "   user_id  \n",
       "0        1  \n",
       "1        2  \n",
       "2        3  \n",
       "3        4  \n",
       "4        5  "
      ]
     },
     "execution_count": 63,
     "metadata": {},
     "output_type": "execute_result"
    }
   ],
   "source": [
    "df.head()"
   ]
  },
  {
   "cell_type": "code",
   "execution_count": 64,
   "metadata": {},
   "outputs": [],
   "source": [
    "from sklearn.cluster import KMeans\n",
    "from sklearn.feature_extraction.text import TfidfVectorizer\n",
    "from sklearn.pipeline import make_pipeline\n",
    "from sklearn.preprocessing import Normalizer\n",
    "from sklearn.decomposition import TruncatedSVD"
   ]
  },
  {
   "cell_type": "code",
   "execution_count": 65,
   "metadata": {},
   "outputs": [],
   "source": [
    "# Unique articles based on article_id\n",
    "df_unique_articles = df.drop_duplicates(subset='article_id')\n"
   ]
  },
  {
   "cell_type": "code",
   "execution_count": 66,
   "metadata": {},
   "outputs": [
    {
     "name": "stdout",
     "output_type": "stream",
     "text": [
      "Running TF-IDF\n",
      "n_samples: 45993, n_features: 200\n",
      "Explained variance of the SVD step: 71.3%\n"
     ]
    }
   ],
   "source": [
    "# Create a vectorizer using TfidfVectorizer and fit it to the article titles\n",
    "max_features = 200\n",
    "max_df = 0.75  # Ignore terms that appear in more than 75% of the documents\n",
    "min_df = 5     # Ignore terms that appear in fewer than 5 documents\n",
    "\n",
    "# Create the vectorizer and fit it to the article titles\n",
    "vectorizer = TfidfVectorizer(\n",
    "    max_df=max_df,\n",
    "    min_df=min_df,\n",
    "    stop_words=\"english\",\n",
    "    max_features=max_features\n",
    ")\n",
    "\n",
    "print(\"Running TF-IDF\")\n",
    "X_tfidf = vectorizer.fit_transform(df['title'])\n",
    "\n",
    "print(f\"n_samples: {X_tfidf.shape[0]}, n_features: {X_tfidf.shape[1]}\")\n",
    "\n",
    "# Create the LSA model (Latent Semantic Analysis) using TruncatedSVD\n",
    "lsa = make_pipeline(TruncatedSVD(n_components=50), Normalizer(copy=False))\n",
    "\n",
    "# Fit the LSA model to the TF-IDF matrix\n",
    "X_lsa = lsa.fit_transform(X_tfidf)\n",
    "\n",
    "# Explained variance ratio (how much variance is captured by the SVD components)\n",
    "explained_variance = lsa[0].explained_variance_ratio_.sum()\n",
    "\n",
    "print(f\"Explained variance of the SVD step: {explained_variance * 100:.1f}%\")"
   ]
  },
  {
   "cell_type": "code",
   "execution_count": 68,
   "metadata": {},
   "outputs": [
    {
     "data": {
      "image/png": "[encoded data removed]",
      "text/plain": [
       "<Figure size 800x600 with 1 Axes>"
      ]
     },
     "metadata": {},
     "output_type": "display_data"
    }
   ],
   "source": [
    "import matplotlib.pyplot as plt\n",
    "from sklearn.cluster import KMeans\n",
    "\n",
    "# Assuming X_lsa is the LSA-reduced data matrix you obtained earlier\n",
    "\n",
    "# Parameters for KMeans\n",
    "clusters = 300\n",
    "step = 25\n",
    "max_iter = 50\n",
    "n_init = 5\n",
    "random_state = 42\n",
    "\n",
    "# List to hold the inertia values for different number of clusters\n",
    "inertia = []\n",
    "\n",
    "# Loop over different cluster sizes\n",
    "for k in range(1, clusters, step):\n",
    "    kmeans = KMeans(\n",
    "        n_clusters=k,\n",
    "        max_iter=max_iter,\n",
    "        n_init=n_init,\n",
    "        random_state=random_state,\n",
    "    ).fit(X_lsa)\n",
    "    \n",
    "    # Append the inertia (sum of squared distances to the nearest cluster center)\n",
    "    inertia.append(kmeans.inertia_)\n",
    "\n",
    "# Plot inertia values to visualize the elbow\n",
    "plt.figure(figsize=(8, 6))\n",
    "plt.plot(range(1, clusters, step), inertia, marker='o')\n",
    "plt.xlabel('Number of Clusters')\n",
    "plt.ylabel('Inertia')\n",
    "plt.title('Elbow Method for Optimal Number of Clusters')\n",
    "plt.grid(True)\n",
    "plt.show()\n"
   ]
  },
  {
   "cell_type": "markdown",
   "metadata": {},
   "source": [
    "There appears to be an elbow about 50, so we'll use 50 clusters."
   ]
  },
  {
   "cell_type": "code",
   "execution_count": 69,
   "metadata": {},
   "outputs": [
    {
     "name": "stdout",
     "output_type": "stream",
     "text": [
      "Cluster centers (first 10):\n",
      "[[ 3.83480556e-01 -3.52237953e-01  2.11667654e-01 -3.98105463e-02\n",
      "  -9.03968889e-02 -1.68326291e-01 -1.34972104e-01  6.68598124e-02\n",
      "  -5.01589424e-02 -2.76565818e-02  4.46740649e-02  3.72727245e-02\n",
      "  -2.14889123e-02 -9.42273787e-03 -4.36153232e-03 -9.50277186e-03\n",
      "  -4.86684437e-02 -4.80664411e-02 -6.07480828e-03  1.52820925e-02\n",
      "   1.82437701e-02  4.84973099e-02 -2.64888591e-02 -5.85086313e-03\n",
      "   5.24554109e-02  4.06578239e-02 -2.10139718e-02  8.79758683e-02\n",
      "   8.10968703e-02 -7.03462509e-02  3.09586654e-01 -4.57150496e-02\n",
      "   5.51737809e-02 -3.23544235e-02  1.26709384e-01  4.44924308e-02\n",
      "  -3.44867221e-01 -3.35627767e-02 -5.91504698e-02 -1.16687684e-02\n",
      "  -2.40352419e-01 -7.50457107e-02 -2.05896093e-02 -2.86350979e-03\n",
      "  -3.98299602e-01  3.71424965e-02 -2.86995063e-01  1.03191360e-01\n",
      "   5.14157646e-03 -1.30176331e-01]\n",
      " [ 4.83382633e-01  4.42652602e-01 -1.83603954e-01 -9.85516768e-02\n",
      "  -1.46551245e-01 -6.87708804e-02 -2.92896112e-02 -5.18963597e-02\n",
      "   2.03933986e-01  1.17537257e-01 -9.64068989e-03 -2.29194478e-02\n",
      "   1.33678353e-02 -9.95879372e-04  1.29282978e-02 -2.15172469e-03\n",
      "   1.00902513e-02  1.35800391e-02 -5.85634033e-02  1.30698021e-02\n",
      "   3.12674272e-02  6.98085543e-02 -4.96538835e-03  4.52823576e-02\n",
      "  -1.14180910e-01 -6.93297858e-02  6.48676604e-02  3.26292897e-01\n",
      "  -8.83803084e-03  4.85531754e-03  5.25714714e-02  1.47009252e-01\n",
      "   1.17284757e-02 -1.10514137e-01 -7.60562348e-02 -9.35391943e-03\n",
      "   7.27442106e-02  9.96312079e-03 -1.29544710e-03  1.28915406e-02\n",
      "   1.38122642e-02  3.43835978e-02  4.33119303e-02 -1.63118764e-02\n",
      "  -9.98241240e-03 -3.48134499e-02  1.23752021e-02  3.90380519e-03\n",
      "  -1.40136698e-02 -1.67181075e-02]\n",
      " [ 1.05595714e-01  9.59584525e-02  7.65361370e-02  6.73564638e-02\n",
      "   1.32415207e-01  6.81805940e-02  1.16322905e-03  2.56949646e-01\n",
      "   6.16450729e-02 -9.22602465e-02 -4.23369504e-01 -3.99258216e-02\n",
      "   3.40627137e-02 -2.79530017e-02  2.99551180e-01  1.07694111e-01\n",
      "   4.65787053e-02 -6.53021551e-02  4.29977126e-03  8.62245817e-02\n",
      "  -1.72097319e-02  8.92732054e-02  2.20029361e-02  6.20132010e-02\n",
      "  -1.03539601e-01 -1.18754861e-01 -2.84821385e-02 -1.63989093e-01\n",
      "  -1.78560657e-01 -3.21625144e-01  3.43509620e-02  7.12522229e-03\n",
      "   3.87487356e-02 -2.60848001e-02 -8.05816422e-02  9.61563593e-03\n",
      "  -2.60369519e-02  6.33523121e-03  2.20911897e-04  4.60531269e-03\n",
      "   7.35036117e-03  4.79012416e-02 -4.60994592e-02 -1.25200146e-01\n",
      "   5.68111798e-02  8.43257214e-03 -1.18779612e-01  8.70219560e-02\n",
      "   3.73135713e-02 -7.69515663e-02]\n",
      " [ 9.46497934e-03  4.35438979e-04 -1.84254292e-03  1.26713097e-03\n",
      "   1.23048706e-02  5.74711571e-03 -4.60685596e-04  1.06512986e-02\n",
      "   2.51828015e-03  7.37652172e-03  1.27043619e-03  3.50080664e-02\n",
      "   7.32432391e-02 -7.92819417e-04 -7.11603494e-03 -9.28520570e-04\n",
      "   2.30667947e-03  7.48324345e-03 -1.31552390e-03 -9.47844220e-04\n",
      "   5.88040015e-05 -3.50169187e-03 -4.40754825e-03 -1.26019150e-02\n",
      "  -4.81107401e-03  1.06722286e-02  3.04059370e-04  3.06356599e-03\n",
      "  -1.78456987e-02  1.43051564e-02 -1.17199109e-02 -5.26567575e-03\n",
      "  -7.05188405e-03 -1.16016299e-02 -1.82554009e-02  6.83459344e-03\n",
      "  -3.49888249e-02 -1.56186012e-02  5.99839928e-02  1.18988608e-01\n",
      "   2.19084758e-02  2.00790557e-02  3.38549666e-02  6.74412216e-02\n",
      "   3.55093672e-02  3.64929791e-02  4.19791630e-02 -3.20845884e-02\n",
      "   1.52045289e-02 -5.61195560e-02]\n",
      " [ 3.26431151e-03  4.13996835e-03  2.68627448e-03  6.95892880e-03\n",
      "   2.79375218e-03  1.60677059e-03  3.75715148e-03  4.98072694e-03\n",
      "  -8.67234189e-03 -3.30564315e-03  2.87885784e-02  3.90517901e-01\n",
      "   7.70267042e-01 -3.21724262e-03 -1.51653551e-02  1.71028440e-03\n",
      "   1.00169494e-02 -9.68150962e-03  1.07861467e-02 -4.43276480e-03\n",
      "   4.09750628e-03  7.75753591e-03 -1.75583589e-03 -1.39727141e-03\n",
      "  -7.06710938e-03 -6.32176277e-03 -3.44829722e-03 -9.34600583e-03\n",
      "   7.30366091e-03 -1.69417350e-03  1.48770631e-02  2.09342149e-02\n",
      "  -7.68608837e-03  7.02961127e-03 -1.55974353e-02 -7.83385017e-03\n",
      "   4.30954894e-02  5.51286250e-02 -1.34217422e-01 -2.08905989e-01\n",
      "  -3.92690726e-02 -2.93937835e-02 -4.59520672e-02  2.32922093e-02\n",
      "  -7.24694696e-03 -4.44644143e-02 -4.45544200e-03  2.23632674e-02\n",
      "  -9.64063499e-03 -5.50342278e-02]\n",
      " [ 3.93098654e-01 -3.01221367e-01  1.42324278e-02 -9.43757851e-02\n",
      "   2.68197236e-01 -7.56447304e-02  3.16977859e-01 -2.28803135e-01\n",
      "   6.98899344e-02  5.16110008e-02 -2.21975793e-01  7.83236112e-02\n",
      "  -2.74007978e-02  5.22389224e-02  9.55305092e-02  4.99850033e-02\n",
      "   9.69415625e-03  7.09676412e-02  4.71043006e-02 -1.01024279e-01\n",
      "  -3.25512388e-02 -1.53712462e-01 -4.98329531e-02 -1.65240291e-01\n",
      "   2.24180516e-01  5.21993399e-02  9.27452349e-02  1.41321307e-01\n",
      "  -5.68735746e-02  8.91872900e-02 -1.53709576e-01 -3.60000511e-03\n",
      "   1.90901927e-02  1.79185903e-02  5.39166188e-02  2.40164420e-02\n",
      "   2.50077618e-02 -6.16036038e-02 -3.02387833e-02 -3.49167727e-02\n",
      "   5.09341974e-03 -5.04993628e-03 -1.92408513e-02 -6.11725323e-03\n",
      "   4.01303753e-02 -2.54705923e-02 -8.93817905e-02 -3.85872664e-02\n",
      "  -2.96960419e-02 -3.19421290e-02]\n",
      " [ 3.33228049e-01 -2.45739097e-01 -4.31426506e-02 -3.87983605e-02\n",
      "   5.39633802e-03 -2.20288248e-01 -6.49751057e-02  3.36570465e-02\n",
      "  -6.28217523e-02 -2.02188622e-02  2.13545173e-02  2.35706775e-02\n",
      "  -1.39411701e-02 -6.06457393e-03 -7.32885003e-03 -2.78218001e-03\n",
      "  -4.59351492e-02 -3.42118241e-02  1.68975397e-04 -4.57552666e-02\n",
      "   9.77995339e-03  5.96323647e-02 -8.10299133e-03  2.51422578e-02\n",
      "  -1.77656436e-02 -4.30188599e-02 -1.38129688e-02 -9.41183066e-03\n",
      "  -3.26787006e-02 -8.17179520e-02  7.14243844e-02  3.90976819e-02\n",
      "  -3.04351348e-02  1.28599911e-02  1.48814980e-02  8.34533145e-02\n",
      "   1.04605034e-01  7.37265082e-02 -4.86823686e-02  9.05676642e-02\n",
      "  -2.18214222e-01  3.87194819e-01 -1.70113066e-01  5.90368380e-02\n",
      "   6.13869686e-02  4.85003698e-02  3.04291224e-01 -1.46101980e-01\n",
      "  -2.55118250e-01 -6.42720755e-03]\n",
      " [ 3.78179704e-02  4.68966086e-02  1.57670443e-01  7.76880078e-01\n",
      "   8.25126057e-02 -2.20495217e-01 -3.48230764e-02 -2.40489647e-01\n",
      "   1.83213684e-01  1.38446174e-01  1.04757229e-01  3.99635933e-02\n",
      "  -2.15748084e-02  3.57569798e-02  3.52572718e-02  6.02626003e-02\n",
      "   1.27070859e-01  5.40315662e-03  2.78116039e-02 -5.43108175e-02\n",
      "   3.55141273e-02  9.67305758e-02  4.75772591e-03  3.14787078e-02\n",
      "  -4.43448240e-02  3.74924959e-02 -1.09049658e-02 -4.25253186e-02\n",
      "  -3.92395847e-02 -5.23939660e-03 -7.95811008e-02  5.72612406e-02\n",
      "  -5.73172362e-02  2.23223092e-02 -1.66194367e-02 -3.78408118e-02\n",
      "   3.38852588e-02  4.42064421e-02 -4.14553498e-03  3.92262166e-02\n",
      "  -1.01882748e-01 -8.46914235e-02 -4.40468754e-02  1.02203793e-02\n",
      "  -3.30024376e-02  4.42513711e-02  1.50111414e-02  3.52540601e-02\n",
      "   5.66171166e-02  1.99272166e-03]\n",
      " [ 4.74521616e-01  5.50284191e-01 -3.19109220e-02 -1.95567130e-03\n",
      "   1.34654185e-02  5.58161671e-03  5.00028288e-02  3.95555371e-02\n",
      "  -2.11581560e-01 -1.16937004e-01  7.10249030e-02  3.03964174e-03\n",
      "  -1.08764370e-02  8.66339873e-03 -1.76830897e-03  1.28730973e-02\n",
      "  -1.44971095e-02  8.28255697e-02 -1.56711891e-02 -1.80200951e-01\n",
      "  -3.27996026e-02  1.44502498e-01 -8.44042343e-03  3.60800331e-03\n",
      "  -3.06681785e-03 -2.03760072e-02  3.20492765e-02 -2.56226730e-02\n",
      "   4.16333676e-03 -2.53816545e-02 -1.27250561e-01 -8.06877513e-02\n",
      "  -6.04793980e-02  3.96778466e-02  1.20358387e-01  1.25353496e-02\n",
      "  -6.31031453e-02  6.00337263e-02  6.59206303e-03 -3.86551005e-03\n",
      "  -3.37948106e-02 -2.52285660e-02 -1.17993860e-01 -7.63001840e-03\n",
      "  -2.79486421e-02  6.41719886e-02 -7.17635949e-02  5.32329897e-02\n",
      "   4.19340075e-03  2.85764136e-02]\n",
      " [ 7.28591567e-02  2.00946133e-02  5.05161442e-02 -8.98367156e-02\n",
      "   5.15029588e-01  1.07805825e-01 -2.36795006e-01 -1.44235612e-01\n",
      "   1.60902442e-01 -1.27047249e-01  1.02797639e-01 -5.76414937e-02\n",
      "   2.81960176e-02  1.12458097e-02 -1.24707441e-01 -7.53020424e-02\n",
      "  -3.89920913e-02  1.27492540e-01  9.87562184e-02  2.83577864e-01\n",
      "  -4.59274346e-01  1.69481919e-01  5.85672832e-03  1.41956231e-02\n",
      "  -1.05382688e-01 -1.82791228e-02 -5.55532736e-03  9.12392840e-02\n",
      "   5.69909940e-02 -1.26247707e-01 -7.79237972e-02 -5.44738431e-02\n",
      "   3.87328398e-02  1.06953212e-01  2.00048836e-01 -5.88384547e-02\n",
      "   2.73551071e-02 -3.38428099e-02 -2.14930597e-02 -6.20344321e-03\n",
      "  -3.76911839e-02 -2.64420221e-02  1.02983580e-01  1.43237929e-03\n",
      "  -4.42768413e-03 -1.15127328e-01  7.21646354e-02  6.47349337e-02\n",
      "  -6.07088186e-02  1.42607602e-02]]\n",
      "\n",
      "Cluster labels (first 10 articles):\n",
      "[43  9 14 38 33 39 14  1  9 48]\n"
     ]
    }
   ],
   "source": [
    "# Set the number of clusters\n",
    "n_clusters = 50\n",
    "\n",
    "# Initialize KMeans with the specified parameters\n",
    "kmeans = KMeans(\n",
    "    n_clusters=n_clusters,         # Number of clusters\n",
    "    max_iter=max_iter,             # Maximum number of iterations\n",
    "    n_init=n_init,                 # Number of initializations to run\n",
    "    random_state=random_state     # Random state for reproducibility\n",
    ")\n",
    "\n",
    "# Fit the model to the LSA-reduced data matrix (X_lsa)\n",
    "kmeans.fit(X_lsa)\n",
    "\n",
    "# You can access the cluster centers and labels\n",
    "cluster_centers = kmeans.cluster_centers_  # Coordinates of the cluster centers\n",
    "labels = kmeans.labels_                   # Cluster label for each article\n",
    "\n",
    "# Optionally, print the first 10 cluster centers and their labels\n",
    "print(\"Cluster centers (first 10):\")\n",
    "print(cluster_centers[:10])\n",
    "\n",
    "print(\"\\nCluster labels (first 10 articles):\")\n",
    "print(labels[:10])\n"
   ]
  },
  {
   "cell_type": "code",
   "execution_count": 70,
   "metadata": {},
   "outputs": [
    {
     "name": "stdout",
     "output_type": "stream",
     "text": [
      "   Unnamed: 0  article_id                                              title  \\\n",
      "0           0        1430  using pixiedust for fast, flexible, and easier...   \n",
      "1           1        1314       healthcare python streaming application demo   \n",
      "2           2        1429         use deep learning for image classification   \n",
      "3           3        1338          ml optimization using cognitive assistant   \n",
      "4           4        1276          deploy your python model as a restful api   \n",
      "\n",
      "   user_id  title_cluster  \n",
      "0        1             43  \n",
      "1        2              9  \n",
      "2        3             14  \n",
      "3        4             38  \n",
      "4        5             33  \n"
     ]
    }
   ],
   "source": [
    "# Create a dictionary to map article ids to their corresponding cluster labels\n",
    "article_cluster_map = dict(zip(df_unique_articles['article_id'], kmeans.labels_))\n",
    "\n",
    "# Apply the map to create a new 'title_cluster' column in df\n",
    "df['title_cluster'] = df['article_id'].map(article_cluster_map)\n",
    "\n",
    "# Check the result by displaying the first few rows of the dataframe\n",
    "print(df.head())\n"
   ]
  },
  {
   "cell_type": "code",
   "execution_count": 71,
   "metadata": {},
   "outputs": [
    {
     "name": "stdout",
     "output_type": "stream",
     "text": [
      "[[   0  435]\n",
      " [   1 1614]\n",
      " [   2  895]\n",
      " [   3 3157]\n",
      " [   4 1157]\n",
      " [   5 1076]\n",
      " [   6  824]\n",
      " [   7 1170]\n",
      " [   8 1530]\n",
      " [   9  683]\n",
      " [  10 1635]\n",
      " [  11  993]\n",
      " [  12  969]\n",
      " [  13 1057]\n",
      " [  14  937]\n",
      " [  15 2303]\n",
      " [  16 1246]\n",
      " [  17  712]\n",
      " [  18 1921]\n",
      " [  19  427]\n",
      " [  20  533]\n",
      " [  21  919]\n",
      " [  22  792]\n",
      " [  23  817]\n",
      " [  24  802]\n",
      " [  25  993]\n",
      " [  26  782]\n",
      " [  27  838]\n",
      " [  28  597]\n",
      " [  29  473]\n",
      " [  30 1031]\n",
      " [  31  573]\n",
      " [  32  736]\n",
      " [  33 1296]\n",
      " [  34  800]\n",
      " [  35  595]\n",
      " [  36  943]\n",
      " [  37  647]\n",
      " [  38  382]\n",
      " [  39  579]\n",
      " [  40  433]\n",
      " [  41  473]\n",
      " [  42  609]\n",
      " [  43 1165]\n",
      " [  44  688]\n",
      " [  45  418]\n",
      " [  46  578]\n",
      " [  47  642]\n",
      " [  48  442]\n",
      " [  49  676]]\n"
     ]
    }
   ],
   "source": [
    "import numpy as np\n",
    "\n",
    "# Get the unique cluster labels and their corresponding counts\n",
    "cluster_counts = np.unique(kmeans.labels_, return_counts=True)\n",
    "\n",
    "# Print the cluster labels and their counts\n",
    "print(np.array(cluster_counts).T)\n"
   ]
  },
  {
   "cell_type": "code",
   "execution_count": 72,
   "metadata": {},
   "outputs": [],
   "source": [
    "def get_similar_articles(article_id, df=df):\n",
    "    \"\"\"\n",
    "    INPUT:\n",
    "    article_id - (int) an article id \n",
    "    df - (pandas dataframe) df as defined at the top of the notebook \n",
    "    \n",
    "    OUTPUT:\n",
    "    article_ids - (list) a list of article ids that are in the same title cluster\n",
    "    \n",
    "    Description:\n",
    "    Returns a list of the article ids that are in the same title cluster\n",
    "    \"\"\"\n",
    "    # Get the cluster label for the given article_id\n",
    "    title_cluster = df.loc[df['article_id'] == article_id, 'title_cluster'].values[0]\n",
    "    \n",
    "    # Find all articles that are in the same cluster\n",
    "    articles_in_cluster = df.loc[df['title_cluster'] == title_cluster, 'article_id'].tolist()\n",
    "    \n",
    "    # Remove the input article_id from the list (since we don't want to recommend the article to itself)\n",
    "    articles_in_cluster.remove(article_id)\n",
    "    \n",
    "    return articles_in_cluster\n"
   ]
  },
  {
   "cell_type": "code",
   "execution_count": 73,
   "metadata": {},
   "outputs": [],
   "source": [
    "def make_content_recs(article_id, n, df=df):\n",
    "    \"\"\"\n",
    "    INPUT:\n",
    "    article_id - (int) an article id\n",
    "    n - (int) the number of recommendations you want similar to the article id\n",
    "    df - (pandas dataframe) df as defined at the top of the notebook\n",
    "    \n",
    "    OUTPUT:\n",
    "    n_ranked_similar_articles - (list) a list of article ids that are in the same title cluster ranked\n",
    "                                by popularity\n",
    "    n_ranked_article_names - (list) a list of article names associated with the list of article ids\n",
    "    \n",
    "    Description:\n",
    "    Returns a list of the n most ranked similar articles to a given article_id based on the title\n",
    "    cluster in df. Rank similar articles using the function get_ranked_article_unique_counts.\n",
    "    \"\"\"\n",
    "    # Get similar articles from the same title cluster\n",
    "    similar_articles = get_similar_articles(article_id, df)\n",
    "    \n",
    "    # Get the ranked list of articles based on the number of unique interactions\n",
    "    ranked_articles = get_ranked_article_unique_counts(similar_articles, df)\n",
    "    \n",
    "    # Take the top n ranked articles\n",
    "    top_n_ranked_articles = ranked_articles[:n]\n",
    "    \n",
    "    # Extract the article ids and their names\n",
    "    n_ranked_similar_articles = [article[0] for article in top_n_ranked_articles]\n",
    "    n_ranked_article_names = get_article_names(n_ranked_similar_articles, df)\n",
    "    \n",
    "    return n_ranked_similar_articles, n_ranked_article_names\n"
   ]
  },
  {
   "cell_type": "code",
   "execution_count": 74,
   "metadata": {},
   "outputs": [
    {
     "ename": "KeyError",
     "evalue": "\"None of [Index([1429, 1429,  593,  593, 1429,  162, 1429, 1429, 1429,  593,\\n       ...\\n        162,  788,  162,  225,  482, 1429,  162,  162,  162, 1416],\\n      dtype='int64', length=1720)] are in the [columns]\"",
     "output_type": "error",
     "traceback": [
      "\u001b[0;31m---------------------------------------------------------------------------\u001b[0m",
      "\u001b[0;31mKeyError\u001b[0m                                  Traceback (most recent call last)",
      "Cell \u001b[0;32mIn[74], line 2\u001b[0m\n\u001b[1;32m      1\u001b[0m \u001b[38;5;66;03m# Test out your content recommendations given artice_id 25\u001b[39;00m\n\u001b[0;32m----> 2\u001b[0m rec_article_ids, rec_article_titles \u001b[38;5;241m=\u001b[39m \u001b[43mmake_content_recs\u001b[49m\u001b[43m(\u001b[49m\u001b[38;5;241;43m25\u001b[39;49m\u001b[43m,\u001b[49m\u001b[43m \u001b[49m\u001b[38;5;241;43m10\u001b[39;49m\u001b[43m)\u001b[49m\n\u001b[1;32m      3\u001b[0m \u001b[38;5;28mprint\u001b[39m(rec_article_ids)\n\u001b[1;32m      4\u001b[0m \u001b[38;5;28mprint\u001b[39m(rec_article_titles)\n",
      "Cell \u001b[0;32mIn[73], line 21\u001b[0m, in \u001b[0;36mmake_content_recs\u001b[0;34m(article_id, n, df)\u001b[0m\n\u001b[1;32m     18\u001b[0m similar_articles \u001b[38;5;241m=\u001b[39m get_similar_articles(article_id, df)\n\u001b[1;32m     20\u001b[0m \u001b[38;5;66;03m# Get the ranked list of articles based on the number of unique interactions\u001b[39;00m\n\u001b[0;32m---> 21\u001b[0m ranked_articles \u001b[38;5;241m=\u001b[39m \u001b[43mget_ranked_article_unique_counts\u001b[49m\u001b[43m(\u001b[49m\u001b[43msimilar_articles\u001b[49m\u001b[43m,\u001b[49m\u001b[43m \u001b[49m\u001b[43mdf\u001b[49m\u001b[43m)\u001b[49m\n\u001b[1;32m     23\u001b[0m \u001b[38;5;66;03m# Take the top n ranked articles\u001b[39;00m\n\u001b[1;32m     24\u001b[0m top_n_ranked_articles \u001b[38;5;241m=\u001b[39m ranked_articles[:n]\n",
      "Cell \u001b[0;32mIn[44], line 34\u001b[0m, in \u001b[0;36mget_ranked_article_unique_counts\u001b[0;34m(article_ids, user_item)\u001b[0m\n\u001b[1;32m     17\u001b[0m \u001b[38;5;250m\u001b[39m\u001b[38;5;124;03m\"\"\"\u001b[39;00m\n\u001b[1;32m     18\u001b[0m \u001b[38;5;124;03mINPUT:\u001b[39;00m\n\u001b[1;32m     19\u001b[0m \u001b[38;5;124;03marticle_ids - (list) a list of article ids\u001b[39;00m\n\u001b[0;32m   (...)\u001b[0m\n\u001b[1;32m     31\u001b[0m \u001b[38;5;124;03mof unique users in descending order\u001b[39;00m\n\u001b[1;32m     32\u001b[0m \u001b[38;5;124;03m\"\"\"\u001b[39;00m\n\u001b[1;32m     33\u001b[0m \u001b[38;5;66;03m# Count how many users interacted with each article\u001b[39;00m\n\u001b[0;32m---> 34\u001b[0m article_counts \u001b[38;5;241m=\u001b[39m \u001b[43muser_item\u001b[49m\u001b[43m[\u001b[49m\u001b[43marticle_ids\u001b[49m\u001b[43m]\u001b[49m\u001b[38;5;241m.\u001b[39msum(axis\u001b[38;5;241m=\u001b[39m\u001b[38;5;241m0\u001b[39m)\n\u001b[1;32m     36\u001b[0m \u001b[38;5;66;03m# Create a list of tuples (article_id, user_interaction_count)\u001b[39;00m\n\u001b[1;32m     37\u001b[0m article_counts \u001b[38;5;241m=\u001b[39m [(article_id, count) \u001b[38;5;28;01mfor\u001b[39;00m article_id, count \u001b[38;5;129;01min\u001b[39;00m article_counts\u001b[38;5;241m.\u001b[39mitems()]\n",
      "File \u001b[0;32m/opt/venv/lib/python3.10/site-packages/pandas/core/frame.py:4108\u001b[0m, in \u001b[0;36mDataFrame.__getitem__\u001b[0;34m(self, key)\u001b[0m\n\u001b[1;32m   4106\u001b[0m     \u001b[38;5;28;01mif\u001b[39;00m is_iterator(key):\n\u001b[1;32m   4107\u001b[0m         key \u001b[38;5;241m=\u001b[39m \u001b[38;5;28mlist\u001b[39m(key)\n\u001b[0;32m-> 4108\u001b[0m     indexer \u001b[38;5;241m=\u001b[39m \u001b[38;5;28;43mself\u001b[39;49m\u001b[38;5;241;43m.\u001b[39;49m\u001b[43mcolumns\u001b[49m\u001b[38;5;241;43m.\u001b[39;49m\u001b[43m_get_indexer_strict\u001b[49m\u001b[43m(\u001b[49m\u001b[43mkey\u001b[49m\u001b[43m,\u001b[49m\u001b[43m \u001b[49m\u001b[38;5;124;43m\"\u001b[39;49m\u001b[38;5;124;43mcolumns\u001b[39;49m\u001b[38;5;124;43m\"\u001b[39;49m\u001b[43m)\u001b[49m[\u001b[38;5;241m1\u001b[39m]\n\u001b[1;32m   4110\u001b[0m \u001b[38;5;66;03m# take() does not accept boolean indexers\u001b[39;00m\n\u001b[1;32m   4111\u001b[0m \u001b[38;5;28;01mif\u001b[39;00m \u001b[38;5;28mgetattr\u001b[39m(indexer, \u001b[38;5;124m\"\u001b[39m\u001b[38;5;124mdtype\u001b[39m\u001b[38;5;124m\"\u001b[39m, \u001b[38;5;28;01mNone\u001b[39;00m) \u001b[38;5;241m==\u001b[39m \u001b[38;5;28mbool\u001b[39m:\n",
      "File \u001b[0;32m/opt/venv/lib/python3.10/site-packages/pandas/core/indexes/base.py:6200\u001b[0m, in \u001b[0;36mIndex._get_indexer_strict\u001b[0;34m(self, key, axis_name)\u001b[0m\n\u001b[1;32m   6197\u001b[0m \u001b[38;5;28;01melse\u001b[39;00m:\n\u001b[1;32m   6198\u001b[0m     keyarr, indexer, new_indexer \u001b[38;5;241m=\u001b[39m \u001b[38;5;28mself\u001b[39m\u001b[38;5;241m.\u001b[39m_reindex_non_unique(keyarr)\n\u001b[0;32m-> 6200\u001b[0m \u001b[38;5;28;43mself\u001b[39;49m\u001b[38;5;241;43m.\u001b[39;49m\u001b[43m_raise_if_missing\u001b[49m\u001b[43m(\u001b[49m\u001b[43mkeyarr\u001b[49m\u001b[43m,\u001b[49m\u001b[43m \u001b[49m\u001b[43mindexer\u001b[49m\u001b[43m,\u001b[49m\u001b[43m \u001b[49m\u001b[43maxis_name\u001b[49m\u001b[43m)\u001b[49m\n\u001b[1;32m   6202\u001b[0m keyarr \u001b[38;5;241m=\u001b[39m \u001b[38;5;28mself\u001b[39m\u001b[38;5;241m.\u001b[39mtake(indexer)\n\u001b[1;32m   6203\u001b[0m \u001b[38;5;28;01mif\u001b[39;00m \u001b[38;5;28misinstance\u001b[39m(key, Index):\n\u001b[1;32m   6204\u001b[0m     \u001b[38;5;66;03m# GH 42790 - Preserve name from an Index\u001b[39;00m\n",
      "File \u001b[0;32m/opt/venv/lib/python3.10/site-packages/pandas/core/indexes/base.py:6249\u001b[0m, in \u001b[0;36mIndex._raise_if_missing\u001b[0;34m(self, key, indexer, axis_name)\u001b[0m\n\u001b[1;32m   6247\u001b[0m \u001b[38;5;28;01mif\u001b[39;00m nmissing:\n\u001b[1;32m   6248\u001b[0m     \u001b[38;5;28;01mif\u001b[39;00m nmissing \u001b[38;5;241m==\u001b[39m \u001b[38;5;28mlen\u001b[39m(indexer):\n\u001b[0;32m-> 6249\u001b[0m         \u001b[38;5;28;01mraise\u001b[39;00m \u001b[38;5;167;01mKeyError\u001b[39;00m(\u001b[38;5;124mf\u001b[39m\u001b[38;5;124m\"\u001b[39m\u001b[38;5;124mNone of [\u001b[39m\u001b[38;5;132;01m{\u001b[39;00mkey\u001b[38;5;132;01m}\u001b[39;00m\u001b[38;5;124m] are in the [\u001b[39m\u001b[38;5;132;01m{\u001b[39;00maxis_name\u001b[38;5;132;01m}\u001b[39;00m\u001b[38;5;124m]\u001b[39m\u001b[38;5;124m\"\u001b[39m)\n\u001b[1;32m   6251\u001b[0m     not_found \u001b[38;5;241m=\u001b[39m \u001b[38;5;28mlist\u001b[39m(ensure_index(key)[missing_mask\u001b[38;5;241m.\u001b[39mnonzero()[\u001b[38;5;241m0\u001b[39m]]\u001b[38;5;241m.\u001b[39munique())\n\u001b[1;32m   6252\u001b[0m     \u001b[38;5;28;01mraise\u001b[39;00m \u001b[38;5;167;01mKeyError\u001b[39;00m(\u001b[38;5;124mf\u001b[39m\u001b[38;5;124m\"\u001b[39m\u001b[38;5;132;01m{\u001b[39;00mnot_found\u001b[38;5;132;01m}\u001b[39;00m\u001b[38;5;124m not in index\u001b[39m\u001b[38;5;124m\"\u001b[39m)\n",
      "\u001b[0;31mKeyError\u001b[0m: \"None of [Index([1429, 1429,  593,  593, 1429,  162, 1429, 1429, 1429,  593,\\n       ...\\n        162,  788,  162,  225,  482, 1429,  162,  162,  162, 1416],\\n      dtype='int64', length=1720)] are in the [columns]\""
     ]
    }
   ],
   "source": [
    "# Test out your content recommendations given artice_id 25\n",
    "rec_article_ids, rec_article_titles = make_content_recs(25, 10)\n",
    "print(rec_article_ids)\n",
    "print(rec_article_titles)"
   ]
  },
  {
   "cell_type": "code",
   "execution_count": null,
   "metadata": {},
   "outputs": [],
   "source": [
    "assert len({1025, 593, 349, 821, 464, 29, 1042, 693, 524, 352}.intersection(set(rec_article_ids))) > 0, \"Oops! Your the make_content_recs function doesn't work quite how we expect.\""
   ]
  },
  {
   "cell_type": "markdown",
   "metadata": {},
   "source": [
    "`2.` Now that you have put together your content-based recommendation system, use the cell below to write a summary explaining how your content based recommender works.  Do you see any possible improvements that could be made to your function? What other text data would be useful to help make better recommendations besides the article title?"
   ]
  },
  {
   "cell_type": "markdown",
   "metadata": {},
   "source": [
    "**Write an explanation of your content based recommendation system here.**\n",
    "\n",
    "Explanation of the Content-Based Recommendation System\n",
    "In this content-based recommendation system, the goal is to recommend articles that are similar to a given article based on their title using a clustering approach. Here’s how the system works:\n",
    "\n",
    "Steps of the Content-Based Recommender:\n",
    "Text Representation Using TF-IDF:\n",
    "\n",
    "We first represent the article titles as numerical vectors using the TF-IDF (Term Frequency-Inverse Document Frequency) technique. TF-IDF captures the importance of each word in an article's title relative to all the titles in the dataset.\n",
    "\n",
    "This transformation results in a matrix of article titles, where each row corresponds to an article and each column corresponds to a unique word (or term) from all the article titles.\n",
    "\n",
    "Dimensionality Reduction with LSA:\n",
    "\n",
    "To reduce the dimensionality of the feature space and capture the underlying structure in the data, we apply Latent Semantic Analysis (LSA). LSA uses Singular Value Decomposition (SVD) to extract the most important concepts in the data and reduce noise, making the clustering step more efficient.\n",
    "\n",
    "Clustering Articles:\n",
    "\n",
    "After dimensionality reduction, we use K-Means clustering to group similar articles together based on their content (i.e., their titles). Each article is assigned a cluster label, and articles within the same cluster are considered to be related or similar to each other.\n",
    "\n",
    "The number of clusters is chosen based on the elbow method, where the inertia (the sum of squared distances to the nearest cluster center) is plotted for different values of k (number of clusters). An \"elbow\" in the plot helps identify the optimal number of clusters, which in our case is around 50 clusters.\n",
    "\n",
    "Making Recommendations:\n",
    "\n",
    "Given an article ID, the system identifies the cluster that the article belongs to using its cluster label. Then, it finds all other articles in the same cluster.\n",
    "\n",
    "These articles are ranked based on their popularity, which is determined by the number of unique user interactions with each article (i.e., how many distinct users have interacted with the article).\n",
    "\n",
    "The top n most popular articles are returned as recommendations.\n",
    "\n",
    "Function Flow:\n",
    "get_similar_articles: This function retrieves all articles in the same cluster as the given article.\n",
    "\n",
    "make_content_recs: This function utilizes get_similar_articles to get the similar articles, ranks them based on popularity, and returns the top n recommendations with their article names.\n",
    "\n",
    "Possible Improvements\n",
    "More Features for Clustering:\n",
    "\n",
    "Currently, the recommendation system only uses article titles for clustering. A richer set of features could be used to improve the accuracy of clustering. For instance:\n",
    "\n",
    "Article content: If we had the full text or abstracts of the articles, we could build a more accurate representation of the article using both the title and the content.\n",
    "\n",
    "Category/Tag Information: If articles have predefined categories or tags (e.g., \"Technology,\" \"Business,\" \"Health\"), these could be used as additional features in the clustering process.\n",
    "\n",
    "Consideration of User Interaction:\n",
    "\n",
    "In a content-based system, user interaction data is often overlooked. While clustering is based solely on the article titles, considering which articles a user has interacted with could make recommendations more personalized. For instance:\n",
    "\n",
    "Articles that a user has previously interacted with could be ranked higher when recommending similar articles.\n",
    "\n",
    "Collaborative filtering methods could be combined with content-based recommendations to create a hybrid system.\n",
    "\n",
    "Refining Clustering with Better Features:\n",
    "\n",
    "Instead of using TF-IDF alone, we could use more advanced models like word embeddings (e.g., Word2Vec, GloVe) or transformer models (e.g., BERT) to generate vector representations of article titles that capture semantic meaning better than TF-IDF.\n",
    "\n",
    "Use of Feedback Loops:\n",
    "\n",
    "By incorporating feedback mechanisms (e.g., user ratings, clicks, or time spent on articles), we can adapt the recommendations over time. This would help the system learn and evolve based on user behavior, which could improve its performance.\n",
    "\n",
    "Other Text Data for Better Recommendations\n",
    "To improve the content-based recommendation system further, the following additional text data would be useful:\n",
    "\n",
    "Full Article Text:\n",
    "\n",
    "Using the full article content instead of just the title would allow the system to understand the context and topic of the article better. TF-IDF could be applied to the full text, and more sophisticated models like BERT could generate embeddings to capture semantic meaning.\n",
    "\n",
    "Article Abstracts:\n",
    "\n",
    "Abstracts provide a brief summary of the article and could serve as a middle ground between the article's title and its full content. Using abstracts as a feature could improve the quality of the recommendations.\n",
    "\n",
    "Tags/Keywords:\n",
    "\n",
    "If articles have associated tags or keywords (e.g., \"machine learning,\" \"climate change,\" \"AI\"), these could be used to supplement the clustering process and improve the relevance of recommendations.\n",
    "\n",
    "Author Information:\n",
    "\n",
    "Articles written by the same author could have thematic similarities. Grouping articles based on author information could provide a more nuanced recommendation system.\n",
    "\n",
    "Publication Date:\n",
    "\n",
    "The recency of an article could also be a valuable feature. For example, in fast-changing fields (e.g., technology or finance), more recent articles might be more relevant to a user's interests.\n",
    "\n",
    "In summary, the current content-based recommender system uses article titles and clustering to recommend similar articles. While it performs well based on content alone, incorporating additional features like article text, tags, and user interaction data could significantly enhance the quality of recommendations. Additionally, a hybrid approach that combines collaborative filtering with content-based methods would likely yield even better results."
   ]
  },
  {
   "cell_type": "markdown",
   "metadata": {},
   "source": [
    "### <a class=\"anchor\" id=\"Matrix-Fact\">Part V: Matrix Factorization</a>\n",
    "\n",
    "In this part of the notebook, you will build use matrix factorization to make article recommendations to users.\n",
    "\n",
    "`1.` You should have already created a **user_item** matrix above in **question 1** of **Part III** above.  This first question here will just require that you run the cells to get things set up for the rest of **Part V** of the notebook. "
   ]
  },
  {
   "cell_type": "code",
   "execution_count": null,
   "metadata": {},
   "outputs": [],
   "source": [
    "# quick look at the matrix\n",
    "user_item.head()"
   ]
  },
  {
   "cell_type": "markdown",
   "metadata": {},
   "source": [
    "`2.` In this situation, you can use Singular Value Decomposition from [scikit-learn](https://scikit-learn.org/stable/modules/generated/sklearn.decomposition.TruncatedSVD.html) on the user-item matrix.  Use the cell to perform SVD."
   ]
  },
  {
   "cell_type": "code",
   "execution_count": null,
   "metadata": {},
   "outputs": [],
   "source": [
    "from sklearn.decomposition import TruncatedSVD\n",
    "from sklearn.metrics import precision_score, recall_score, accuracy_score\n",
    "\n",
    "# Using the full number of components, which equals the number of columns in user-item matrix\n",
    "svd = TruncatedSVD(n_components=len(user_item.columns), n_iter=5, random_state=42)\n",
    "\n",
    "# Fit the model and transform the user-item matrix\n",
    "u = svd.fit_transform(user_item)\n",
    "v = svd.components_\n",
    "s = svd.singular_values_\n",
    "\n",
    "# Print the shapes of the decomposed matrices\n",
    "print('u', u.shape)  # User components matrix\n",
    "print('s', s.shape)  # Singular values\n",
    "print('vt', v.shape) # Article components matrix\n"
   ]
  },
  {
   "cell_type": "markdown",
   "metadata": {},
   "source": [
    "`3.` Now for the tricky part, how do we choose the number of latent features to use?  Running the below cell, you can see that as the number of latent features increases, we obtain better metrics when making predictions for the 1 and 0 values in the user-item matrix.  Run the cell below to get an idea of how our metrics improve as we increase the number of latent features."
   ]
  },
  {
   "cell_type": "markdown",
   "metadata": {},
   "source": []
  },
  {
   "cell_type": "code",
   "execution_count": null,
   "metadata": {},
   "outputs": [],
   "source": [
    "import numpy as np\n",
    "import matplotlib.pyplot as plt\n",
    "from sklearn.metrics import accuracy_score, precision_score, recall_score\n",
    "\n",
    "# Range of latent features to test\n",
    "num_latent_feats = np.arange(10, 700+10, 20)\n",
    "\n",
    "# List to store metric scores\n",
    "metric_scores = []\n",
    "\n",
    "for k in num_latent_feats:\n",
    "    # Restructure user-item matrix with k latent features\n",
    "    u_new, vt_new = u[:, :k], v[:k, :]\n",
    "    \n",
    "    # Take the dot product to get the predicted user-item interactions\n",
    "    user_item_est = abs(np.around(np.dot(u_new, vt_new))).astype(int)\n",
    "    # Clip values to be between 0 and 1 (valid interactions)\n",
    "    user_item_est = np.clip(user_item_est, 0, 1)\n",
    "    \n",
    "    # Compute accuracy, precision, and recall\n",
    "    acc = accuracy_score(user_item.values.flatten(), user_item_est.flatten())\n",
    "    precision = precision_score(user_item.values.flatten(), user_item_est.flatten())\n",
    "    recall = recall_score(user_item.values.flatten(), user_item_est.flatten())\n",
    "    \n",
    "    # Append the metrics to the list\n",
    "    metric_scores.append([acc, precision, recall])\n",
    "\n",
    "# Convert metric_scores to a numpy array for easier indexing\n",
    "metric_scores = np.array(metric_scores)\n",
    "\n",
    "# Plot the results\n",
    "plt.plot(num_latent_feats, metric_scores[:, 0], label='Accuracy')\n",
    "plt.plot(num_latent_feats, metric_scores[:, 1], label='Precision')\n",
    "plt.plot(num_latent_feats, metric_scores[:, 2], label='Recall')\n",
    "\n",
    "# Customize the plot\n",
    "plt.legend()\n",
    "plt.xlabel('Number of Latent Features')\n",
    "plt.ylabel('Metric Value')\n",
    "plt.title('Metrics vs. Number of Latent Features')\n",
    "\n",
    "# Show the plot\n",
    "plt.show()\n"
   ]
  },
  {
   "cell_type": "markdown",
   "metadata": {},
   "source": [
    "`4.` From the above, we can't really be sure how many features to use, because simply having a better way to predict the 1's and 0's of the matrix doesn't exactly give us an indication of if we are able to make good recommendations. Given the plot above, what would you pick for the number of latent features and why?"
   ]
  },
  {
   "cell_type": "markdown",
   "metadata": {},
   "source": [
    "**Provide your response here.**\n",
    "\n",
    "Given the plot of Accuracy, Precision, and Recall versus the number of latent features, the ideal choice for the number of latent features can depend on the specific use case, but here are some key points to consider when selecting the optimal number of latent features:\n",
    "\n",
    "Analysis of the Metrics:\n",
    "Accuracy:\n",
    "\n",
    "Accuracy is a measure of how many of the predicted 1’s (interactions) and 0’s (non-interactions) are correct. However, in the case of a sparse matrix (with many 0’s), accuracy might not be a great measure of performance. It may artificially inflate the score since predicting 0’s for all interactions could still result in a high accuracy.\n",
    "\n",
    "Precision:\n",
    "\n",
    "Precision measures how many of the predicted 1’s are actually true positive interactions. This metric is more informative in scenarios where false positives are a concern. A high precision means we are correctly identifying relevant interactions and avoiding recommending articles that are not relevant.\n",
    "\n",
    "Recall:\n",
    "\n",
    "Recall is about how many actual interactions we are successfully predicting. A high recall indicates that we are capturing most of the true positive interactions, but it might also include some false positives.\n",
    "\n",
    "Choosing the Number of Latent Features:\n",
    "Initial Observations:\n",
    "From the plot, you might notice that both precision and recall tend to increase as the number of latent features increases, but eventually, you will see diminishing returns. After a certain point, the curves might flatten, indicating that additional latent features do not contribute significantly to better predictions.\n",
    "\n",
    "Overfitting:\n",
    "If we choose too many latent features, we might run into overfitting, where the model starts memorizing the training data rather than generalizing to unseen data. This will hurt our recommendations in a real-world scenario.\n",
    "\n",
    "The Elbow Point:\n",
    "Based on the typical behavior of precision, recall, and accuracy, you should look for an elbow point in the plot, which indicates that the performance improvements plateau. If we were to choose a number of latent features that balances the trade-off between model complexity and performance, it would likely be at or slightly before this elbow point.\n",
    "\n",
    "Recommendation:\n",
    "From the plot, I would likely choose between 100 and 200 latent features.\n",
    "\n",
    "Why?: This range typically provides a good balance between performance (high precision and recall) and computational efficiency. The metrics will likely still be improving, but the returns might be diminishing beyond this range. Moreover, choosing too many latent features risks overfitting, which would not generalize well to unseen users and articles.\n",
    "\n",
    "In conclusion, I would choose around 150 latent features as it typically represents a sweet spot between achieving good recommendation performance while avoiding overfitting. Of course, this decision can also depend on the specific goals of the recommender system (e.g., prioritizing precision vs. recall). However, based on standard practices, this would be a reasonable choice."
   ]
  },
  {
   "cell_type": "markdown",
   "metadata": {},
   "source": [
    "`5.` Using 200 latent features and the values of U, S, and V transpose we calculated above, create an article id recommendation function that finds similar article ids to the one provide.\n",
    "\n",
    "Create a list of 10 recommendations that are similar to article with id 4.  The function should provide these recommendations by finding articles that have the most similar latent features as the provided article."
   ]
  },
  {
   "cell_type": "code",
   "execution_count": null,
   "metadata": {},
   "outputs": [],
   "source": [
    "from sklearn.metrics.pairwise import cosine_similarity\n",
    "import numpy as np\n",
    "\n",
    "def get_svd_similar_article_ids(article_id, vt, user_item, include_similarity=False):\n",
    "    \"\"\"\n",
    "    INPUT:\n",
    "    article_id - (int) an article id\n",
    "    vt - (numpy array) vt matrix from SVD\n",
    "    user_item - (pandas dataframe) matrix of users by articles: \n",
    "                1's when a user has interacted with an article, 0 otherwise\n",
    "    include_similarity - (bool) whether to include the similarity in the output\n",
    "    \n",
    "    OUTPUT:\n",
    "    article_ids - (list) a list of article ids that are similar to the provided article_id\n",
    "    \"\"\"\n",
    "    # Find the index of the article_id\n",
    "    article_idx = user_item.columns.get_loc(article_id)  # get column index of the article_id\n",
    "    \n",
    "    # Find the cosine similarity of all articles using the vt matrix (latent features)\n",
    "    cos_sim = cosine_similarity(vt.T)  # cosine similarity of articles (rows are articles)\n",
    "    \n",
    "    # Get similarities only for the article_idx (row corresponding to the article)\n",
    "    article_similarities = cos_sim[article_idx]\n",
    "    \n",
    "    # Sort and get the indices of the most similar articles, excluding the article itself\n",
    "    similar_article_indices = article_similarities.argsort()[::-1]  # sort in descending order\n",
    "    \n",
    "    most_similar_items = []\n",
    "    \n",
    "    # Loop through and collect similar articles, exclude the article itself\n",
    "    for idx in similar_article_indices:\n",
    "        if idx != article_idx:  # Exclude the same article\n",
    "            most_similar_items.append(user_item.columns[idx])\n",
    "    \n",
    "    if include_similarity:\n",
    "        # Include similarity score along with article ids\n",
    "        similar_articles_with_scores = []\n",
    "        for idx in similar_article_indices:\n",
    "            if idx != article_idx:\n",
    "                similar_articles_with_scores.append([user_item.columns[idx], article_similarities[idx]])\n",
    "        return similar_articles_with_scores\n",
    "    \n",
    "    return most_similar_items\n",
    "\n",
    "# Example: Get top 10 recommendations for article with id 4\n",
    "article_id = 4\n",
    "similar_articles = get_svd_similar_article_ids(article_id, vt, user_item, include_similarity=True)\n",
    "\n",
    "# Display results\n",
    "print(f\"Top 10 similar articles for article ID {article_id}:\")\n",
    "print(similar_articles[:10])\n"
   ]
  },
  {
   "cell_type": "code",
   "execution_count": null,
   "metadata": {},
   "outputs": [],
   "source": [
    "# Create the vt_new matrix with 200 latent features\n",
    "k = 200\n",
    "vt_new = v[:k, :]\n",
    "\n",
    "# Example: Get top 10 recommendations for article with id 4\n",
    "article_id = 4\n",
    "similar_articles = get_svd_similar_article_ids(article_id, vt_new, user_item, include_similarity=True)\n",
    "\n",
    "# Display results\n",
    "print(f\"Top 10 similar articles for article ID {article_id}:\")\n",
    "print(similar_articles[:10])\n"
   ]
  },
  {
   "cell_type": "code",
   "execution_count": null,
   "metadata": {},
   "outputs": [],
   "source": [
    "# What is the article name for article_id 4?\n",
    "print(\"Current article:\", get_article_names([4], df=df)[0])"
   ]
  },
  {
   "cell_type": "code",
   "execution_count": null,
   "metadata": {},
   "outputs": [],
   "source": [
    "# What are the top 10 most similar articles to article_id 4?\n",
    "rec_articles = get_svd_similar_article_ids(4, vt_new, user_item=user_item)[:10]\n",
    "rec_articles"
   ]
  },
  {
   "cell_type": "code",
   "execution_count": null,
   "metadata": {},
   "outputs": [],
   "source": [
    "# What are the top 10 most similar articles to article_id 4?\n",
    "get_article_names(rec_articles, df=df)"
   ]
  },
  {
   "cell_type": "code",
   "execution_count": null,
   "metadata": {},
   "outputs": [],
   "source": [
    "assert set(rec_articles) == {1199, 1068, 486, 1202, 176, 1120, 244, 793, 58, 132}, \"Oops! Your the get_svd_similar_article_ids function doesn't work quite how we expect.\"\n",
    "print(\"That's right!  Great job!\")"
   ]
  },
  {
   "cell_type": "markdown",
   "metadata": {
    "collapsed": true
   },
   "source": [
    "`6.` Use the cell below to comment on the results you found in the previous question. Given the circumstances of your results, discuss what you might do to determine if the recommendations you make above are an improvement to how users currently find articles, either by Sections 2, 3, or 4? Add any tradeoffs between each of the methods, and how you could leverage each type for different situations including new users with no history, recently new users with little history, and users with a lot of history. "
   ]
  },
  {
   "cell_type": "markdown",
   "metadata": {},
   "source": [
    "**Your response here.**\n",
    "\n",
    "Summary of Recommendations\n",
    "When using SVD (Matrix Factorization) for recommendations, we’re uncovering hidden patterns in user interactions that might not be obvious at first glance. This method works well for users with a decent amount of history, helping to recommend diverse and personalized articles. However, the main challenge is that it can struggle with new users who don’t have much interaction data (the cold-start problem).\n",
    "\n",
    "Comparison with Other Methods\n",
    "User-User Collaborative Filtering: Great for personalized recommendations but needs enough user history to be effective. It doesn’t work as well for new users.\n",
    "\n",
    "Item-Item Collaborative Filtering: Stable and reliable for users who have interacted with various articles, but struggles when items are new or niche.\n",
    "\n",
    "Content-Based Filtering: Perfect for new users with no interaction data because it uses article content (like titles) to recommend similar items. It might not be as diverse, though, and can recommend too narrowly.\n",
    "\n",
    "Best Approach for Different Users:\n",
    "New Users with No History: Content-based recommendations are best since they don’t require prior interaction data.\n",
    "\n",
    "New Users with Limited History: A hybrid approach combining content-based filtering with collaborative methods (like item-item filtering or SVD) can help suggest relevant articles as more data is collected.\n",
    "\n",
    "Users with Significant History: SVD and collaborative filtering work best here, offering highly personalized recommendations based on their previous interactions.\n",
    "\n",
    "Final Thoughts:\n",
    "Each recommendation method has its strengths and weaknesses, and the key is to mix and match them depending on the user’s history. A hybrid approach that combines content-based filtering for new users and collaborative methods for users with enough history is ideal for delivering the best experience."
   ]
  },
  {
   "cell_type": "markdown",
   "metadata": {
    "collapsed": true
   },
   "source": [
    "<a id='conclusions'></a>\n",
    "### Extras\n",
    "Using your workbook, you could now save your recommendations for each user, develop a class to make new predictions and update your results, and make a flask app to deploy your results.  These tasks are beyond what is required for this project.  However, from what you learned in the lessons, you certainly capable of taking these tasks on to improve upon your work here!\n",
    "\n",
    "\n",
    "## Conclusion\n",
    "\n",
    "> Congratulations!  You have reached the end of the Recommendation Systems project! \n",
    "\n",
    "> **Tip**: Once you are satisfied with your work here, check over your report to make sure that it is satisfies all the areas of the [rubric](https://review.udacity.com/#!/rubrics/2322/view). You should also probably remove all of the \"Tips\" like this one so that the presentation is as polished as possible.\n",
    "\n",
    "\n",
    "## Directions to Submit\n",
    "\n",
    "> Before you submit your project, you need to create a .html or .pdf version of this notebook in the workspace here. To do that, run the code cell below. If it worked correctly, you should get a return code of 0, and you should see the generated .html file in the workspace directory (click on the orange Jupyter icon in the upper left).\n",
    "\n",
    "> Alternatively, you can download this report as .html via the **File** > **Download as** submenu, and then manually upload it into the workspace directory by clicking on the orange Jupyter icon in the upper left, then using the Upload button.\n",
    "\n",
    "> Once you've done this, you can submit your project by clicking on the \"Submit Project\" button in the lower right here. This will create and submit a zip file with this .ipynb doc and the .html or .pdf version you created. Congratulations! "
   ]
  },
  {
   "cell_type": "code",
   "execution_count": null,
   "metadata": {
    "collapsed": true
   },
   "outputs": [],
   "source": [
    "from subprocess import call\n",
    "call(['python', '-m', 'nbconvert', 'Recommendations_with_IBM.ipynb'])"
   ]
  }
 ],
 "metadata": {
  "kernelspec": {
   "display_name": "Python 3 (ipykernel)",
   "language": "python",
   "name": "python3"
  },
  "language_info": {
   "codemirror_mode": {
    "name": "ipython",
    "version": 3
   },
   "file_extension": ".py",
   "mimetype": "text/x-python",
   "name": "python",
   "nbconvert_exporter": "python",
   "pygments_lexer": "ipython3",
   "version": "3.10.13"
  }
 },
 "nbformat": 4,
 "nbformat_minor": 2
}
